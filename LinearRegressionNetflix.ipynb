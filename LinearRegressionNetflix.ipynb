{
 "cells": [
  {
   "cell_type": "markdown",
   "id": "33fc38bf",
   "metadata": {},
   "source": [
    "# Preciting IMDB Scores\n",
    "## Build a regression model to predict the IMDb score of a TV show or movie based on features such as release year, runtime, genres, and production countries."
   ]
  },
  {
   "cell_type": "code",
   "execution_count": 25,
   "id": "c617470d",
   "metadata": {},
   "outputs": [],
   "source": [
    "from sklearn.model_selection import train_test_split\n",
    "from sklearn.linear_model import LinearRegression\n",
    "from sklearn.ensemble import RandomForestRegressor\n",
    "from sklearn.ensemble import GradientBoostingRegressor\n",
    "import json\n",
    "from sklearn.metrics import mean_squared_error, r2_score\n",
    "from sklearn.metrics import mean_absolute_error, mean_squared_error, r2_score\n",
    "from pathlib import Path\n",
    "import pandas as pd\n",
    "from pathlib import Path\n",
    "import pandas as pd\n",
    "import ast"
   ]
  },
  {
   "cell_type": "code",
   "execution_count": 26,
   "id": "3609f195",
   "metadata": {},
   "outputs": [
    {
     "data": {
      "text/html": [
       "<div>\n",
       "<style scoped>\n",
       "    .dataframe tbody tr th:only-of-type {\n",
       "        vertical-align: middle;\n",
       "    }\n",
       "\n",
       "    .dataframe tbody tr th {\n",
       "        vertical-align: top;\n",
       "    }\n",
       "\n",
       "    .dataframe thead th {\n",
       "        text-align: right;\n",
       "    }\n",
       "</style>\n",
       "<table border=\"1\" class=\"dataframe\">\n",
       "  <thead>\n",
       "    <tr style=\"text-align: right;\">\n",
       "      <th></th>\n",
       "      <th>Unnamed: 0</th>\n",
       "      <th>id</th>\n",
       "      <th>title</th>\n",
       "      <th>release_year</th>\n",
       "      <th>age_certification</th>\n",
       "      <th>runtime</th>\n",
       "      <th>genres</th>\n",
       "      <th>production_countries</th>\n",
       "      <th>seasons</th>\n",
       "      <th>imdb_score</th>\n",
       "    </tr>\n",
       "  </thead>\n",
       "  <tbody>\n",
       "    <tr>\n",
       "      <th>0</th>\n",
       "      <td>0</td>\n",
       "      <td>ts300399</td>\n",
       "      <td>Five Came Back: The Reference Films</td>\n",
       "      <td>1945</td>\n",
       "      <td>TV-MA</td>\n",
       "      <td>51</td>\n",
       "      <td>['documentation']</td>\n",
       "      <td>['US']</td>\n",
       "      <td>1.0</td>\n",
       "      <td>NaN</td>\n",
       "    </tr>\n",
       "    <tr>\n",
       "      <th>1</th>\n",
       "      <td>1</td>\n",
       "      <td>ts22164</td>\n",
       "      <td>Monty Python's Flying Circus</td>\n",
       "      <td>1969</td>\n",
       "      <td>TV-14</td>\n",
       "      <td>30</td>\n",
       "      <td>['comedy', 'european']</td>\n",
       "      <td>['GB']</td>\n",
       "      <td>4.0</td>\n",
       "      <td>8.8</td>\n",
       "    </tr>\n",
       "    <tr>\n",
       "      <th>2</th>\n",
       "      <td>2</td>\n",
       "      <td>ts45948</td>\n",
       "      <td>Monty Python's Fliegender Zirkus</td>\n",
       "      <td>1972</td>\n",
       "      <td>TV-MA</td>\n",
       "      <td>43</td>\n",
       "      <td>['comedy']</td>\n",
       "      <td>[]</td>\n",
       "      <td>1.0</td>\n",
       "      <td>8.1</td>\n",
       "    </tr>\n",
       "    <tr>\n",
       "      <th>3</th>\n",
       "      <td>3</td>\n",
       "      <td>ts20681</td>\n",
       "      <td>Seinfeld</td>\n",
       "      <td>1989</td>\n",
       "      <td>TV-PG</td>\n",
       "      <td>24</td>\n",
       "      <td>['comedy']</td>\n",
       "      <td>['US']</td>\n",
       "      <td>9.0</td>\n",
       "      <td>8.9</td>\n",
       "    </tr>\n",
       "    <tr>\n",
       "      <th>4</th>\n",
       "      <td>4</td>\n",
       "      <td>ts22082</td>\n",
       "      <td>Knight Rider</td>\n",
       "      <td>1982</td>\n",
       "      <td>TV-PG</td>\n",
       "      <td>51</td>\n",
       "      <td>['scifi', 'action', 'crime', 'drama']</td>\n",
       "      <td>['US']</td>\n",
       "      <td>4.0</td>\n",
       "      <td>6.9</td>\n",
       "    </tr>\n",
       "  </tbody>\n",
       "</table>\n",
       "</div>"
      ],
      "text/plain": [
       "   Unnamed: 0        id                                title  release_year  \\\n",
       "0           0  ts300399  Five Came Back: The Reference Films          1945   \n",
       "1           1   ts22164         Monty Python's Flying Circus          1969   \n",
       "2           2   ts45948     Monty Python's Fliegender Zirkus          1972   \n",
       "3           3   ts20681                             Seinfeld          1989   \n",
       "4           4   ts22082                         Knight Rider          1982   \n",
       "\n",
       "  age_certification  runtime                                 genres  \\\n",
       "0             TV-MA       51                      ['documentation']   \n",
       "1             TV-14       30                 ['comedy', 'european']   \n",
       "2             TV-MA       43                             ['comedy']   \n",
       "3             TV-PG       24                             ['comedy']   \n",
       "4             TV-PG       51  ['scifi', 'action', 'crime', 'drama']   \n",
       "\n",
       "  production_countries  seasons  imdb_score  \n",
       "0               ['US']      1.0         NaN  \n",
       "1               ['GB']      4.0         8.8  \n",
       "2                   []      1.0         8.1  \n",
       "3               ['US']      9.0         8.9  \n",
       "4               ['US']      4.0         6.9  "
      ]
     },
     "execution_count": 26,
     "metadata": {},
     "output_type": "execute_result"
    }
   ],
   "source": [
    "\n",
    "\n",
    "# Define the path to the directory containing the CSV files\n",
    "data_dir = Path(\"C:/Users/Qazi Fabia Hoq/OneDrive/Documents/GitHub/netflix-rating-project/resources\")\n",
    "\n",
    "# Read the showData.csv file into a DataFrame\n",
    "show_data_path = data_dir / \"showData.csv\"\n",
    "show_data = pd.read_csv(show_data_path)\n",
    "\n",
    "# Display the first few rows of the DataFrame to verify that it was read correctly\n",
    "show_data.head()\n"
   ]
  },
  {
   "cell_type": "code",
   "execution_count": 27,
   "id": "c3580de0",
   "metadata": {},
   "outputs": [
    {
     "data": {
      "text/html": [
       "<div>\n",
       "<style scoped>\n",
       "    .dataframe tbody tr th:only-of-type {\n",
       "        vertical-align: middle;\n",
       "    }\n",
       "\n",
       "    .dataframe tbody tr th {\n",
       "        vertical-align: top;\n",
       "    }\n",
       "\n",
       "    .dataframe thead th {\n",
       "        text-align: right;\n",
       "    }\n",
       "</style>\n",
       "<table border=\"1\" class=\"dataframe\">\n",
       "  <thead>\n",
       "    <tr style=\"text-align: right;\">\n",
       "      <th></th>\n",
       "      <th>Unnamed: 0</th>\n",
       "      <th>id</th>\n",
       "      <th>title</th>\n",
       "      <th>release_year</th>\n",
       "      <th>age_certification</th>\n",
       "      <th>runtime</th>\n",
       "      <th>genres</th>\n",
       "      <th>production_countries</th>\n",
       "      <th>imdb_score</th>\n",
       "    </tr>\n",
       "  </thead>\n",
       "  <tbody>\n",
       "    <tr>\n",
       "      <th>0</th>\n",
       "      <td>0</td>\n",
       "      <td>tm84618</td>\n",
       "      <td>Taxi Driver</td>\n",
       "      <td>1976</td>\n",
       "      <td>R</td>\n",
       "      <td>114</td>\n",
       "      <td>['drama', 'crime']</td>\n",
       "      <td>['US']</td>\n",
       "      <td>8.2</td>\n",
       "    </tr>\n",
       "    <tr>\n",
       "      <th>1</th>\n",
       "      <td>1</td>\n",
       "      <td>tm154986</td>\n",
       "      <td>Deliverance</td>\n",
       "      <td>1972</td>\n",
       "      <td>R</td>\n",
       "      <td>109</td>\n",
       "      <td>['drama', 'action', 'thriller', 'european']</td>\n",
       "      <td>['US']</td>\n",
       "      <td>7.7</td>\n",
       "    </tr>\n",
       "    <tr>\n",
       "      <th>2</th>\n",
       "      <td>2</td>\n",
       "      <td>tm127384</td>\n",
       "      <td>Monty Python and the Holy Grail</td>\n",
       "      <td>1975</td>\n",
       "      <td>PG</td>\n",
       "      <td>91</td>\n",
       "      <td>['fantasy', 'action', 'comedy']</td>\n",
       "      <td>['GB']</td>\n",
       "      <td>8.2</td>\n",
       "    </tr>\n",
       "    <tr>\n",
       "      <th>3</th>\n",
       "      <td>3</td>\n",
       "      <td>tm120801</td>\n",
       "      <td>The Dirty Dozen</td>\n",
       "      <td>1967</td>\n",
       "      <td>NaN</td>\n",
       "      <td>150</td>\n",
       "      <td>['war', 'action']</td>\n",
       "      <td>['GB', 'US']</td>\n",
       "      <td>7.7</td>\n",
       "    </tr>\n",
       "    <tr>\n",
       "      <th>4</th>\n",
       "      <td>4</td>\n",
       "      <td>tm70993</td>\n",
       "      <td>Life of Brian</td>\n",
       "      <td>1979</td>\n",
       "      <td>R</td>\n",
       "      <td>94</td>\n",
       "      <td>['comedy']</td>\n",
       "      <td>['GB']</td>\n",
       "      <td>8.0</td>\n",
       "    </tr>\n",
       "  </tbody>\n",
       "</table>\n",
       "</div>"
      ],
      "text/plain": [
       "   Unnamed: 0        id                            title  release_year  \\\n",
       "0           0   tm84618                      Taxi Driver          1976   \n",
       "1           1  tm154986                      Deliverance          1972   \n",
       "2           2  tm127384  Monty Python and the Holy Grail          1975   \n",
       "3           3  tm120801                  The Dirty Dozen          1967   \n",
       "4           4   tm70993                    Life of Brian          1979   \n",
       "\n",
       "  age_certification  runtime                                       genres  \\\n",
       "0                 R      114                           ['drama', 'crime']   \n",
       "1                 R      109  ['drama', 'action', 'thriller', 'european']   \n",
       "2                PG       91              ['fantasy', 'action', 'comedy']   \n",
       "3               NaN      150                            ['war', 'action']   \n",
       "4                 R       94                                   ['comedy']   \n",
       "\n",
       "  production_countries  imdb_score  \n",
       "0               ['US']         8.2  \n",
       "1               ['US']         7.7  \n",
       "2               ['GB']         8.2  \n",
       "3         ['GB', 'US']         7.7  \n",
       "4               ['GB']         8.0  "
      ]
     },
     "execution_count": 27,
     "metadata": {},
     "output_type": "execute_result"
    }
   ],
   "source": [
    "# Read the movieData.csv file into a DataFrame\n",
    "movie_data_path = data_dir / \"movieData.csv\"\n",
    "movie_data = pd.read_csv(movie_data_path)\n",
    "\n",
    "# Display the first few rows of the DataFrame to verify that it was read correctly\n",
    "movie_data.head()\n"
   ]
  },
  {
   "cell_type": "markdown",
   "id": "ff468c8f",
   "metadata": {},
   "source": [
    "# Data Preprocessing"
   ]
  },
  {
   "cell_type": "code",
   "execution_count": 28,
   "id": "5e3d6000",
   "metadata": {},
   "outputs": [],
   "source": [
    "combined_data = pd.concat([show_data, movie_data], ignore_index=True)\n"
   ]
  },
  {
   "cell_type": "code",
   "execution_count": 29,
   "id": "ecc169b6",
   "metadata": {},
   "outputs": [],
   "source": [
    "combined_data.to_csv('C:/Users/Qazi Fabia Hoq/OneDrive/Documents/GitHub/netflix-rating-project/resources/combinedmovieshow_data.csv', index=False)\n"
   ]
  },
  {
   "cell_type": "code",
   "execution_count": 30,
   "id": "a90e30b9",
   "metadata": {},
   "outputs": [],
   "source": [
    "combined_data = pd.read_csv('C:/Users/Qazi Fabia Hoq/OneDrive/Documents/GitHub/netflix-rating-project/resources/combinedmovieshow_data.csv')\n"
   ]
  },
  {
   "cell_type": "code",
   "execution_count": 31,
   "id": "1c52d1da",
   "metadata": {},
   "outputs": [
    {
     "data": {
      "text/html": [
       "<div>\n",
       "<style scoped>\n",
       "    .dataframe tbody tr th:only-of-type {\n",
       "        vertical-align: middle;\n",
       "    }\n",
       "\n",
       "    .dataframe tbody tr th {\n",
       "        vertical-align: top;\n",
       "    }\n",
       "\n",
       "    .dataframe thead th {\n",
       "        text-align: right;\n",
       "    }\n",
       "</style>\n",
       "<table border=\"1\" class=\"dataframe\">\n",
       "  <thead>\n",
       "    <tr style=\"text-align: right;\">\n",
       "      <th></th>\n",
       "      <th>Unnamed: 0</th>\n",
       "      <th>id</th>\n",
       "      <th>title</th>\n",
       "      <th>release_year</th>\n",
       "      <th>age_certification</th>\n",
       "      <th>runtime</th>\n",
       "      <th>genres</th>\n",
       "      <th>production_countries</th>\n",
       "      <th>seasons</th>\n",
       "      <th>imdb_score</th>\n",
       "    </tr>\n",
       "  </thead>\n",
       "  <tbody>\n",
       "    <tr>\n",
       "      <th>0</th>\n",
       "      <td>0</td>\n",
       "      <td>ts300399</td>\n",
       "      <td>Five Came Back: The Reference Films</td>\n",
       "      <td>1945</td>\n",
       "      <td>TV-MA</td>\n",
       "      <td>51</td>\n",
       "      <td>['documentation']</td>\n",
       "      <td>['US']</td>\n",
       "      <td>1.0</td>\n",
       "      <td>NaN</td>\n",
       "    </tr>\n",
       "    <tr>\n",
       "      <th>1</th>\n",
       "      <td>1</td>\n",
       "      <td>ts22164</td>\n",
       "      <td>Monty Python's Flying Circus</td>\n",
       "      <td>1969</td>\n",
       "      <td>TV-14</td>\n",
       "      <td>30</td>\n",
       "      <td>['comedy', 'european']</td>\n",
       "      <td>['GB']</td>\n",
       "      <td>4.0</td>\n",
       "      <td>8.8</td>\n",
       "    </tr>\n",
       "    <tr>\n",
       "      <th>2</th>\n",
       "      <td>2</td>\n",
       "      <td>ts45948</td>\n",
       "      <td>Monty Python's Fliegender Zirkus</td>\n",
       "      <td>1972</td>\n",
       "      <td>TV-MA</td>\n",
       "      <td>43</td>\n",
       "      <td>['comedy']</td>\n",
       "      <td>[]</td>\n",
       "      <td>1.0</td>\n",
       "      <td>8.1</td>\n",
       "    </tr>\n",
       "    <tr>\n",
       "      <th>3</th>\n",
       "      <td>3</td>\n",
       "      <td>ts20681</td>\n",
       "      <td>Seinfeld</td>\n",
       "      <td>1989</td>\n",
       "      <td>TV-PG</td>\n",
       "      <td>24</td>\n",
       "      <td>['comedy']</td>\n",
       "      <td>['US']</td>\n",
       "      <td>9.0</td>\n",
       "      <td>8.9</td>\n",
       "    </tr>\n",
       "    <tr>\n",
       "      <th>4</th>\n",
       "      <td>4</td>\n",
       "      <td>ts22082</td>\n",
       "      <td>Knight Rider</td>\n",
       "      <td>1982</td>\n",
       "      <td>TV-PG</td>\n",
       "      <td>51</td>\n",
       "      <td>['scifi', 'action', 'crime', 'drama']</td>\n",
       "      <td>['US']</td>\n",
       "      <td>4.0</td>\n",
       "      <td>6.9</td>\n",
       "    </tr>\n",
       "  </tbody>\n",
       "</table>\n",
       "</div>"
      ],
      "text/plain": [
       "   Unnamed: 0        id                                title  release_year  \\\n",
       "0           0  ts300399  Five Came Back: The Reference Films          1945   \n",
       "1           1   ts22164         Monty Python's Flying Circus          1969   \n",
       "2           2   ts45948     Monty Python's Fliegender Zirkus          1972   \n",
       "3           3   ts20681                             Seinfeld          1989   \n",
       "4           4   ts22082                         Knight Rider          1982   \n",
       "\n",
       "  age_certification  runtime                                 genres  \\\n",
       "0             TV-MA       51                      ['documentation']   \n",
       "1             TV-14       30                 ['comedy', 'european']   \n",
       "2             TV-MA       43                             ['comedy']   \n",
       "3             TV-PG       24                             ['comedy']   \n",
       "4             TV-PG       51  ['scifi', 'action', 'crime', 'drama']   \n",
       "\n",
       "  production_countries  seasons  imdb_score  \n",
       "0               ['US']      1.0         NaN  \n",
       "1               ['GB']      4.0         8.8  \n",
       "2                   []      1.0         8.1  \n",
       "3               ['US']      9.0         8.9  \n",
       "4               ['US']      4.0         6.9  "
      ]
     },
     "execution_count": 31,
     "metadata": {},
     "output_type": "execute_result"
    }
   ],
   "source": [
    "combined_data.head()\n"
   ]
  },
  {
   "cell_type": "code",
   "execution_count": 32,
   "id": "3333895a",
   "metadata": {},
   "outputs": [
    {
     "name": "stdout",
     "output_type": "stream",
     "text": [
      "{'', 'romance', 'animation', 'european', 'thriller', 'comedy', 'crime', 'war', 'history', 'documentation', 'horror', 'western', 'family', 'action', 'scifi', 'music', 'reality', 'drama', 'fantasy', 'sport'}\n"
     ]
    }
   ],
   "source": [
    "# Initialize an empty set to store unique genres\n",
    "unique_genres = set()\n",
    "\n",
    "# Iterate over the 'genres' column and add each genre to the set\n",
    "combined_data['genres'].apply(lambda x: unique_genres.update([genre.strip().strip(\" '[]\") for genre in x.split(',')]))\n",
    "\n",
    "# Print the unique genres\n",
    "print(unique_genres)\n"
   ]
  },
  {
   "cell_type": "code",
   "execution_count": 33,
   "id": "fdceb6a8",
   "metadata": {},
   "outputs": [
    {
     "name": "stdout",
     "output_type": "stream",
     "text": [
      "{'', 'romance', 'animation', 'european', 'thriller', 'comedy', 'crime', 'war', 'history', 'documentation', 'horror', 'western', 'family', 'action', 'scifi', 'music', 'reality', 'drama', 'fantasy', 'sport'}\n"
     ]
    }
   ],
   "source": [
    "# Clean up the 'genres' column\n",
    "combined_data['genres'] = combined_data['genres'].apply(lambda x: [genre.strip().strip(\" '[]\") for genre in x.split(',')])\n",
    "\n",
    "# Extract unique genres\n",
    "unique_genres = set()\n",
    "combined_data['genres'].apply(lambda x: unique_genres.update(x))\n",
    "\n",
    "# Encode genres\n",
    "for genre in unique_genres:\n",
    "    combined_data[genre] = combined_data['genres'].apply(lambda x: 1 if genre in x else 0)\n",
    "\n",
    "# Print unique genres\n",
    "print(unique_genres)\n"
   ]
  },
  {
   "cell_type": "code",
   "execution_count": 34,
   "id": "a515d893",
   "metadata": {},
   "outputs": [],
   "source": [
    "# Remove rows with missing values in the target variable\n",
    "combined_data = combined_data.dropna(subset=['imdb_score'])"
   ]
  },
  {
   "cell_type": "markdown",
   "id": "8a12e717",
   "metadata": {},
   "source": [
    "# Feature Selection"
   ]
  },
  {
   "cell_type": "code",
   "execution_count": 35,
   "id": "994765da",
   "metadata": {},
   "outputs": [],
   "source": [
    "X = combined_data[['release_year', 'runtime', 'western', 'fantasy', 'history', 'romance', 'crime', 'european', 'comedy', 'action', 'sport', 'thriller', 'music', 'animation', 'war', 'reality', 'horror', 'scifi', 'family', 'drama', 'documentation']]\n",
    "y = combined_data['imdb_score']\n"
   ]
  },
  {
   "cell_type": "markdown",
   "id": "8f766d20",
   "metadata": {},
   "source": [
    "# Split The Data"
   ]
  },
  {
   "cell_type": "code",
   "execution_count": 36,
   "id": "b73f8e78",
   "metadata": {},
   "outputs": [
    {
     "name": "stdout",
     "output_type": "stream",
     "text": [
      "X_train shape: (4294, 21)\n",
      "X_test shape: (1074, 21)\n",
      "y_train shape: (4294,)\n",
      "y_test shape: (1074,)\n"
     ]
    }
   ],
   "source": [
    "\n",
    "# Split the data into training and testing sets\n",
    "X_train, X_test, y_train, y_test = train_test_split(X, y, test_size=0.2, random_state=42)\n",
    "\n",
    "# Display the shape of the training and test sets\n",
    "print(\"X_train shape:\", X_train.shape)\n",
    "print(\"X_test shape:\", X_test.shape)\n",
    "print(\"y_train shape:\", y_train.shape)\n",
    "print(\"y_test shape:\", y_test.shape)\n"
   ]
  },
  {
   "cell_type": "markdown",
   "id": "5f058f26",
   "metadata": {},
   "source": [
    "# Model Selection"
   ]
  },
  {
   "cell_type": "code",
   "execution_count": 37,
   "id": "d830bf45",
   "metadata": {},
   "outputs": [],
   "source": [
    "\n",
    "# Initialize the models\n",
    "models = {\n",
    "    'Linear Regression': LinearRegression()\n",
    "}\n"
   ]
  },
  {
   "cell_type": "markdown",
   "id": "24027b61",
   "metadata": {},
   "source": [
    "# Train The Model"
   ]
  },
  {
   "cell_type": "code",
   "execution_count": 38,
   "id": "21d876fa",
   "metadata": {},
   "outputs": [
    {
     "name": "stdout",
     "output_type": "stream",
     "text": [
      "Training Linear Regression...\n",
      "Linear Regression trained.\n"
     ]
    }
   ],
   "source": [
    "for name, model in models.items():\n",
    "    print(f\"Training {name}...\")\n",
    "    # Train the model\n",
    "    model.fit(X_train, y_train)\n",
    "    print(f\"{name} trained.\")\n"
   ]
  },
  {
   "cell_type": "code",
   "execution_count": 39,
   "id": "81012c81",
   "metadata": {},
   "outputs": [
    {
     "name": "stdout",
     "output_type": "stream",
     "text": [
      "Coefficients: [-0.02773994 -0.00526004 -0.11579916  0.18058725  0.41580719 -0.12664494\n",
      "  0.14586746 -0.01860548 -0.00803708 -0.20385965  0.03635262 -0.07652127\n",
      "  0.00420428  0.44966579  0.22323952 -0.09041945 -0.48724668 -0.00947496\n",
      " -0.43177198  0.51540985  0.72176608]\n",
      "Intercept: 62.5086948263234\n"
     ]
    }
   ],
   "source": [
    "print(\"Coefficients:\", model.coef_)\n",
    "print(\"Intercept:\", model.intercept_)\n"
   ]
  },
  {
   "cell_type": "markdown",
   "id": "93f7a623",
   "metadata": {},
   "source": [
    "# Make Prediction"
   ]
  },
  {
   "cell_type": "code",
   "execution_count": 40,
   "id": "868dd54e",
   "metadata": {},
   "outputs": [
    {
     "name": "stdout",
     "output_type": "stream",
     "text": [
      "Predictions: [6.42671293 6.4073848  6.61414361 ... 6.68420992 6.50555588 6.14995543]\n"
     ]
    }
   ],
   "source": [
    "# Make predictions\n",
    "y_pred = model.predict(X_test)\n",
    "\n",
    "# Print predictions\n",
    "print(\"Predictions:\", y_pred)"
   ]
  },
  {
   "cell_type": "markdown",
   "id": "f86678ec",
   "metadata": {},
   "source": [
    "# Evaluate The Performance"
   ]
  },
  {
   "cell_type": "code",
   "execution_count": 41,
   "id": "fe2de90d",
   "metadata": {},
   "outputs": [
    {
     "name": "stdout",
     "output_type": "stream",
     "text": [
      "Mean Absolute Error: 0.823485196119407\n",
      "Mean Squared Error: 1.1243918647340323\n",
      "R-squared: 0.15549410044771972\n"
     ]
    }
   ],
   "source": [
    "# Calculate MAE\n",
    "mae = mean_absolute_error(y_test, y_pred)\n",
    "\n",
    "# Calculate MSE\n",
    "mse = mean_squared_error(y_test, y_pred)\n",
    "\n",
    "# Calculate R-squared\n",
    "r2 = r2_score(y_test, y_pred)\n",
    "\n",
    "# Print the metrics\n",
    "print(\"Mean Absolute Error:\", mae)\n",
    "print(\"Mean Squared Error:\", mse)\n",
    "print(\"R-squared:\", r2)"
   ]
  }
 ],
 "metadata": {
  "kernelspec": {
   "display_name": "Python 3 (ipykernel)",
   "language": "python",
   "name": "python3"
  },
  "language_info": {
   "codemirror_mode": {
    "name": "ipython",
    "version": 3
   },
   "file_extension": ".py",
   "mimetype": "text/x-python",
   "name": "python",
   "nbconvert_exporter": "python",
   "pygments_lexer": "ipython3",
   "version": "3.11.5"
  }
 },
 "nbformat": 4,
 "nbformat_minor": 5
}
