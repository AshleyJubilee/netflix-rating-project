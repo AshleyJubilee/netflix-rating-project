{
  "nbformat": 4,
  "nbformat_minor": 0,
  "metadata": {
    "colab": {
      "provenance": []
    },
    "kernelspec": {
      "name": "python3",
      "display_name": "Python 3"
    },
    "language_info": {
      "name": "python"
    }
  },
  "cells": [
    {
      "cell_type": "code",
      "source": [
        "import sys\n",
        "os.environ['PYSPARK_PYTHON'] = sys.executable\n",
        "os.environ['PYSPARK_DRIVER_PYTHON'] = sys.executable\n"
      ],
      "metadata": {
        "id": "3G9uROUVRhCS"
      },
      "execution_count": 338,
      "outputs": []
    },
    {
      "cell_type": "code",
      "source": [
        "# Install Java\n",
        "!apt-get install openjdk-8-jdk-headless -qq > /dev/null\n",
        "\n",
        "# Install pyspark\n",
        "!pip install pyspark\n",
        "\n",
        "# Set up Spark session\n",
        "from pyspark.sql import SparkSession\n",
        "\n",
        "spark = SparkSession.builder \\\n",
        "    .master(\"local[*]\") \\\n",
        "    .appName(\"SparkSQL\") \\\n",
        "    .config(\"spark.executor.memory\", \"2g\") \\\n",
        "    .config(\"spark.driver.memory\", \"2g\") \\\n",
        "    .getOrCreate()\n"
      ],
      "metadata": {
        "colab": {
          "base_uri": "https://localhost:8080/"
        },
        "id": "admBDOeNQS1Q",
        "outputId": "e9a335c5-d295-48a1-92f5-0ae7558e37c7"
      },
      "execution_count": 339,
      "outputs": [
        {
          "output_type": "stream",
          "name": "stdout",
          "text": [
            "Requirement already satisfied: pyspark in /usr/local/lib/python3.10/dist-packages (3.5.1)\n",
            "Requirement already satisfied: py4j==0.10.9.7 in /usr/local/lib/python3.10/dist-packages (from pyspark) (0.10.9.7)\n"
          ]
        }
      ]
    },
    {
      "cell_type": "code",
      "source": [
        "# Import packages\n",
        "from pyspark.sql import SparkSession\n",
        "import time\n",
        "import pandas as pd\n",
        "from pyspark.sql.functions import col\n",
        "from pyspark.sql.functions import current_date, expr\n",
        "\n",
        "\n",
        "\n",
        "# Create a SparkSession\n",
        "spark = SparkSession.builder.appName(\"SparkSQL\").getOrCreate()"
      ],
      "metadata": {
        "id": "miC6LQ_hQja9"
      },
      "execution_count": 340,
      "outputs": []
    },
    {
      "cell_type": "code",
      "execution_count": 341,
      "metadata": {
        "colab": {
          "base_uri": "https://localhost:8080/"
        },
        "id": "cMQ_jCzUKq1p",
        "outputId": "d49a6186-f1e5-4b13-a816-8782fb090f10"
      },
      "outputs": [
        {
          "output_type": "stream",
          "name": "stdout",
          "text": [
            "Drive already mounted at /content/drive; to attempt to forcibly remount, call drive.mount(\"/content/drive\", force_remount=True).\n"
          ]
        }
      ],
      "source": [
        "from google.colab import drive\n",
        "import pandas as pd\n",
        "\n",
        "# Mount Google Drive\n",
        "drive.mount('/content/drive')"
      ]
    },
    {
      "cell_type": "code",
      "source": [
        "# Path to the CSV files in Google Drive\n",
        "show_data_path = '/content/drive/My Drive/showData.csv'\n",
        "movie_data_path = '/content/drive/My Drive/movieData.csv'"
      ],
      "metadata": {
        "id": "qHyWFad8KyNX"
      },
      "execution_count": 342,
      "outputs": []
    },
    {
      "cell_type": "code",
      "source": [
        "# Load the CSV files into DataFrames\n",
        "show_df = pd.read_csv(show_data_path)\n",
        "movie_df = pd.read_csv(movie_data_path)\n"
      ],
      "metadata": {
        "id": "VTWoftsSMAGi"
      },
      "execution_count": 343,
      "outputs": []
    },
    {
      "cell_type": "code",
      "source": [
        "# Display the first few rows of showData.csv\n",
        "show_df.head()"
      ],
      "metadata": {
        "colab": {
          "base_uri": "https://localhost:8080/",
          "height": 434
        },
        "id": "eETvaLLRMApL",
        "outputId": "48bd26a7-24e2-4c3a-9b7a-0fed75f98d03"
      },
      "execution_count": 344,
      "outputs": [
        {
          "output_type": "execute_result",
          "data": {
            "text/plain": [
              "   Unnamed: 0        id                                title  release_year  \\\n",
              "0           0  ts300399  Five Came Back: The Reference Films          1945   \n",
              "1           1   ts22164         Monty Python's Flying Circus          1969   \n",
              "2           2   ts45948     Monty Python's Fliegender Zirkus          1972   \n",
              "3           3   ts20681                             Seinfeld          1989   \n",
              "4           4   ts22082                         Knight Rider          1982   \n",
              "\n",
              "  age_certification  runtime                                 genres  \\\n",
              "0             TV-MA       51                      ['documentation']   \n",
              "1             TV-14       30                 ['comedy', 'european']   \n",
              "2             TV-MA       43                             ['comedy']   \n",
              "3             TV-PG       24                             ['comedy']   \n",
              "4             TV-PG       51  ['scifi', 'action', 'crime', 'drama']   \n",
              "\n",
              "  production_countries  seasons  imdb_score  \n",
              "0               ['US']      1.0         NaN  \n",
              "1               ['GB']      4.0         8.8  \n",
              "2                   []      1.0         8.1  \n",
              "3               ['US']      9.0         8.9  \n",
              "4               ['US']      4.0         6.9  "
            ],
            "text/html": [
              "\n",
              "  <div id=\"df-5d12efe9-ff24-4c74-a619-ff53a590063a\" class=\"colab-df-container\">\n",
              "    <div>\n",
              "<style scoped>\n",
              "    .dataframe tbody tr th:only-of-type {\n",
              "        vertical-align: middle;\n",
              "    }\n",
              "\n",
              "    .dataframe tbody tr th {\n",
              "        vertical-align: top;\n",
              "    }\n",
              "\n",
              "    .dataframe thead th {\n",
              "        text-align: right;\n",
              "    }\n",
              "</style>\n",
              "<table border=\"1\" class=\"dataframe\">\n",
              "  <thead>\n",
              "    <tr style=\"text-align: right;\">\n",
              "      <th></th>\n",
              "      <th>Unnamed: 0</th>\n",
              "      <th>id</th>\n",
              "      <th>title</th>\n",
              "      <th>release_year</th>\n",
              "      <th>age_certification</th>\n",
              "      <th>runtime</th>\n",
              "      <th>genres</th>\n",
              "      <th>production_countries</th>\n",
              "      <th>seasons</th>\n",
              "      <th>imdb_score</th>\n",
              "    </tr>\n",
              "  </thead>\n",
              "  <tbody>\n",
              "    <tr>\n",
              "      <th>0</th>\n",
              "      <td>0</td>\n",
              "      <td>ts300399</td>\n",
              "      <td>Five Came Back: The Reference Films</td>\n",
              "      <td>1945</td>\n",
              "      <td>TV-MA</td>\n",
              "      <td>51</td>\n",
              "      <td>['documentation']</td>\n",
              "      <td>['US']</td>\n",
              "      <td>1.0</td>\n",
              "      <td>NaN</td>\n",
              "    </tr>\n",
              "    <tr>\n",
              "      <th>1</th>\n",
              "      <td>1</td>\n",
              "      <td>ts22164</td>\n",
              "      <td>Monty Python's Flying Circus</td>\n",
              "      <td>1969</td>\n",
              "      <td>TV-14</td>\n",
              "      <td>30</td>\n",
              "      <td>['comedy', 'european']</td>\n",
              "      <td>['GB']</td>\n",
              "      <td>4.0</td>\n",
              "      <td>8.8</td>\n",
              "    </tr>\n",
              "    <tr>\n",
              "      <th>2</th>\n",
              "      <td>2</td>\n",
              "      <td>ts45948</td>\n",
              "      <td>Monty Python's Fliegender Zirkus</td>\n",
              "      <td>1972</td>\n",
              "      <td>TV-MA</td>\n",
              "      <td>43</td>\n",
              "      <td>['comedy']</td>\n",
              "      <td>[]</td>\n",
              "      <td>1.0</td>\n",
              "      <td>8.1</td>\n",
              "    </tr>\n",
              "    <tr>\n",
              "      <th>3</th>\n",
              "      <td>3</td>\n",
              "      <td>ts20681</td>\n",
              "      <td>Seinfeld</td>\n",
              "      <td>1989</td>\n",
              "      <td>TV-PG</td>\n",
              "      <td>24</td>\n",
              "      <td>['comedy']</td>\n",
              "      <td>['US']</td>\n",
              "      <td>9.0</td>\n",
              "      <td>8.9</td>\n",
              "    </tr>\n",
              "    <tr>\n",
              "      <th>4</th>\n",
              "      <td>4</td>\n",
              "      <td>ts22082</td>\n",
              "      <td>Knight Rider</td>\n",
              "      <td>1982</td>\n",
              "      <td>TV-PG</td>\n",
              "      <td>51</td>\n",
              "      <td>['scifi', 'action', 'crime', 'drama']</td>\n",
              "      <td>['US']</td>\n",
              "      <td>4.0</td>\n",
              "      <td>6.9</td>\n",
              "    </tr>\n",
              "  </tbody>\n",
              "</table>\n",
              "</div>\n",
              "    <div class=\"colab-df-buttons\">\n",
              "\n",
              "  <div class=\"colab-df-container\">\n",
              "    <button class=\"colab-df-convert\" onclick=\"convertToInteractive('df-5d12efe9-ff24-4c74-a619-ff53a590063a')\"\n",
              "            title=\"Convert this dataframe to an interactive table.\"\n",
              "            style=\"display:none;\">\n",
              "\n",
              "  <svg xmlns=\"http://www.w3.org/2000/svg\" height=\"24px\" viewBox=\"0 -960 960 960\">\n",
              "    <path d=\"M120-120v-720h720v720H120Zm60-500h600v-160H180v160Zm220 220h160v-160H400v160Zm0 220h160v-160H400v160ZM180-400h160v-160H180v160Zm440 0h160v-160H620v160ZM180-180h160v-160H180v160Zm440 0h160v-160H620v160Z\"/>\n",
              "  </svg>\n",
              "    </button>\n",
              "\n",
              "  <style>\n",
              "    .colab-df-container {\n",
              "      display:flex;\n",
              "      gap: 12px;\n",
              "    }\n",
              "\n",
              "    .colab-df-convert {\n",
              "      background-color: #E8F0FE;\n",
              "      border: none;\n",
              "      border-radius: 50%;\n",
              "      cursor: pointer;\n",
              "      display: none;\n",
              "      fill: #1967D2;\n",
              "      height: 32px;\n",
              "      padding: 0 0 0 0;\n",
              "      width: 32px;\n",
              "    }\n",
              "\n",
              "    .colab-df-convert:hover {\n",
              "      background-color: #E2EBFA;\n",
              "      box-shadow: 0px 1px 2px rgba(60, 64, 67, 0.3), 0px 1px 3px 1px rgba(60, 64, 67, 0.15);\n",
              "      fill: #174EA6;\n",
              "    }\n",
              "\n",
              "    .colab-df-buttons div {\n",
              "      margin-bottom: 4px;\n",
              "    }\n",
              "\n",
              "    [theme=dark] .colab-df-convert {\n",
              "      background-color: #3B4455;\n",
              "      fill: #D2E3FC;\n",
              "    }\n",
              "\n",
              "    [theme=dark] .colab-df-convert:hover {\n",
              "      background-color: #434B5C;\n",
              "      box-shadow: 0px 1px 3px 1px rgba(0, 0, 0, 0.15);\n",
              "      filter: drop-shadow(0px 1px 2px rgba(0, 0, 0, 0.3));\n",
              "      fill: #FFFFFF;\n",
              "    }\n",
              "  </style>\n",
              "\n",
              "    <script>\n",
              "      const buttonEl =\n",
              "        document.querySelector('#df-5d12efe9-ff24-4c74-a619-ff53a590063a button.colab-df-convert');\n",
              "      buttonEl.style.display =\n",
              "        google.colab.kernel.accessAllowed ? 'block' : 'none';\n",
              "\n",
              "      async function convertToInteractive(key) {\n",
              "        const element = document.querySelector('#df-5d12efe9-ff24-4c74-a619-ff53a590063a');\n",
              "        const dataTable =\n",
              "          await google.colab.kernel.invokeFunction('convertToInteractive',\n",
              "                                                    [key], {});\n",
              "        if (!dataTable) return;\n",
              "\n",
              "        const docLinkHtml = 'Like what you see? Visit the ' +\n",
              "          '<a target=\"_blank\" href=https://colab.research.google.com/notebooks/data_table.ipynb>data table notebook</a>'\n",
              "          + ' to learn more about interactive tables.';\n",
              "        element.innerHTML = '';\n",
              "        dataTable['output_type'] = 'display_data';\n",
              "        await google.colab.output.renderOutput(dataTable, element);\n",
              "        const docLink = document.createElement('div');\n",
              "        docLink.innerHTML = docLinkHtml;\n",
              "        element.appendChild(docLink);\n",
              "      }\n",
              "    </script>\n",
              "  </div>\n",
              "\n",
              "\n",
              "<div id=\"df-37af0978-2df0-4818-91da-0fb756fa7bcc\">\n",
              "  <button class=\"colab-df-quickchart\" onclick=\"quickchart('df-37af0978-2df0-4818-91da-0fb756fa7bcc')\"\n",
              "            title=\"Suggest charts\"\n",
              "            style=\"display:none;\">\n",
              "\n",
              "<svg xmlns=\"http://www.w3.org/2000/svg\" height=\"24px\"viewBox=\"0 0 24 24\"\n",
              "     width=\"24px\">\n",
              "    <g>\n",
              "        <path d=\"M19 3H5c-1.1 0-2 .9-2 2v14c0 1.1.9 2 2 2h14c1.1 0 2-.9 2-2V5c0-1.1-.9-2-2-2zM9 17H7v-7h2v7zm4 0h-2V7h2v10zm4 0h-2v-4h2v4z\"/>\n",
              "    </g>\n",
              "</svg>\n",
              "  </button>\n",
              "\n",
              "<style>\n",
              "  .colab-df-quickchart {\n",
              "      --bg-color: #E8F0FE;\n",
              "      --fill-color: #1967D2;\n",
              "      --hover-bg-color: #E2EBFA;\n",
              "      --hover-fill-color: #174EA6;\n",
              "      --disabled-fill-color: #AAA;\n",
              "      --disabled-bg-color: #DDD;\n",
              "  }\n",
              "\n",
              "  [theme=dark] .colab-df-quickchart {\n",
              "      --bg-color: #3B4455;\n",
              "      --fill-color: #D2E3FC;\n",
              "      --hover-bg-color: #434B5C;\n",
              "      --hover-fill-color: #FFFFFF;\n",
              "      --disabled-bg-color: #3B4455;\n",
              "      --disabled-fill-color: #666;\n",
              "  }\n",
              "\n",
              "  .colab-df-quickchart {\n",
              "    background-color: var(--bg-color);\n",
              "    border: none;\n",
              "    border-radius: 50%;\n",
              "    cursor: pointer;\n",
              "    display: none;\n",
              "    fill: var(--fill-color);\n",
              "    height: 32px;\n",
              "    padding: 0;\n",
              "    width: 32px;\n",
              "  }\n",
              "\n",
              "  .colab-df-quickchart:hover {\n",
              "    background-color: var(--hover-bg-color);\n",
              "    box-shadow: 0 1px 2px rgba(60, 64, 67, 0.3), 0 1px 3px 1px rgba(60, 64, 67, 0.15);\n",
              "    fill: var(--button-hover-fill-color);\n",
              "  }\n",
              "\n",
              "  .colab-df-quickchart-complete:disabled,\n",
              "  .colab-df-quickchart-complete:disabled:hover {\n",
              "    background-color: var(--disabled-bg-color);\n",
              "    fill: var(--disabled-fill-color);\n",
              "    box-shadow: none;\n",
              "  }\n",
              "\n",
              "  .colab-df-spinner {\n",
              "    border: 2px solid var(--fill-color);\n",
              "    border-color: transparent;\n",
              "    border-bottom-color: var(--fill-color);\n",
              "    animation:\n",
              "      spin 1s steps(1) infinite;\n",
              "  }\n",
              "\n",
              "  @keyframes spin {\n",
              "    0% {\n",
              "      border-color: transparent;\n",
              "      border-bottom-color: var(--fill-color);\n",
              "      border-left-color: var(--fill-color);\n",
              "    }\n",
              "    20% {\n",
              "      border-color: transparent;\n",
              "      border-left-color: var(--fill-color);\n",
              "      border-top-color: var(--fill-color);\n",
              "    }\n",
              "    30% {\n",
              "      border-color: transparent;\n",
              "      border-left-color: var(--fill-color);\n",
              "      border-top-color: var(--fill-color);\n",
              "      border-right-color: var(--fill-color);\n",
              "    }\n",
              "    40% {\n",
              "      border-color: transparent;\n",
              "      border-right-color: var(--fill-color);\n",
              "      border-top-color: var(--fill-color);\n",
              "    }\n",
              "    60% {\n",
              "      border-color: transparent;\n",
              "      border-right-color: var(--fill-color);\n",
              "    }\n",
              "    80% {\n",
              "      border-color: transparent;\n",
              "      border-right-color: var(--fill-color);\n",
              "      border-bottom-color: var(--fill-color);\n",
              "    }\n",
              "    90% {\n",
              "      border-color: transparent;\n",
              "      border-bottom-color: var(--fill-color);\n",
              "    }\n",
              "  }\n",
              "</style>\n",
              "\n",
              "  <script>\n",
              "    async function quickchart(key) {\n",
              "      const quickchartButtonEl =\n",
              "        document.querySelector('#' + key + ' button');\n",
              "      quickchartButtonEl.disabled = true;  // To prevent multiple clicks.\n",
              "      quickchartButtonEl.classList.add('colab-df-spinner');\n",
              "      try {\n",
              "        const charts = await google.colab.kernel.invokeFunction(\n",
              "            'suggestCharts', [key], {});\n",
              "      } catch (error) {\n",
              "        console.error('Error during call to suggestCharts:', error);\n",
              "      }\n",
              "      quickchartButtonEl.classList.remove('colab-df-spinner');\n",
              "      quickchartButtonEl.classList.add('colab-df-quickchart-complete');\n",
              "    }\n",
              "    (() => {\n",
              "      let quickchartButtonEl =\n",
              "        document.querySelector('#df-37af0978-2df0-4818-91da-0fb756fa7bcc button');\n",
              "      quickchartButtonEl.style.display =\n",
              "        google.colab.kernel.accessAllowed ? 'block' : 'none';\n",
              "    })();\n",
              "  </script>\n",
              "</div>\n",
              "\n",
              "    </div>\n",
              "  </div>\n"
            ],
            "application/vnd.google.colaboratory.intrinsic+json": {
              "type": "dataframe",
              "variable_name": "show_df",
              "summary": "{\n  \"name\": \"show_df\",\n  \"rows\": 2106,\n  \"fields\": [\n    {\n      \"column\": \"Unnamed: 0\",\n      \"properties\": {\n        \"dtype\": \"number\",\n        \"std\": 608,\n        \"min\": 0,\n        \"max\": 2105,\n        \"num_unique_values\": 2106,\n        \"samples\": [\n          1433,\n          342,\n          984\n        ],\n        \"semantic_type\": \"\",\n        \"description\": \"\"\n      }\n    },\n    {\n      \"column\": \"id\",\n      \"properties\": {\n        \"dtype\": \"string\",\n        \"num_unique_values\": 2106,\n        \"samples\": [\n          \"ts216744\",\n          \"ts38511\",\n          \"ts81828\"\n        ],\n        \"semantic_type\": \"\",\n        \"description\": \"\"\n      }\n    },\n    {\n      \"column\": \"title\",\n      \"properties\": {\n        \"dtype\": \"string\",\n        \"num_unique_values\": 2097,\n        \"samples\": [\n          \"Cardcaptor Sakura\",\n          \"Fate/Extra Last Encore\",\n          \"Beyond Stranger Things\"\n        ],\n        \"semantic_type\": \"\",\n        \"description\": \"\"\n      }\n    },\n    {\n      \"column\": \"release_year\",\n      \"properties\": {\n        \"dtype\": \"number\",\n        \"std\": 5,\n        \"min\": 1945,\n        \"max\": 2022,\n        \"num_unique_values\": 42,\n        \"samples\": [\n          2009,\n          1998,\n          1987\n        ],\n        \"semantic_type\": \"\",\n        \"description\": \"\"\n      }\n    },\n    {\n      \"column\": \"age_certification\",\n      \"properties\": {\n        \"dtype\": \"category\",\n        \"num_unique_values\": 6,\n        \"samples\": [\n          \"TV-MA\",\n          \"TV-14\",\n          \"TV-Y7\"\n        ],\n        \"semantic_type\": \"\",\n        \"description\": \"\"\n      }\n    },\n    {\n      \"column\": \"runtime\",\n      \"properties\": {\n        \"dtype\": \"number\",\n        \"std\": 17,\n        \"min\": 0,\n        \"max\": 190,\n        \"num_unique_values\": 95,\n        \"samples\": [\n          65,\n          57,\n          87\n        ],\n        \"semantic_type\": \"\",\n        \"description\": \"\"\n      }\n    },\n    {\n      \"column\": \"genres\",\n      \"properties\": {\n        \"dtype\": \"category\",\n        \"num_unique_values\": 846,\n        \"samples\": [\n          \"['reality', 'european']\",\n          \"['comedy', 'drama', 'family', 'romance']\",\n          \"['drama', 'thriller', 'scifi']\"\n        ],\n        \"semantic_type\": \"\",\n        \"description\": \"\"\n      }\n    },\n    {\n      \"column\": \"production_countries\",\n      \"properties\": {\n        \"dtype\": \"category\",\n        \"num_unique_values\": 114,\n        \"samples\": [\n          \"['CN', 'US']\",\n          \"['JP']\",\n          \"['IT', 'GB']\"\n        ],\n        \"semantic_type\": \"\",\n        \"description\": \"\"\n      }\n    },\n    {\n      \"column\": \"seasons\",\n      \"properties\": {\n        \"dtype\": \"number\",\n        \"std\": 2.6890413904714925,\n        \"min\": 1.0,\n        \"max\": 42.0,\n        \"num_unique_values\": 26,\n        \"samples\": [\n          42.0,\n          14.0,\n          1.0\n        ],\n        \"semantic_type\": \"\",\n        \"description\": \"\"\n      }\n    },\n    {\n      \"column\": \"imdb_score\",\n      \"properties\": {\n        \"dtype\": \"number\",\n        \"std\": 1.0774006639651286,\n        \"min\": 2.0,\n        \"max\": 9.6,\n        \"num_unique_values\": 71,\n        \"samples\": [\n          5.8,\n          8.8,\n          5.2\n        ],\n        \"semantic_type\": \"\",\n        \"description\": \"\"\n      }\n    }\n  ]\n}"
            }
          },
          "metadata": {},
          "execution_count": 344
        }
      ]
    },
    {
      "cell_type": "code",
      "source": [
        "# Display the first few rows of movieData.csv\n",
        "movie_df.head()"
      ],
      "metadata": {
        "colab": {
          "base_uri": "https://localhost:8080/",
          "height": 400
        },
        "id": "RjSccw7iMPLX",
        "outputId": "b694c1e9-387e-455c-fb46-f50b3ca44f88"
      },
      "execution_count": 345,
      "outputs": [
        {
          "output_type": "execute_result",
          "data": {
            "text/plain": [
              "   Unnamed: 0        id                            title  release_year  \\\n",
              "0           0   tm84618                      Taxi Driver          1976   \n",
              "1           1  tm154986                      Deliverance          1972   \n",
              "2           2  tm127384  Monty Python and the Holy Grail          1975   \n",
              "3           3  tm120801                  The Dirty Dozen          1967   \n",
              "4           4   tm70993                    Life of Brian          1979   \n",
              "\n",
              "  age_certification  runtime                                       genres  \\\n",
              "0                 R      114                           ['drama', 'crime']   \n",
              "1                 R      109  ['drama', 'action', 'thriller', 'european']   \n",
              "2                PG       91              ['fantasy', 'action', 'comedy']   \n",
              "3               NaN      150                            ['war', 'action']   \n",
              "4                 R       94                                   ['comedy']   \n",
              "\n",
              "  production_countries  imdb_score  \n",
              "0               ['US']         8.2  \n",
              "1               ['US']         7.7  \n",
              "2               ['GB']         8.2  \n",
              "3         ['GB', 'US']         7.7  \n",
              "4               ['GB']         8.0  "
            ],
            "text/html": [
              "\n",
              "  <div id=\"df-57bae0e4-a63a-4929-92d3-e8f1b1a9411a\" class=\"colab-df-container\">\n",
              "    <div>\n",
              "<style scoped>\n",
              "    .dataframe tbody tr th:only-of-type {\n",
              "        vertical-align: middle;\n",
              "    }\n",
              "\n",
              "    .dataframe tbody tr th {\n",
              "        vertical-align: top;\n",
              "    }\n",
              "\n",
              "    .dataframe thead th {\n",
              "        text-align: right;\n",
              "    }\n",
              "</style>\n",
              "<table border=\"1\" class=\"dataframe\">\n",
              "  <thead>\n",
              "    <tr style=\"text-align: right;\">\n",
              "      <th></th>\n",
              "      <th>Unnamed: 0</th>\n",
              "      <th>id</th>\n",
              "      <th>title</th>\n",
              "      <th>release_year</th>\n",
              "      <th>age_certification</th>\n",
              "      <th>runtime</th>\n",
              "      <th>genres</th>\n",
              "      <th>production_countries</th>\n",
              "      <th>imdb_score</th>\n",
              "    </tr>\n",
              "  </thead>\n",
              "  <tbody>\n",
              "    <tr>\n",
              "      <th>0</th>\n",
              "      <td>0</td>\n",
              "      <td>tm84618</td>\n",
              "      <td>Taxi Driver</td>\n",
              "      <td>1976</td>\n",
              "      <td>R</td>\n",
              "      <td>114</td>\n",
              "      <td>['drama', 'crime']</td>\n",
              "      <td>['US']</td>\n",
              "      <td>8.2</td>\n",
              "    </tr>\n",
              "    <tr>\n",
              "      <th>1</th>\n",
              "      <td>1</td>\n",
              "      <td>tm154986</td>\n",
              "      <td>Deliverance</td>\n",
              "      <td>1972</td>\n",
              "      <td>R</td>\n",
              "      <td>109</td>\n",
              "      <td>['drama', 'action', 'thriller', 'european']</td>\n",
              "      <td>['US']</td>\n",
              "      <td>7.7</td>\n",
              "    </tr>\n",
              "    <tr>\n",
              "      <th>2</th>\n",
              "      <td>2</td>\n",
              "      <td>tm127384</td>\n",
              "      <td>Monty Python and the Holy Grail</td>\n",
              "      <td>1975</td>\n",
              "      <td>PG</td>\n",
              "      <td>91</td>\n",
              "      <td>['fantasy', 'action', 'comedy']</td>\n",
              "      <td>['GB']</td>\n",
              "      <td>8.2</td>\n",
              "    </tr>\n",
              "    <tr>\n",
              "      <th>3</th>\n",
              "      <td>3</td>\n",
              "      <td>tm120801</td>\n",
              "      <td>The Dirty Dozen</td>\n",
              "      <td>1967</td>\n",
              "      <td>NaN</td>\n",
              "      <td>150</td>\n",
              "      <td>['war', 'action']</td>\n",
              "      <td>['GB', 'US']</td>\n",
              "      <td>7.7</td>\n",
              "    </tr>\n",
              "    <tr>\n",
              "      <th>4</th>\n",
              "      <td>4</td>\n",
              "      <td>tm70993</td>\n",
              "      <td>Life of Brian</td>\n",
              "      <td>1979</td>\n",
              "      <td>R</td>\n",
              "      <td>94</td>\n",
              "      <td>['comedy']</td>\n",
              "      <td>['GB']</td>\n",
              "      <td>8.0</td>\n",
              "    </tr>\n",
              "  </tbody>\n",
              "</table>\n",
              "</div>\n",
              "    <div class=\"colab-df-buttons\">\n",
              "\n",
              "  <div class=\"colab-df-container\">\n",
              "    <button class=\"colab-df-convert\" onclick=\"convertToInteractive('df-57bae0e4-a63a-4929-92d3-e8f1b1a9411a')\"\n",
              "            title=\"Convert this dataframe to an interactive table.\"\n",
              "            style=\"display:none;\">\n",
              "\n",
              "  <svg xmlns=\"http://www.w3.org/2000/svg\" height=\"24px\" viewBox=\"0 -960 960 960\">\n",
              "    <path d=\"M120-120v-720h720v720H120Zm60-500h600v-160H180v160Zm220 220h160v-160H400v160Zm0 220h160v-160H400v160ZM180-400h160v-160H180v160Zm440 0h160v-160H620v160ZM180-180h160v-160H180v160Zm440 0h160v-160H620v160Z\"/>\n",
              "  </svg>\n",
              "    </button>\n",
              "\n",
              "  <style>\n",
              "    .colab-df-container {\n",
              "      display:flex;\n",
              "      gap: 12px;\n",
              "    }\n",
              "\n",
              "    .colab-df-convert {\n",
              "      background-color: #E8F0FE;\n",
              "      border: none;\n",
              "      border-radius: 50%;\n",
              "      cursor: pointer;\n",
              "      display: none;\n",
              "      fill: #1967D2;\n",
              "      height: 32px;\n",
              "      padding: 0 0 0 0;\n",
              "      width: 32px;\n",
              "    }\n",
              "\n",
              "    .colab-df-convert:hover {\n",
              "      background-color: #E2EBFA;\n",
              "      box-shadow: 0px 1px 2px rgba(60, 64, 67, 0.3), 0px 1px 3px 1px rgba(60, 64, 67, 0.15);\n",
              "      fill: #174EA6;\n",
              "    }\n",
              "\n",
              "    .colab-df-buttons div {\n",
              "      margin-bottom: 4px;\n",
              "    }\n",
              "\n",
              "    [theme=dark] .colab-df-convert {\n",
              "      background-color: #3B4455;\n",
              "      fill: #D2E3FC;\n",
              "    }\n",
              "\n",
              "    [theme=dark] .colab-df-convert:hover {\n",
              "      background-color: #434B5C;\n",
              "      box-shadow: 0px 1px 3px 1px rgba(0, 0, 0, 0.15);\n",
              "      filter: drop-shadow(0px 1px 2px rgba(0, 0, 0, 0.3));\n",
              "      fill: #FFFFFF;\n",
              "    }\n",
              "  </style>\n",
              "\n",
              "    <script>\n",
              "      const buttonEl =\n",
              "        document.querySelector('#df-57bae0e4-a63a-4929-92d3-e8f1b1a9411a button.colab-df-convert');\n",
              "      buttonEl.style.display =\n",
              "        google.colab.kernel.accessAllowed ? 'block' : 'none';\n",
              "\n",
              "      async function convertToInteractive(key) {\n",
              "        const element = document.querySelector('#df-57bae0e4-a63a-4929-92d3-e8f1b1a9411a');\n",
              "        const dataTable =\n",
              "          await google.colab.kernel.invokeFunction('convertToInteractive',\n",
              "                                                    [key], {});\n",
              "        if (!dataTable) return;\n",
              "\n",
              "        const docLinkHtml = 'Like what you see? Visit the ' +\n",
              "          '<a target=\"_blank\" href=https://colab.research.google.com/notebooks/data_table.ipynb>data table notebook</a>'\n",
              "          + ' to learn more about interactive tables.';\n",
              "        element.innerHTML = '';\n",
              "        dataTable['output_type'] = 'display_data';\n",
              "        await google.colab.output.renderOutput(dataTable, element);\n",
              "        const docLink = document.createElement('div');\n",
              "        docLink.innerHTML = docLinkHtml;\n",
              "        element.appendChild(docLink);\n",
              "      }\n",
              "    </script>\n",
              "  </div>\n",
              "\n",
              "\n",
              "<div id=\"df-3b3bbf5c-f42e-47f8-b8de-9444dd077609\">\n",
              "  <button class=\"colab-df-quickchart\" onclick=\"quickchart('df-3b3bbf5c-f42e-47f8-b8de-9444dd077609')\"\n",
              "            title=\"Suggest charts\"\n",
              "            style=\"display:none;\">\n",
              "\n",
              "<svg xmlns=\"http://www.w3.org/2000/svg\" height=\"24px\"viewBox=\"0 0 24 24\"\n",
              "     width=\"24px\">\n",
              "    <g>\n",
              "        <path d=\"M19 3H5c-1.1 0-2 .9-2 2v14c0 1.1.9 2 2 2h14c1.1 0 2-.9 2-2V5c0-1.1-.9-2-2-2zM9 17H7v-7h2v7zm4 0h-2V7h2v10zm4 0h-2v-4h2v4z\"/>\n",
              "    </g>\n",
              "</svg>\n",
              "  </button>\n",
              "\n",
              "<style>\n",
              "  .colab-df-quickchart {\n",
              "      --bg-color: #E8F0FE;\n",
              "      --fill-color: #1967D2;\n",
              "      --hover-bg-color: #E2EBFA;\n",
              "      --hover-fill-color: #174EA6;\n",
              "      --disabled-fill-color: #AAA;\n",
              "      --disabled-bg-color: #DDD;\n",
              "  }\n",
              "\n",
              "  [theme=dark] .colab-df-quickchart {\n",
              "      --bg-color: #3B4455;\n",
              "      --fill-color: #D2E3FC;\n",
              "      --hover-bg-color: #434B5C;\n",
              "      --hover-fill-color: #FFFFFF;\n",
              "      --disabled-bg-color: #3B4455;\n",
              "      --disabled-fill-color: #666;\n",
              "  }\n",
              "\n",
              "  .colab-df-quickchart {\n",
              "    background-color: var(--bg-color);\n",
              "    border: none;\n",
              "    border-radius: 50%;\n",
              "    cursor: pointer;\n",
              "    display: none;\n",
              "    fill: var(--fill-color);\n",
              "    height: 32px;\n",
              "    padding: 0;\n",
              "    width: 32px;\n",
              "  }\n",
              "\n",
              "  .colab-df-quickchart:hover {\n",
              "    background-color: var(--hover-bg-color);\n",
              "    box-shadow: 0 1px 2px rgba(60, 64, 67, 0.3), 0 1px 3px 1px rgba(60, 64, 67, 0.15);\n",
              "    fill: var(--button-hover-fill-color);\n",
              "  }\n",
              "\n",
              "  .colab-df-quickchart-complete:disabled,\n",
              "  .colab-df-quickchart-complete:disabled:hover {\n",
              "    background-color: var(--disabled-bg-color);\n",
              "    fill: var(--disabled-fill-color);\n",
              "    box-shadow: none;\n",
              "  }\n",
              "\n",
              "  .colab-df-spinner {\n",
              "    border: 2px solid var(--fill-color);\n",
              "    border-color: transparent;\n",
              "    border-bottom-color: var(--fill-color);\n",
              "    animation:\n",
              "      spin 1s steps(1) infinite;\n",
              "  }\n",
              "\n",
              "  @keyframes spin {\n",
              "    0% {\n",
              "      border-color: transparent;\n",
              "      border-bottom-color: var(--fill-color);\n",
              "      border-left-color: var(--fill-color);\n",
              "    }\n",
              "    20% {\n",
              "      border-color: transparent;\n",
              "      border-left-color: var(--fill-color);\n",
              "      border-top-color: var(--fill-color);\n",
              "    }\n",
              "    30% {\n",
              "      border-color: transparent;\n",
              "      border-left-color: var(--fill-color);\n",
              "      border-top-color: var(--fill-color);\n",
              "      border-right-color: var(--fill-color);\n",
              "    }\n",
              "    40% {\n",
              "      border-color: transparent;\n",
              "      border-right-color: var(--fill-color);\n",
              "      border-top-color: var(--fill-color);\n",
              "    }\n",
              "    60% {\n",
              "      border-color: transparent;\n",
              "      border-right-color: var(--fill-color);\n",
              "    }\n",
              "    80% {\n",
              "      border-color: transparent;\n",
              "      border-right-color: var(--fill-color);\n",
              "      border-bottom-color: var(--fill-color);\n",
              "    }\n",
              "    90% {\n",
              "      border-color: transparent;\n",
              "      border-bottom-color: var(--fill-color);\n",
              "    }\n",
              "  }\n",
              "</style>\n",
              "\n",
              "  <script>\n",
              "    async function quickchart(key) {\n",
              "      const quickchartButtonEl =\n",
              "        document.querySelector('#' + key + ' button');\n",
              "      quickchartButtonEl.disabled = true;  // To prevent multiple clicks.\n",
              "      quickchartButtonEl.classList.add('colab-df-spinner');\n",
              "      try {\n",
              "        const charts = await google.colab.kernel.invokeFunction(\n",
              "            'suggestCharts', [key], {});\n",
              "      } catch (error) {\n",
              "        console.error('Error during call to suggestCharts:', error);\n",
              "      }\n",
              "      quickchartButtonEl.classList.remove('colab-df-spinner');\n",
              "      quickchartButtonEl.classList.add('colab-df-quickchart-complete');\n",
              "    }\n",
              "    (() => {\n",
              "      let quickchartButtonEl =\n",
              "        document.querySelector('#df-3b3bbf5c-f42e-47f8-b8de-9444dd077609 button');\n",
              "      quickchartButtonEl.style.display =\n",
              "        google.colab.kernel.accessAllowed ? 'block' : 'none';\n",
              "    })();\n",
              "  </script>\n",
              "</div>\n",
              "\n",
              "    </div>\n",
              "  </div>\n"
            ],
            "application/vnd.google.colaboratory.intrinsic+json": {
              "type": "dataframe",
              "variable_name": "movie_df",
              "summary": "{\n  \"name\": \"movie_df\",\n  \"rows\": 3744,\n  \"fields\": [\n    {\n      \"column\": \"Unnamed: 0\",\n      \"properties\": {\n        \"dtype\": \"number\",\n        \"std\": 1080,\n        \"min\": 0,\n        \"max\": 3743,\n        \"num_unique_values\": 3744,\n        \"samples\": [\n          3399,\n          1114,\n          351\n        ],\n        \"semantic_type\": \"\",\n        \"description\": \"\"\n      }\n    },\n    {\n      \"column\": \"id\",\n      \"properties\": {\n        \"dtype\": \"string\",\n        \"num_unique_values\": 3744,\n        \"samples\": [\n          \"tm1003725\",\n          \"tm247444\",\n          \"tm33729\"\n        ],\n        \"semantic_type\": \"\",\n        \"description\": \"\"\n      }\n    },\n    {\n      \"column\": \"title\",\n      \"properties\": {\n        \"dtype\": \"string\",\n        \"num_unique_values\": 3724,\n        \"samples\": [\n          \"The Guide to the Perfect Family\",\n          \"The Wasteland\",\n          \"Best of Stand-up 2020\"\n        ],\n        \"semantic_type\": \"\",\n        \"description\": \"\"\n      }\n    },\n    {\n      \"column\": \"release_year\",\n      \"properties\": {\n        \"dtype\": \"number\",\n        \"std\": 7,\n        \"min\": 1954,\n        \"max\": 2022,\n        \"num_unique_values\": 62,\n        \"samples\": [\n          2012,\n          2018,\n          1976\n        ],\n        \"semantic_type\": \"\",\n        \"description\": \"\"\n      }\n    },\n    {\n      \"column\": \"age_certification\",\n      \"properties\": {\n        \"dtype\": \"category\",\n        \"num_unique_values\": 5,\n        \"samples\": [\n          \"PG\",\n          \"NC-17\",\n          \"PG-13\"\n        ],\n        \"semantic_type\": \"\",\n        \"description\": \"\"\n      }\n    },\n    {\n      \"column\": \"runtime\",\n      \"properties\": {\n        \"dtype\": \"number\",\n        \"std\": 30,\n        \"min\": 2,\n        \"max\": 240,\n        \"num_unique_values\": 197,\n        \"samples\": [\n          26,\n          73,\n          161\n        ],\n        \"semantic_type\": \"\",\n        \"description\": \"\"\n      }\n    },\n    {\n      \"column\": \"genres\",\n      \"properties\": {\n        \"dtype\": \"category\",\n        \"num_unique_values\": 1105,\n        \"samples\": [\n          \"['scifi', 'animation', 'action']\",\n          \"['comedy', 'romance', 'drama', 'family']\",\n          \"['documentation', 'action']\"\n        ],\n        \"semantic_type\": \"\",\n        \"description\": \"\"\n      }\n    },\n    {\n      \"column\": \"production_countries\",\n      \"properties\": {\n        \"dtype\": \"category\",\n        \"num_unique_values\": 418,\n        \"samples\": [\n          \"['IL', 'US']\",\n          \"['US', 'FR', 'ES']\",\n          \"['GB', 'CA']\"\n        ],\n        \"semantic_type\": \"\",\n        \"description\": \"\"\n      }\n    },\n    {\n      \"column\": \"imdb_score\",\n      \"properties\": {\n        \"dtype\": \"number\",\n        \"std\": 1.1274857464556158,\n        \"min\": 1.5,\n        \"max\": 9.1,\n        \"num_unique_values\": 74,\n        \"samples\": [\n          7.5,\n          1.5,\n          7.8\n        ],\n        \"semantic_type\": \"\",\n        \"description\": \"\"\n      }\n    }\n  ]\n}"
            }
          },
          "metadata": {},
          "execution_count": 345
        }
      ]
    },
    {
      "cell_type": "code",
      "source": [
        "# Replace NaN IMDb scores with None in show_df_cleaned\n",
        "show_df_cleaned['imdb_score'] = show_df_cleaned['imdb_score'].apply(lambda x: None if pd.isnull(x) else x)\n",
        "\n",
        "# Replace NaN IMDb scores with None in movie_df_cleaned\n",
        "movie_df_cleaned['imdb_score'] = movie_df_cleaned['imdb_score'].apply(lambda x: None if pd.isnull(x) else x)\n"
      ],
      "metadata": {
        "id": "nbsBw2kGf942"
      },
      "execution_count": 346,
      "outputs": []
    },
    {
      "cell_type": "code",
      "source": [
        "# Convert cleaned Pandas DataFrames to Spark DataFrames\n",
        "spark_show_df_cleaned = spark.createDataFrame(show_df_cleaned)\n",
        "spark_movie_df_cleaned = spark.createDataFrame(movie_df_cleaned)\n",
        "\n",
        "# Create temporary views for the cleaned Spark DataFrames\n",
        "spark_show_df_cleaned.createOrReplaceTempView(\"showData_cleaned\")\n",
        "spark_movie_df_cleaned.createOrReplaceTempView(\"movieData_cleaned\")\n"
      ],
      "metadata": {
        "id": "t_dsImEiaJt_"
      },
      "execution_count": 347,
      "outputs": []
    },
    {
      "cell_type": "code",
      "source": [
        "# Display the schema of the Spark DataFrame\n",
        "spark_show_df.printSchema()\n",
        "\n"
      ],
      "metadata": {
        "colab": {
          "base_uri": "https://localhost:8080/"
        },
        "id": "SxjopIrGdZL-",
        "outputId": "1e76fa3f-b66b-462b-e1e5-9e878933fac2"
      },
      "execution_count": 348,
      "outputs": [
        {
          "output_type": "stream",
          "name": "stdout",
          "text": [
            "root\n",
            " |-- Unnamed: 0: long (nullable = true)\n",
            " |-- id: string (nullable = true)\n",
            " |-- title: string (nullable = true)\n",
            " |-- release_year: long (nullable = true)\n",
            " |-- age_certification: string (nullable = true)\n",
            " |-- runtime: long (nullable = true)\n",
            " |-- genres: string (nullable = true)\n",
            " |-- production_countries: string (nullable = true)\n",
            " |-- seasons: double (nullable = true)\n",
            " |-- imdb_score: double (nullable = true)\n",
            "\n"
          ]
        }
      ]
    },
    {
      "cell_type": "code",
      "source": [
        "spark_movie_df.printSchema()"
      ],
      "metadata": {
        "colab": {
          "base_uri": "https://localhost:8080/"
        },
        "id": "hd05QRUsdk44",
        "outputId": "468e40a8-1d51-4ddb-9712-f9cb6b199f5f"
      },
      "execution_count": 349,
      "outputs": [
        {
          "output_type": "stream",
          "name": "stdout",
          "text": [
            "root\n",
            " |-- Unnamed: 0: long (nullable = true)\n",
            " |-- id: string (nullable = true)\n",
            " |-- title: string (nullable = true)\n",
            " |-- release_year: long (nullable = true)\n",
            " |-- age_certification: string (nullable = true)\n",
            " |-- runtime: long (nullable = true)\n",
            " |-- genres: string (nullable = true)\n",
            " |-- production_countries: string (nullable = true)\n",
            " |-- imdb_score: double (nullable = true)\n",
            "\n"
          ]
        }
      ]
    },
    {
      "cell_type": "markdown",
      "source": [
        "# What are the top-rated TV shows and movies based on IMDb scores?"
      ],
      "metadata": {
        "id": "QcO2Q4UEfIGa"
      }
    },
    {
      "cell_type": "code",
      "source": [
        "# Finding top rated tv shows and movies\n",
        "top_rated = spark.sql(\"\"\"\n",
        "    SELECT 'TV Show' AS type, title, imdb_score\n",
        "    FROM showData_cleaned\n",
        "    UNION ALL\n",
        "    SELECT 'Movie' AS type, title, imdb_score\n",
        "    FROM movieData_cleaned\n",
        "    ORDER BY imdb_score DESC\n",
        "    LIMIT 10\n",
        "\"\"\")\n",
        "top_rated.show()\n"
      ],
      "metadata": {
        "colab": {
          "base_uri": "https://localhost:8080/"
        },
        "id": "VxSkmmzQeY6t",
        "outputId": "4e470f21-8e11-4711-b45c-32eb59a046c7"
      },
      "execution_count": 350,
      "outputs": [
        {
          "output_type": "stream",
          "name": "stdout",
          "text": [
            "+-------+--------------------+----------+\n",
            "|   type|               title|imdb_score|\n",
            "+-------+--------------------+----------+\n",
            "|TV Show|            #ABtalks|       9.6|\n",
            "|TV Show|        Breaking Bad|       9.5|\n",
            "|TV Show|            Khawatir|       9.5|\n",
            "|TV Show|          Our Planet|       9.3|\n",
            "|TV Show|Avatar: The Last ...|       9.3|\n",
            "|TV Show|          Reply 1988|       9.2|\n",
            "|  Movie|               Major|       9.1|\n",
            "|  Movie|Chhota Bheem & Kr...|       9.1|\n",
            "|TV Show|      The Last Dance|       9.1|\n",
            "|TV Show|           My Mister|       9.1|\n",
            "+-------+--------------------+----------+\n",
            "\n"
          ]
        }
      ]
    },
    {
      "cell_type": "markdown",
      "source": [
        "# Which genres are most common among TV shows and movies?"
      ],
      "metadata": {
        "id": "YCRtCerni8QY"
      }
    },
    {
      "cell_type": "code",
      "source": [
        "result = spark.sql(\"\"\"\n",
        "    SELECT type, trim('\\\"' FROM genre) AS genre, COUNT(*) AS count\n",
        "    FROM\n",
        "      (SELECT 'TV Show' AS type, explode(split(trim('[]' FROM genres), ', ')) AS genre FROM showData_cleaned\n",
        "       UNION ALL\n",
        "       SELECT 'Movie' AS type, explode(split(trim('[]' FROM genres), ', ')) AS genre FROM movieData_cleaned)\n",
        "    WHERE genre != \"\"\n",
        "    GROUP BY type, genre\n",
        "    ORDER BY count DESC\n",
        "\"\"\")\n",
        "# Show the result\n",
        "result.show()\n"
      ],
      "metadata": {
        "colab": {
          "base_uri": "https://localhost:8080/"
        },
        "id": "Utlau_Rti9XX",
        "outputId": "c9841f29-67a8-49c8-88ba-67982ae105b0"
      },
      "execution_count": 351,
      "outputs": [
        {
          "output_type": "stream",
          "name": "stdout",
          "text": [
            "+-------+---------------+-----+\n",
            "|   type|          genre|count|\n",
            "+-------+---------------+-----+\n",
            "|  Movie|        'drama'| 1805|\n",
            "|  Movie|       'comedy'| 1493|\n",
            "|TV Show|        'drama'| 1022|\n",
            "|  Movie|     'thriller'|  792|\n",
            "|TV Show|       'comedy'|  725|\n",
            "|  Movie|       'action'|  688|\n",
            "|  Movie|      'romance'|  683|\n",
            "|  Movie|'documentation'|  539|\n",
            "|  Movie|        'crime'|  533|\n",
            "|TV Show|       'action'|  421|\n",
            "|TV Show|    'animation'|  401|\n",
            "|TV Show|     'thriller'|  388|\n",
            "|TV Show|        'crime'|  376|\n",
            "|TV Show|        'scifi'|  360|\n",
            "|  Movie|     'european'|  329|\n",
            "|  Movie|       'family'|  328|\n",
            "|TV Show|       'family'|  324|\n",
            "|TV Show|'documentation'|  320|\n",
            "|TV Show|      'fantasy'|  315|\n",
            "|  Movie|      'fantasy'|  304|\n",
            "+-------+---------------+-----+\n",
            "only showing top 20 rows\n",
            "\n"
          ]
        }
      ]
    },
    {
      "cell_type": "markdown",
      "source": [
        "# How does the distribution of IMDb scores differ between TV shows and movies?"
      ],
      "metadata": {
        "id": "ocQyUHVvkx44"
      }
    },
    {
      "cell_type": "code",
      "source": [
        "from pyspark.sql.functions import col\n",
        "\n",
        "# Replace NaN IMDb scores with None in showData\n",
        "showData_cleaned = spark.sql(\"\"\"\n",
        "    SELECT * FROM showData WHERE imdb_score IS NOT NULL\n",
        "\"\"\")\n",
        "showData_cleaned = showData_cleaned.withColumn(\"imdb_score\", when(col(\"imdb_score\").isNull(), None).otherwise(col(\"imdb_score\")))\n",
        "\n",
        "# Replace NaN IMDb scores with None in movieData\n",
        "movieData_cleaned = spark.sql(\"\"\"\n",
        "    SELECT * FROM movieData WHERE imdb_score IS NOT NULL\n",
        "\"\"\")\n",
        "movieData_cleaned = movieData_cleaned.withColumn(\"imdb_score\", when(col(\"imdb_score\").isNull(), None).otherwise(col(\"imdb_score\")))\n",
        "\n",
        "# Calculate the average IMDb score for TV shows and movies\n",
        "result = spark.sql(\"\"\"\n",
        "    SELECT 'TV Show' AS type, AVG(imdb_score) AS avg_imdb_score\n",
        "    FROM showData_cleaned\n",
        "    UNION ALL\n",
        "    SELECT 'Movie' AS type, AVG(imdb_score) AS avg_imdb_score\n",
        "    FROM movieData_cleaned\n",
        "\"\"\")\n",
        "result.show()\n"
      ],
      "metadata": {
        "colab": {
          "base_uri": "https://localhost:8080/"
        },
        "id": "linU3G-pjDzl",
        "outputId": "2f717cc7-9913-44cc-c821-f462b2d64984"
      },
      "execution_count": 352,
      "outputs": [
        {
          "output_type": "stream",
          "name": "stdout",
          "text": [
            "+-------+------------------+\n",
            "|   type|    avg_imdb_score|\n",
            "+-------+------------------+\n",
            "|TV Show| 6.977926766374413|\n",
            "|  Movie|6.2467483231262815|\n",
            "+-------+------------------+\n",
            "\n"
          ]
        }
      ]
    },
    {
      "cell_type": "markdown",
      "source": [
        "# What is the average runtime of TV shows and movies?"
      ],
      "metadata": {
        "id": "cuIA_weRpF_h"
      }
    },
    {
      "cell_type": "code",
      "source": [
        "result = spark.sql(\"\"\"\n",
        "    SELECT 'TV Show' AS type, AVG(runtime) AS avg_runtime\n",
        "    FROM showData_cleaned\n",
        "    WHERE runtime IS NOT NULL\n",
        "    UNION ALL\n",
        "    SELECT 'Movie' AS type, AVG(runtime) AS avg_runtime\n",
        "    FROM movieData_cleaned\n",
        "    WHERE runtime IS NOT NULL\n",
        "    GROUP BY type\n",
        "\"\"\")\n",
        "result.show()\n"
      ],
      "metadata": {
        "colab": {
          "base_uri": "https://localhost:8080/"
        },
        "id": "jFz63iGZpH8a",
        "outputId": "14916c44-9e44-4a17-fe89-dd45af87d728"
      },
      "execution_count": 353,
      "outputs": [
        {
          "output_type": "stream",
          "name": "stdout",
          "text": [
            "+-------+------------------+\n",
            "|   type|       avg_runtime|\n",
            "+-------+------------------+\n",
            "|TV Show|38.765858690046414|\n",
            "|  Movie|101.06620005832605|\n",
            "+-------+------------------+\n",
            "\n"
          ]
        }
      ]
    },
    {
      "cell_type": "markdown",
      "source": [
        "# How has the annual release pattern of TV shows and movies evolved over the span of 10 years, from 2013 to 2022?"
      ],
      "metadata": {
        "id": "mrzkgopqp2yM"
      }
    },
    {
      "cell_type": "code",
      "source": [
        "# Query to count the number of TV shows and movies released each year\n",
        "result = spark.sql(\"\"\"\n",
        "    SELECT type, release_year, COUNT(*) AS count\n",
        "    FROM\n",
        "      (SELECT 'TV Show' AS type, release_year FROM showData_cleaned\n",
        "       UNION ALL\n",
        "       SELECT 'Movie' AS type, release_year FROM movieData_cleaned)\n",
        "    WHERE release_year IS NOT NULL\n",
        "    GROUP BY type, release_year\n",
        "    ORDER BY release_year DESC, type DESC\n",
        "    LIMIT 20\n",
        "\"\"\")\n",
        "\n",
        "# Show the result\n",
        "result.show()\n"
      ],
      "metadata": {
        "colab": {
          "base_uri": "https://localhost:8080/"
        },
        "id": "-_QWWcg-qBKb",
        "outputId": "1558dc08-8e1b-49a1-d63b-cdbdeeba3795"
      },
      "execution_count": 354,
      "outputs": [
        {
          "output_type": "stream",
          "name": "stdout",
          "text": [
            "+-------+------------+-----+\n",
            "|   type|release_year|count|\n",
            "+-------+------------+-----+\n",
            "|TV Show|        2022|  156|\n",
            "|  Movie|        2022|  180|\n",
            "|TV Show|        2021|  289|\n",
            "|  Movie|        2021|  429|\n",
            "|TV Show|        2020|  257|\n",
            "|  Movie|        2020|  424|\n",
            "|TV Show|        2019|  283|\n",
            "|  Movie|        2019|  465|\n",
            "|TV Show|        2018|  286|\n",
            "|  Movie|        2018|  446|\n",
            "|TV Show|        2017|  173|\n",
            "|  Movie|        2017|  367|\n",
            "|TV Show|        2016|  130|\n",
            "|  Movie|        2016|  213|\n",
            "|TV Show|        2015|   88|\n",
            "|  Movie|        2015|  124|\n",
            "|TV Show|        2014|   41|\n",
            "|  Movie|        2014|  103|\n",
            "|TV Show|        2013|   35|\n",
            "|  Movie|        2013|   92|\n",
            "+-------+------------+-----+\n",
            "\n"
          ]
        }
      ]
    },
    {
      "cell_type": "markdown",
      "source": [
        "# Which countries produce the most TV shows and movies?\n"
      ],
      "metadata": {
        "id": "eJFCsCSCt7ZB"
      }
    },
    {
      "cell_type": "code",
      "source": [
        "# Query to count the number of TV shows and movies produced by each country\n",
        "result = spark.sql(\"\"\"\n",
        "    SELECT production_country,\n",
        "           SUM(CASE WHEN type = 'TV Show' THEN 1 ELSE 0 END) AS tv_count,\n",
        "           SUM(CASE WHEN type = 'Movie' THEN 1 ELSE 0 END) AS movie_count,\n",
        "           COUNT(*) AS total_count\n",
        "    FROM\n",
        "      (SELECT 'TV Show' AS type, explode(split(production_countries, ', ')) AS production_country FROM showData_cleaned\n",
        "       UNION ALL\n",
        "       SELECT 'Movie' AS type, explode(split(production_countries, ', ')) AS production_country FROM movieData_cleaned)\n",
        "    WHERE production_country != \"\" AND production_country NOT LIKE \"%[%\" AND production_country NOT LIKE \"%]%\"\n",
        "    GROUP BY production_country\n",
        "    ORDER BY total_count DESC\n",
        "\"\"\")\n",
        "\n",
        "# Show the result\n",
        "result.show()\n"
      ],
      "metadata": {
        "colab": {
          "base_uri": "https://localhost:8080/"
        },
        "id": "H_5D3ctwuQJv",
        "outputId": "b163e5cf-0be2-49cc-d978-fd83d892a086"
      },
      "execution_count": 355,
      "outputs": [
        {
          "output_type": "stream",
          "name": "stdout",
          "text": [
            "+------------------+--------+-----------+-----------+\n",
            "|production_country|tv_count|movie_count|total_count|\n",
            "+------------------+--------+-----------+-----------+\n",
            "|              'US'|       3|         33|         36|\n",
            "|              'GB'|       0|         34|         34|\n",
            "|              'FR'|       2|         27|         29|\n",
            "|              'DE'|       0|         19|         19|\n",
            "|              'CA'|       0|         10|         10|\n",
            "|              'DK'|       0|         10|         10|\n",
            "|              'NL'|       0|          8|          8|\n",
            "|              'CH'|       0|          7|          7|\n",
            "|              'CN'|       0|          6|          6|\n",
            "|              'ES'|       0|          5|          5|\n",
            "|              'BE'|       0|          5|          5|\n",
            "|              'SE'|       0|          5|          5|\n",
            "|              'MX'|       0|          5|          5|\n",
            "|              'JP'|       1|          3|          4|\n",
            "|              'AU'|       1|          3|          4|\n",
            "|              'PL'|       0|          4|          4|\n",
            "|              'HU'|       0|          4|          4|\n",
            "|              'QA'|       0|          4|          4|\n",
            "|              'LU'|       0|          3|          3|\n",
            "|              'JO'|       0|          3|          3|\n",
            "+------------------+--------+-----------+-----------+\n",
            "only showing top 20 rows\n",
            "\n"
          ]
        }
      ]
    },
    {
      "cell_type": "markdown",
      "source": [
        "# Which age certification (e.g., TV-MA, PG-13) is most common among TV shows and movies?"
      ],
      "metadata": {
        "id": "JH4X5HRBx3CM"
      }
    },
    {
      "cell_type": "code",
      "source": [
        "result = spark.sql(\"\"\"\n",
        "    SELECT age_certification, COUNT(*) AS count\n",
        "    FROM\n",
        "      (SELECT age_certification FROM showData_cleaned WHERE age_certification IS NOT NULL AND age_certification != '' AND age_certification != 'NaN'\n",
        "       UNION ALL\n",
        "       SELECT age_certification FROM movieData_cleaned WHERE age_certification IS NOT NULL AND age_certification != '' AND age_certification != 'NaN')\n",
        "    GROUP BY age_certification\n",
        "    ORDER BY count DESC\n",
        "\"\"\")\n",
        "result.show()\n"
      ],
      "metadata": {
        "colab": {
          "base_uri": "https://localhost:8080/"
        },
        "id": "ps9Eq6hYv8Qw",
        "outputId": "2d2bec7d-670e-42d3-ea49-4748ac045309"
      },
      "execution_count": 356,
      "outputs": [
        {
          "output_type": "stream",
          "name": "stdout",
          "text": [
            "+-----------------+-----+\n",
            "|age_certification|count|\n",
            "+-----------------+-----+\n",
            "|            TV-MA|  833|\n",
            "|                R|  530|\n",
            "|            TV-14|  441|\n",
            "|            PG-13|  435|\n",
            "|               PG|  223|\n",
            "|            TV-PG|  173|\n",
            "|            TV-Y7|  111|\n",
            "|                G|   99|\n",
            "|             TV-Y|   98|\n",
            "|             TV-G|   75|\n",
            "|            NC-17|   15|\n",
            "+-----------------+-----+\n",
            "\n"
          ]
        }
      ]
    },
    {
      "cell_type": "markdown",
      "source": [
        "# What is the average number of seasons for TV shows in each age certification category?"
      ],
      "metadata": {
        "id": "fG3dawNQ0PWn"
      }
    },
    {
      "cell_type": "code",
      "source": [
        "result = spark.sql(\"\"\"\n",
        "    SELECT age_certification, AVG(seasons) AS avg_seasons\n",
        "    FROM showData_cleaned\n",
        "    WHERE age_certification IS NOT NULL AND age_certification != 'NaN'\n",
        "    GROUP BY age_certification\n",
        "    ORDER BY avg_seasons DESC\n",
        "\"\"\")\n",
        "\n",
        "result.show()\n"
      ],
      "metadata": {
        "colab": {
          "base_uri": "https://localhost:8080/"
        },
        "id": "RTq456Gxx8T2",
        "outputId": "7274ca89-1537-4ac5-8519-d26037bca870"
      },
      "execution_count": 357,
      "outputs": [
        {
          "output_type": "stream",
          "name": "stdout",
          "text": [
            "+-----------------+------------------+\n",
            "|age_certification|       avg_seasons|\n",
            "+-----------------+------------------+\n",
            "|             TV-G|3.5866666666666664|\n",
            "|            TV-Y7|3.5225225225225225|\n",
            "|             TV-Y| 3.122448979591837|\n",
            "|            TV-PG| 2.820809248554913|\n",
            "|            TV-14| 2.507936507936508|\n",
            "|            TV-MA|1.7346938775510203|\n",
            "+-----------------+------------------+\n",
            "\n"
          ]
        }
      ]
    },
    {
      "cell_type": "markdown",
      "source": [
        "# How does the average IMDb score vary by production country for TV shows and movies?"
      ],
      "metadata": {
        "id": "C6s-eGFW1ilH"
      }
    },
    {
      "cell_type": "code",
      "source": [
        "result = spark.sql(\"\"\"\n",
        "    SELECT type, production_country, AVG(imdb_score) AS avg_imdb_score\n",
        "    FROM\n",
        "      (SELECT 'TV Show' AS type, explode(split(production_countries, ', ')) AS production_country, imdb_score FROM showData_cleaned\n",
        "       UNION ALL\n",
        "       SELECT 'Movie' AS type, explode(split(production_countries, ', ')) AS production_country, imdb_score FROM movieData_cleaned)\n",
        "    WHERE production_country != \"\" AND production_country NOT LIKE \"%[%\" AND production_country NOT LIKE \"%]%\" AND imdb_score IS NOT NULL\n",
        "    GROUP BY type, production_country\n",
        "    ORDER BY avg_imdb_score DESC\n",
        "\"\"\")\n",
        "\n",
        "result.show()\n"
      ],
      "metadata": {
        "colab": {
          "base_uri": "https://localhost:8080/"
        },
        "id": "h4Isu08-0VVf",
        "outputId": "0909baee-daf1-468d-816c-1ea7016fd902"
      },
      "execution_count": 359,
      "outputs": [
        {
          "output_type": "stream",
          "name": "stdout",
          "text": [
            "+-------+------------------+------------------+\n",
            "|   type|production_country|    avg_imdb_score|\n",
            "+-------+------------------+------------------+\n",
            "|  Movie|              'EG'|               8.1|\n",
            "|  Movie|              'BS'|               8.0|\n",
            "|  Movie|              'MW'|               7.6|\n",
            "|  Movie|              'NO'|              7.35|\n",
            "|  Movie|              'LB'|               7.3|\n",
            "|  Movie|              'BR'|               7.2|\n",
            "|  Movie|              'AE'|               7.1|\n",
            "|  Movie|              'UY'|               7.1|\n",
            "|  Movie|              'ES'|7.0200000000000005|\n",
            "|  Movie|              'GH'|               7.0|\n",
            "|  Movie|              'ZA'| 6.949999999999999|\n",
            "|  Movie|              'CH'| 6.914285714285714|\n",
            "|  Movie|              'MX'|              6.88|\n",
            "|TV Show|              'FR'|              6.85|\n",
            "|  Movie|              'IS'| 6.833333333333333|\n",
            "|  Movie|              'SE'|              6.82|\n",
            "|  Movie|              'IR'|               6.8|\n",
            "|  Movie|              'JO'|               6.8|\n",
            "|  Movie|              'RO'|               6.8|\n",
            "|  Movie|              'GR'|               6.8|\n",
            "+-------+------------------+------------------+\n",
            "only showing top 20 rows\n",
            "\n"
          ]
        }
      ]
    },
    {
      "cell_type": "code",
      "source": [],
      "metadata": {
        "id": "PFha436M1qj9"
      },
      "execution_count": null,
      "outputs": []
    }
  ]
}