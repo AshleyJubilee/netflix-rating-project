{
  "nbformat": 4,
  "nbformat_minor": 0,
  "metadata": {
    "colab": {
      "provenance": []
    },
    "kernelspec": {
      "name": "python3",
      "display_name": "Python 3"
    },
    "language_info": {
      "name": "python"
    }
  },
  "cells": [
    {
      "cell_type": "code",
      "source": [
        "import os\n",
        "import sys\n",
        "os.environ['PYSPARK_PYTHON'] = sys.executable\n",
        "os.environ['PYSPARK_DRIVER_PYTHON'] = sys.executable\n"
      ],
      "metadata": {
        "id": "3G9uROUVRhCS"
      },
      "execution_count": 35,
      "outputs": []
    },
    {
      "cell_type": "code",
      "source": [
        "# Install Java\n",
        "!apt-get install openjdk-8-jdk-headless -qq > /dev/null\n",
        "\n",
        "# Install pyspark\n",
        "!pip install pyspark\n",
        "\n",
        "# Set up Spark session\n",
        "from pyspark.sql import SparkSession\n",
        "\n",
        "spark = SparkSession.builder \\\n",
        "    .master(\"local[*]\") \\\n",
        "    .appName(\"SparkSQL\") \\\n",
        "    .config(\"spark.executor.memory\", \"2g\") \\\n",
        "    .config(\"spark.driver.memory\", \"2g\") \\\n",
        "    .getOrCreate()\n"
      ],
      "metadata": {
        "colab": {
          "base_uri": "https://localhost:8080/"
        },
        "id": "admBDOeNQS1Q",
        "outputId": "f789098f-5027-4e89-c9d6-9bbada5c36f1"
      },
      "execution_count": 1,
      "outputs": [
        {
          "output_type": "stream",
          "name": "stdout",
          "text": [
            "^C\n",
            "Collecting pyspark\n",
            "  Downloading pyspark-3.5.1.tar.gz (317.0 MB)\n",
            "\u001b[2K     \u001b[90m━━━━━━━━━━━━━━━━━━━━━━━━━━━━━━━━━━━━━━━━\u001b[0m \u001b[32m317.0/317.0 MB\u001b[0m \u001b[31m3.8 MB/s\u001b[0m eta \u001b[36m0:00:00\u001b[0m\n",
            "\u001b[?25h  Preparing metadata (setup.py) ... \u001b[?25l\u001b[?25hdone\n",
            "Requirement already satisfied: py4j==0.10.9.7 in /usr/local/lib/python3.10/dist-packages (from pyspark) (0.10.9.7)\n",
            "Building wheels for collected packages: pyspark\n",
            "  Building wheel for pyspark (setup.py) ... \u001b[?25l\u001b[?25hdone\n",
            "  Created wheel for pyspark: filename=pyspark-3.5.1-py2.py3-none-any.whl size=317488491 sha256=7dc209afcd266dee877c9cca9ee0e903eb735d98dbbb69fcd7da6f0a6dd4b86c\n",
            "  Stored in directory: /root/.cache/pip/wheels/80/1d/60/2c256ed38dddce2fdd93be545214a63e02fbd8d74fb0b7f3a6\n",
            "Successfully built pyspark\n",
            "Installing collected packages: pyspark\n",
            "Successfully installed pyspark-3.5.1\n"
          ]
        }
      ]
    },
    {
      "cell_type": "code",
      "source": [
        "# Import packages\n",
        "from pyspark.sql import SparkSession\n",
        "import time\n",
        "import pandas as pd\n",
        "from pyspark.sql.functions import col\n",
        "from pyspark.sql.functions import current_date, expr\n",
        "\n",
        "\n",
        "\n",
        "# Create a SparkSession\n",
        "spark = SparkSession.builder.appName(\"SparkSQL\").getOrCreate()"
      ],
      "metadata": {
        "id": "miC6LQ_hQja9"
      },
      "execution_count": 2,
      "outputs": []
    },
    {
      "cell_type": "code",
      "execution_count": 3,
      "metadata": {
        "colab": {
          "base_uri": "https://localhost:8080/"
        },
        "id": "cMQ_jCzUKq1p",
        "outputId": "0cd31501-3699-4d61-dad1-6272a28f100f"
      },
      "outputs": [
        {
          "output_type": "stream",
          "name": "stdout",
          "text": [
            "Mounted at /content/drive\n"
          ]
        }
      ],
      "source": [
        "from google.colab import drive\n",
        "import pandas as pd\n",
        "\n",
        "# Mount Google Drive\n",
        "drive.mount('/content/drive')"
      ]
    },
    {
      "cell_type": "code",
      "source": [
        "# Path to the CSV files in Google Drive\n",
        "show_data_path = '/content/drive/My Drive/showData.csv'\n",
        "movie_data_path = '/content/drive/My Drive/movieData.csv'"
      ],
      "metadata": {
        "id": "qHyWFad8KyNX"
      },
      "execution_count": 4,
      "outputs": []
    },
    {
      "cell_type": "code",
      "source": [
        "# Load the CSV files into DataFrames\n",
        "show_df = pd.read_csv(show_data_path)\n",
        "movie_df = pd.read_csv(movie_data_path)\n"
      ],
      "metadata": {
        "id": "VTWoftsSMAGi"
      },
      "execution_count": 5,
      "outputs": []
    },
    {
      "cell_type": "code",
      "source": [
        "# Display the first few rows of showData.csv\n",
        "show_df.head()"
      ],
      "metadata": {
        "colab": {
          "base_uri": "https://localhost:8080/",
          "height": 678
        },
        "id": "eETvaLLRMApL",
        "outputId": "0fc48503-675a-4485-c0ba-cc43b4c883f7"
      },
      "execution_count": 6,
      "outputs": [
        {
          "output_type": "execute_result",
          "data": {
            "text/plain": [
              "   Unnamed: 0       id                             title  release_year  \\\n",
              "0           0  ts22164      Monty Python's Flying Circus          1969   \n",
              "1           1  ts45948  Monty Python's Fliegender Zirkus          1972   \n",
              "2           2  ts20681                          Seinfeld          1989   \n",
              "3           3  ts22082                      Knight Rider          1982   \n",
              "4           4  ts21715                  Thomas & Friends          1984   \n",
              "\n",
              "  release_decade age_certification  runtime  \\\n",
              "0            60s             TV-14       30   \n",
              "1            70s             TV-MA       43   \n",
              "2            80s             TV-PG       24   \n",
              "3            80s             TV-PG       51   \n",
              "4            80s              TV-Y       10   \n",
              "\n",
              "                                              genres production_countries  \\\n",
              "0                             ['comedy', 'european']               ['GB']   \n",
              "1                                         ['comedy']                   []   \n",
              "2                                         ['comedy']               ['US']   \n",
              "3              ['scifi', 'action', 'crime', 'drama']               ['US']   \n",
              "4  ['animation', 'family', 'comedy', 'fantasy', '...               ['GB']   \n",
              "\n",
              "   seasons  imdb_score  imdb_votes  \\\n",
              "0      4.0         8.8     73424.0   \n",
              "1      1.0         8.1      2151.0   \n",
              "2      9.0         8.9    308824.0   \n",
              "3      4.0         6.9     34115.0   \n",
              "4     24.0         6.5      5104.0   \n",
              "\n",
              "                                              actors  \\\n",
              "0  ['Graham Chapman 11472 ACTOR', 'Michael Palin ...   \n",
              "1  ['Graham Chapman 11472 ACTOR', 'John Cleese 15...   \n",
              "2  ['Jerry Seinfeld 32954 ACTOR', 'Jason Alexande...   \n",
              "3  ['David Hasselhoff 8464 ACTOR', 'Edward Mulhar...   \n",
              "4            ['Rachael Louise Miller 1381431 ACTOR']   \n",
              "\n",
              "                            directors  \n",
              "0                                   0  \n",
              "1  ['Ian MacNaughton 16383 DIRECTOR']  \n",
              "2                                   0  \n",
              "3                                   0  \n",
              "4                                   0  "
            ],
            "text/html": [
              "\n",
              "  <div id=\"df-ea321a00-5b97-4bc7-ab50-ae0a51ffc6fc\" class=\"colab-df-container\">\n",
              "    <div>\n",
              "<style scoped>\n",
              "    .dataframe tbody tr th:only-of-type {\n",
              "        vertical-align: middle;\n",
              "    }\n",
              "\n",
              "    .dataframe tbody tr th {\n",
              "        vertical-align: top;\n",
              "    }\n",
              "\n",
              "    .dataframe thead th {\n",
              "        text-align: right;\n",
              "    }\n",
              "</style>\n",
              "<table border=\"1\" class=\"dataframe\">\n",
              "  <thead>\n",
              "    <tr style=\"text-align: right;\">\n",
              "      <th></th>\n",
              "      <th>Unnamed: 0</th>\n",
              "      <th>id</th>\n",
              "      <th>title</th>\n",
              "      <th>release_year</th>\n",
              "      <th>release_decade</th>\n",
              "      <th>age_certification</th>\n",
              "      <th>runtime</th>\n",
              "      <th>genres</th>\n",
              "      <th>production_countries</th>\n",
              "      <th>seasons</th>\n",
              "      <th>imdb_score</th>\n",
              "      <th>imdb_votes</th>\n",
              "      <th>actors</th>\n",
              "      <th>directors</th>\n",
              "    </tr>\n",
              "  </thead>\n",
              "  <tbody>\n",
              "    <tr>\n",
              "      <th>0</th>\n",
              "      <td>0</td>\n",
              "      <td>ts22164</td>\n",
              "      <td>Monty Python's Flying Circus</td>\n",
              "      <td>1969</td>\n",
              "      <td>60s</td>\n",
              "      <td>TV-14</td>\n",
              "      <td>30</td>\n",
              "      <td>['comedy', 'european']</td>\n",
              "      <td>['GB']</td>\n",
              "      <td>4.0</td>\n",
              "      <td>8.8</td>\n",
              "      <td>73424.0</td>\n",
              "      <td>['Graham Chapman 11472 ACTOR', 'Michael Palin ...</td>\n",
              "      <td>0</td>\n",
              "    </tr>\n",
              "    <tr>\n",
              "      <th>1</th>\n",
              "      <td>1</td>\n",
              "      <td>ts45948</td>\n",
              "      <td>Monty Python's Fliegender Zirkus</td>\n",
              "      <td>1972</td>\n",
              "      <td>70s</td>\n",
              "      <td>TV-MA</td>\n",
              "      <td>43</td>\n",
              "      <td>['comedy']</td>\n",
              "      <td>[]</td>\n",
              "      <td>1.0</td>\n",
              "      <td>8.1</td>\n",
              "      <td>2151.0</td>\n",
              "      <td>['Graham Chapman 11472 ACTOR', 'John Cleese 15...</td>\n",
              "      <td>['Ian MacNaughton 16383 DIRECTOR']</td>\n",
              "    </tr>\n",
              "    <tr>\n",
              "      <th>2</th>\n",
              "      <td>2</td>\n",
              "      <td>ts20681</td>\n",
              "      <td>Seinfeld</td>\n",
              "      <td>1989</td>\n",
              "      <td>80s</td>\n",
              "      <td>TV-PG</td>\n",
              "      <td>24</td>\n",
              "      <td>['comedy']</td>\n",
              "      <td>['US']</td>\n",
              "      <td>9.0</td>\n",
              "      <td>8.9</td>\n",
              "      <td>308824.0</td>\n",
              "      <td>['Jerry Seinfeld 32954 ACTOR', 'Jason Alexande...</td>\n",
              "      <td>0</td>\n",
              "    </tr>\n",
              "    <tr>\n",
              "      <th>3</th>\n",
              "      <td>3</td>\n",
              "      <td>ts22082</td>\n",
              "      <td>Knight Rider</td>\n",
              "      <td>1982</td>\n",
              "      <td>80s</td>\n",
              "      <td>TV-PG</td>\n",
              "      <td>51</td>\n",
              "      <td>['scifi', 'action', 'crime', 'drama']</td>\n",
              "      <td>['US']</td>\n",
              "      <td>4.0</td>\n",
              "      <td>6.9</td>\n",
              "      <td>34115.0</td>\n",
              "      <td>['David Hasselhoff 8464 ACTOR', 'Edward Mulhar...</td>\n",
              "      <td>0</td>\n",
              "    </tr>\n",
              "    <tr>\n",
              "      <th>4</th>\n",
              "      <td>4</td>\n",
              "      <td>ts21715</td>\n",
              "      <td>Thomas &amp; Friends</td>\n",
              "      <td>1984</td>\n",
              "      <td>80s</td>\n",
              "      <td>TV-Y</td>\n",
              "      <td>10</td>\n",
              "      <td>['animation', 'family', 'comedy', 'fantasy', '...</td>\n",
              "      <td>['GB']</td>\n",
              "      <td>24.0</td>\n",
              "      <td>6.5</td>\n",
              "      <td>5104.0</td>\n",
              "      <td>['Rachael Louise Miller 1381431 ACTOR']</td>\n",
              "      <td>0</td>\n",
              "    </tr>\n",
              "  </tbody>\n",
              "</table>\n",
              "</div>\n",
              "    <div class=\"colab-df-buttons\">\n",
              "\n",
              "  <div class=\"colab-df-container\">\n",
              "    <button class=\"colab-df-convert\" onclick=\"convertToInteractive('df-ea321a00-5b97-4bc7-ab50-ae0a51ffc6fc')\"\n",
              "            title=\"Convert this dataframe to an interactive table.\"\n",
              "            style=\"display:none;\">\n",
              "\n",
              "  <svg xmlns=\"http://www.w3.org/2000/svg\" height=\"24px\" viewBox=\"0 -960 960 960\">\n",
              "    <path d=\"M120-120v-720h720v720H120Zm60-500h600v-160H180v160Zm220 220h160v-160H400v160Zm0 220h160v-160H400v160ZM180-400h160v-160H180v160Zm440 0h160v-160H620v160ZM180-180h160v-160H180v160Zm440 0h160v-160H620v160Z\"/>\n",
              "  </svg>\n",
              "    </button>\n",
              "\n",
              "  <style>\n",
              "    .colab-df-container {\n",
              "      display:flex;\n",
              "      gap: 12px;\n",
              "    }\n",
              "\n",
              "    .colab-df-convert {\n",
              "      background-color: #E8F0FE;\n",
              "      border: none;\n",
              "      border-radius: 50%;\n",
              "      cursor: pointer;\n",
              "      display: none;\n",
              "      fill: #1967D2;\n",
              "      height: 32px;\n",
              "      padding: 0 0 0 0;\n",
              "      width: 32px;\n",
              "    }\n",
              "\n",
              "    .colab-df-convert:hover {\n",
              "      background-color: #E2EBFA;\n",
              "      box-shadow: 0px 1px 2px rgba(60, 64, 67, 0.3), 0px 1px 3px 1px rgba(60, 64, 67, 0.15);\n",
              "      fill: #174EA6;\n",
              "    }\n",
              "\n",
              "    .colab-df-buttons div {\n",
              "      margin-bottom: 4px;\n",
              "    }\n",
              "\n",
              "    [theme=dark] .colab-df-convert {\n",
              "      background-color: #3B4455;\n",
              "      fill: #D2E3FC;\n",
              "    }\n",
              "\n",
              "    [theme=dark] .colab-df-convert:hover {\n",
              "      background-color: #434B5C;\n",
              "      box-shadow: 0px 1px 3px 1px rgba(0, 0, 0, 0.15);\n",
              "      filter: drop-shadow(0px 1px 2px rgba(0, 0, 0, 0.3));\n",
              "      fill: #FFFFFF;\n",
              "    }\n",
              "  </style>\n",
              "\n",
              "    <script>\n",
              "      const buttonEl =\n",
              "        document.querySelector('#df-ea321a00-5b97-4bc7-ab50-ae0a51ffc6fc button.colab-df-convert');\n",
              "      buttonEl.style.display =\n",
              "        google.colab.kernel.accessAllowed ? 'block' : 'none';\n",
              "\n",
              "      async function convertToInteractive(key) {\n",
              "        const element = document.querySelector('#df-ea321a00-5b97-4bc7-ab50-ae0a51ffc6fc');\n",
              "        const dataTable =\n",
              "          await google.colab.kernel.invokeFunction('convertToInteractive',\n",
              "                                                    [key], {});\n",
              "        if (!dataTable) return;\n",
              "\n",
              "        const docLinkHtml = 'Like what you see? Visit the ' +\n",
              "          '<a target=\"_blank\" href=https://colab.research.google.com/notebooks/data_table.ipynb>data table notebook</a>'\n",
              "          + ' to learn more about interactive tables.';\n",
              "        element.innerHTML = '';\n",
              "        dataTable['output_type'] = 'display_data';\n",
              "        await google.colab.output.renderOutput(dataTable, element);\n",
              "        const docLink = document.createElement('div');\n",
              "        docLink.innerHTML = docLinkHtml;\n",
              "        element.appendChild(docLink);\n",
              "      }\n",
              "    </script>\n",
              "  </div>\n",
              "\n",
              "\n",
              "<div id=\"df-4997ad2e-3611-4958-a03d-152aec79bc6e\">\n",
              "  <button class=\"colab-df-quickchart\" onclick=\"quickchart('df-4997ad2e-3611-4958-a03d-152aec79bc6e')\"\n",
              "            title=\"Suggest charts\"\n",
              "            style=\"display:none;\">\n",
              "\n",
              "<svg xmlns=\"http://www.w3.org/2000/svg\" height=\"24px\"viewBox=\"0 0 24 24\"\n",
              "     width=\"24px\">\n",
              "    <g>\n",
              "        <path d=\"M19 3H5c-1.1 0-2 .9-2 2v14c0 1.1.9 2 2 2h14c1.1 0 2-.9 2-2V5c0-1.1-.9-2-2-2zM9 17H7v-7h2v7zm4 0h-2V7h2v10zm4 0h-2v-4h2v4z\"/>\n",
              "    </g>\n",
              "</svg>\n",
              "  </button>\n",
              "\n",
              "<style>\n",
              "  .colab-df-quickchart {\n",
              "      --bg-color: #E8F0FE;\n",
              "      --fill-color: #1967D2;\n",
              "      --hover-bg-color: #E2EBFA;\n",
              "      --hover-fill-color: #174EA6;\n",
              "      --disabled-fill-color: #AAA;\n",
              "      --disabled-bg-color: #DDD;\n",
              "  }\n",
              "\n",
              "  [theme=dark] .colab-df-quickchart {\n",
              "      --bg-color: #3B4455;\n",
              "      --fill-color: #D2E3FC;\n",
              "      --hover-bg-color: #434B5C;\n",
              "      --hover-fill-color: #FFFFFF;\n",
              "      --disabled-bg-color: #3B4455;\n",
              "      --disabled-fill-color: #666;\n",
              "  }\n",
              "\n",
              "  .colab-df-quickchart {\n",
              "    background-color: var(--bg-color);\n",
              "    border: none;\n",
              "    border-radius: 50%;\n",
              "    cursor: pointer;\n",
              "    display: none;\n",
              "    fill: var(--fill-color);\n",
              "    height: 32px;\n",
              "    padding: 0;\n",
              "    width: 32px;\n",
              "  }\n",
              "\n",
              "  .colab-df-quickchart:hover {\n",
              "    background-color: var(--hover-bg-color);\n",
              "    box-shadow: 0 1px 2px rgba(60, 64, 67, 0.3), 0 1px 3px 1px rgba(60, 64, 67, 0.15);\n",
              "    fill: var(--button-hover-fill-color);\n",
              "  }\n",
              "\n",
              "  .colab-df-quickchart-complete:disabled,\n",
              "  .colab-df-quickchart-complete:disabled:hover {\n",
              "    background-color: var(--disabled-bg-color);\n",
              "    fill: var(--disabled-fill-color);\n",
              "    box-shadow: none;\n",
              "  }\n",
              "\n",
              "  .colab-df-spinner {\n",
              "    border: 2px solid var(--fill-color);\n",
              "    border-color: transparent;\n",
              "    border-bottom-color: var(--fill-color);\n",
              "    animation:\n",
              "      spin 1s steps(1) infinite;\n",
              "  }\n",
              "\n",
              "  @keyframes spin {\n",
              "    0% {\n",
              "      border-color: transparent;\n",
              "      border-bottom-color: var(--fill-color);\n",
              "      border-left-color: var(--fill-color);\n",
              "    }\n",
              "    20% {\n",
              "      border-color: transparent;\n",
              "      border-left-color: var(--fill-color);\n",
              "      border-top-color: var(--fill-color);\n",
              "    }\n",
              "    30% {\n",
              "      border-color: transparent;\n",
              "      border-left-color: var(--fill-color);\n",
              "      border-top-color: var(--fill-color);\n",
              "      border-right-color: var(--fill-color);\n",
              "    }\n",
              "    40% {\n",
              "      border-color: transparent;\n",
              "      border-right-color: var(--fill-color);\n",
              "      border-top-color: var(--fill-color);\n",
              "    }\n",
              "    60% {\n",
              "      border-color: transparent;\n",
              "      border-right-color: var(--fill-color);\n",
              "    }\n",
              "    80% {\n",
              "      border-color: transparent;\n",
              "      border-right-color: var(--fill-color);\n",
              "      border-bottom-color: var(--fill-color);\n",
              "    }\n",
              "    90% {\n",
              "      border-color: transparent;\n",
              "      border-bottom-color: var(--fill-color);\n",
              "    }\n",
              "  }\n",
              "</style>\n",
              "\n",
              "  <script>\n",
              "    async function quickchart(key) {\n",
              "      const quickchartButtonEl =\n",
              "        document.querySelector('#' + key + ' button');\n",
              "      quickchartButtonEl.disabled = true;  // To prevent multiple clicks.\n",
              "      quickchartButtonEl.classList.add('colab-df-spinner');\n",
              "      try {\n",
              "        const charts = await google.colab.kernel.invokeFunction(\n",
              "            'suggestCharts', [key], {});\n",
              "      } catch (error) {\n",
              "        console.error('Error during call to suggestCharts:', error);\n",
              "      }\n",
              "      quickchartButtonEl.classList.remove('colab-df-spinner');\n",
              "      quickchartButtonEl.classList.add('colab-df-quickchart-complete');\n",
              "    }\n",
              "    (() => {\n",
              "      let quickchartButtonEl =\n",
              "        document.querySelector('#df-4997ad2e-3611-4958-a03d-152aec79bc6e button');\n",
              "      quickchartButtonEl.style.display =\n",
              "        google.colab.kernel.accessAllowed ? 'block' : 'none';\n",
              "    })();\n",
              "  </script>\n",
              "</div>\n",
              "\n",
              "    </div>\n",
              "  </div>\n"
            ],
            "application/vnd.google.colaboratory.intrinsic+json": {
              "type": "dataframe",
              "variable_name": "show_df",
              "summary": "{\n  \"name\": \"show_df\",\n  \"rows\": 1939,\n  \"fields\": [\n    {\n      \"column\": \"Unnamed: 0\",\n      \"properties\": {\n        \"dtype\": \"number\",\n        \"std\": 559,\n        \"min\": 0,\n        \"max\": 1938,\n        \"num_unique_values\": 1939,\n        \"samples\": [\n          1603,\n          1269,\n          70\n        ],\n        \"semantic_type\": \"\",\n        \"description\": \"\"\n      }\n    },\n    {\n      \"column\": \"id\",\n      \"properties\": {\n        \"dtype\": \"string\",\n        \"num_unique_values\": 1939,\n        \"samples\": [\n          \"ts314164\",\n          \"ts88937\",\n          \"ts12787\"\n        ],\n        \"semantic_type\": \"\",\n        \"description\": \"\"\n      }\n    },\n    {\n      \"column\": \"title\",\n      \"properties\": {\n        \"dtype\": \"string\",\n        \"num_unique_values\": 1933,\n        \"samples\": [\n          \"Middleditch & Schwartz\",\n          \"The Cook of Castamar\",\n          \"Haunted: Latin America\"\n        ],\n        \"semantic_type\": \"\",\n        \"description\": \"\"\n      }\n    },\n    {\n      \"column\": \"release_year\",\n      \"properties\": {\n        \"dtype\": \"number\",\n        \"std\": 5,\n        \"min\": 1969,\n        \"max\": 2022,\n        \"num_unique_values\": 40,\n        \"samples\": [\n          2002,\n          1992,\n          1994\n        ],\n        \"semantic_type\": \"\",\n        \"description\": \"\"\n      }\n    },\n    {\n      \"column\": \"release_decade\",\n      \"properties\": {\n        \"dtype\": \"category\",\n        \"num_unique_values\": 7,\n        \"samples\": [\n          \"60s\",\n          \"70s\",\n          \"10s\"\n        ],\n        \"semantic_type\": \"\",\n        \"description\": \"\"\n      }\n    },\n    {\n      \"column\": \"age_certification\",\n      \"properties\": {\n        \"dtype\": \"category\",\n        \"num_unique_values\": 7,\n        \"samples\": [\n          \"TV-14\",\n          \"TV-MA\",\n          \"TV-Y7\"\n        ],\n        \"semantic_type\": \"\",\n        \"description\": \"\"\n      }\n    },\n    {\n      \"column\": \"runtime\",\n      \"properties\": {\n        \"dtype\": \"number\",\n        \"std\": 17,\n        \"min\": 0,\n        \"max\": 178,\n        \"num_unique_values\": 94,\n        \"samples\": [\n          61,\n          49,\n          4\n        ],\n        \"semantic_type\": \"\",\n        \"description\": \"\"\n      }\n    },\n    {\n      \"column\": \"genres\",\n      \"properties\": {\n        \"dtype\": \"category\",\n        \"num_unique_values\": 827,\n        \"samples\": [\n          \"['action', 'animation', 'comedy', 'fantasy', 'scifi', 'horror', 'drama']\",\n          \"['scifi', 'drama', 'action', 'fantasy']\",\n          \"['crime', 'documentation']\"\n        ],\n        \"semantic_type\": \"\",\n        \"description\": \"\"\n      }\n    },\n    {\n      \"column\": \"production_countries\",\n      \"properties\": {\n        \"dtype\": \"category\",\n        \"num_unique_values\": 111,\n        \"samples\": [\n          \"['US', 'IL']\",\n          \"['CA']\",\n          \"['JP']\"\n        ],\n        \"semantic_type\": \"\",\n        \"description\": \"\"\n      }\n    },\n    {\n      \"column\": \"seasons\",\n      \"properties\": {\n        \"dtype\": \"number\",\n        \"std\": 2.7699519881318357,\n        \"min\": 1.0,\n        \"max\": 42.0,\n        \"num_unique_values\": 26,\n        \"samples\": [\n          42.0,\n          14.0,\n          4.0\n        ],\n        \"semantic_type\": \"\",\n        \"description\": \"\"\n      }\n    },\n    {\n      \"column\": \"imdb_score\",\n      \"properties\": {\n        \"dtype\": \"number\",\n        \"std\": 1.0774006639651286,\n        \"min\": 2.0,\n        \"max\": 9.6,\n        \"num_unique_values\": 71,\n        \"samples\": [\n          5.8,\n          8.8,\n          5.2\n        ],\n        \"semantic_type\": \"\",\n        \"description\": \"\"\n      }\n    },\n    {\n      \"column\": \"imdb_votes\",\n      \"properties\": {\n        \"dtype\": \"number\",\n        \"std\": 72089.01700251868,\n        \"min\": 5.0,\n        \"max\": 1775990.0,\n        \"num_unique_values\": 1630,\n        \"samples\": [\n          5358.0,\n          22.0,\n          568.0\n        ],\n        \"semantic_type\": \"\",\n        \"description\": \"\"\n      }\n    },\n    {\n      \"column\": \"actors\",\n      \"properties\": {\n        \"dtype\": \"string\",\n        \"num_unique_values\": 1661,\n        \"samples\": [\n          \"['Esther Wu 604134 ACTOR', 'Gong Yi Teng 926938 ACTOR', 'Wei-Lun Xi 1986626 ACTOR', 'Dino Lee 250770 ACTOR']\",\n          \"['Russell Rope 1994087 ACTOR', 'Ikechukwu Mbagwu 1993815 ACTOR', 'Hayley Seat 1964582 ACTOR', 'James Davis 1993838 ACTOR']\",\n          \"['Bill Nye 101102 ACTOR']\"\n        ],\n        \"semantic_type\": \"\",\n        \"description\": \"\"\n      }\n    },\n    {\n      \"column\": \"directors\",\n      \"properties\": {\n        \"dtype\": \"category\",\n        \"num_unique_values\": 430,\n        \"samples\": [\n          \"['Tamer Mohsen 805768 DIRECTOR']\",\n          \"['Li Huizhu 1985704 DIRECTOR']\",\n          \"['Brillante Mendoza 97723 DIRECTOR']\"\n        ],\n        \"semantic_type\": \"\",\n        \"description\": \"\"\n      }\n    }\n  ]\n}"
            }
          },
          "metadata": {},
          "execution_count": 6
        }
      ]
    },
    {
      "cell_type": "code",
      "source": [
        "# Display the first few rows of movieData.csv\n",
        "movie_df.head()"
      ],
      "metadata": {
        "colab": {
          "base_uri": "https://localhost:8080/",
          "height": 764
        },
        "id": "RjSccw7iMPLX",
        "outputId": "f4ee2b0a-67c1-441b-a835-ad13cc9d8e5c"
      },
      "execution_count": 7,
      "outputs": [
        {
          "output_type": "execute_result",
          "data": {
            "text/plain": [
              "   Unnamed: 0        id                            title  release_year  \\\n",
              "0           0   tm84618                      Taxi Driver          1976   \n",
              "1           1  tm154986                      Deliverance          1972   \n",
              "2           2  tm127384  Monty Python and the Holy Grail          1975   \n",
              "3           3  tm120801                  The Dirty Dozen          1967   \n",
              "4           4   tm70993                    Life of Brian          1979   \n",
              "\n",
              "  release_decade age_certification  runtime  \\\n",
              "0            70s                 R      114   \n",
              "1            70s                 R      109   \n",
              "2            70s                PG       91   \n",
              "3            60s                 0      150   \n",
              "4            70s                 R       94   \n",
              "\n",
              "                                        genres production_countries  \\\n",
              "0                           ['drama', 'crime']               ['US']   \n",
              "1  ['drama', 'action', 'thriller', 'european']               ['US']   \n",
              "2              ['fantasy', 'action', 'comedy']               ['GB']   \n",
              "3                            ['war', 'action']         ['GB', 'US']   \n",
              "4                                   ['comedy']               ['GB']   \n",
              "\n",
              "   imdb_score  imdb_votes                                             actors  \\\n",
              "0         8.2    808582.0  ['Robert De Niro 3748 ACTOR', 'Jodie Foster 14...   \n",
              "1         7.7    107673.0  ['Jon Voight 10103 ACTOR', 'Burt Reynolds 1302...   \n",
              "2         8.2    534486.0  ['Graham Chapman 11472 ACTOR', 'John Cleese 15...   \n",
              "3         7.7     72662.0  ['Lee Marvin 35196 ACTOR', 'Ernest Borgnine 10...   \n",
              "4         8.0    395024.0  ['Graham Chapman 11472 ACTOR', 'John Cleese 15...   \n",
              "\n",
              "                                           directors  \n",
              "0                  ['Martin Scorsese 3308 DIRECTOR']  \n",
              "1                    ['John Boorman 17727 DIRECTOR']  \n",
              "2  ['Terry Jones 11475 DIRECTOR', 'Terry Gilliam ...  \n",
              "3                   ['Robert Aldrich 1063 DIRECTOR']  \n",
              "4                     ['Terry Jones 11475 DIRECTOR']  "
            ],
            "text/html": [
              "\n",
              "  <div id=\"df-1a274010-4c00-447e-9506-5f6774860e98\" class=\"colab-df-container\">\n",
              "    <div>\n",
              "<style scoped>\n",
              "    .dataframe tbody tr th:only-of-type {\n",
              "        vertical-align: middle;\n",
              "    }\n",
              "\n",
              "    .dataframe tbody tr th {\n",
              "        vertical-align: top;\n",
              "    }\n",
              "\n",
              "    .dataframe thead th {\n",
              "        text-align: right;\n",
              "    }\n",
              "</style>\n",
              "<table border=\"1\" class=\"dataframe\">\n",
              "  <thead>\n",
              "    <tr style=\"text-align: right;\">\n",
              "      <th></th>\n",
              "      <th>Unnamed: 0</th>\n",
              "      <th>id</th>\n",
              "      <th>title</th>\n",
              "      <th>release_year</th>\n",
              "      <th>release_decade</th>\n",
              "      <th>age_certification</th>\n",
              "      <th>runtime</th>\n",
              "      <th>genres</th>\n",
              "      <th>production_countries</th>\n",
              "      <th>imdb_score</th>\n",
              "      <th>imdb_votes</th>\n",
              "      <th>actors</th>\n",
              "      <th>directors</th>\n",
              "    </tr>\n",
              "  </thead>\n",
              "  <tbody>\n",
              "    <tr>\n",
              "      <th>0</th>\n",
              "      <td>0</td>\n",
              "      <td>tm84618</td>\n",
              "      <td>Taxi Driver</td>\n",
              "      <td>1976</td>\n",
              "      <td>70s</td>\n",
              "      <td>R</td>\n",
              "      <td>114</td>\n",
              "      <td>['drama', 'crime']</td>\n",
              "      <td>['US']</td>\n",
              "      <td>8.2</td>\n",
              "      <td>808582.0</td>\n",
              "      <td>['Robert De Niro 3748 ACTOR', 'Jodie Foster 14...</td>\n",
              "      <td>['Martin Scorsese 3308 DIRECTOR']</td>\n",
              "    </tr>\n",
              "    <tr>\n",
              "      <th>1</th>\n",
              "      <td>1</td>\n",
              "      <td>tm154986</td>\n",
              "      <td>Deliverance</td>\n",
              "      <td>1972</td>\n",
              "      <td>70s</td>\n",
              "      <td>R</td>\n",
              "      <td>109</td>\n",
              "      <td>['drama', 'action', 'thriller', 'european']</td>\n",
              "      <td>['US']</td>\n",
              "      <td>7.7</td>\n",
              "      <td>107673.0</td>\n",
              "      <td>['Jon Voight 10103 ACTOR', 'Burt Reynolds 1302...</td>\n",
              "      <td>['John Boorman 17727 DIRECTOR']</td>\n",
              "    </tr>\n",
              "    <tr>\n",
              "      <th>2</th>\n",
              "      <td>2</td>\n",
              "      <td>tm127384</td>\n",
              "      <td>Monty Python and the Holy Grail</td>\n",
              "      <td>1975</td>\n",
              "      <td>70s</td>\n",
              "      <td>PG</td>\n",
              "      <td>91</td>\n",
              "      <td>['fantasy', 'action', 'comedy']</td>\n",
              "      <td>['GB']</td>\n",
              "      <td>8.2</td>\n",
              "      <td>534486.0</td>\n",
              "      <td>['Graham Chapman 11472 ACTOR', 'John Cleese 15...</td>\n",
              "      <td>['Terry Jones 11475 DIRECTOR', 'Terry Gilliam ...</td>\n",
              "    </tr>\n",
              "    <tr>\n",
              "      <th>3</th>\n",
              "      <td>3</td>\n",
              "      <td>tm120801</td>\n",
              "      <td>The Dirty Dozen</td>\n",
              "      <td>1967</td>\n",
              "      <td>60s</td>\n",
              "      <td>0</td>\n",
              "      <td>150</td>\n",
              "      <td>['war', 'action']</td>\n",
              "      <td>['GB', 'US']</td>\n",
              "      <td>7.7</td>\n",
              "      <td>72662.0</td>\n",
              "      <td>['Lee Marvin 35196 ACTOR', 'Ernest Borgnine 10...</td>\n",
              "      <td>['Robert Aldrich 1063 DIRECTOR']</td>\n",
              "    </tr>\n",
              "    <tr>\n",
              "      <th>4</th>\n",
              "      <td>4</td>\n",
              "      <td>tm70993</td>\n",
              "      <td>Life of Brian</td>\n",
              "      <td>1979</td>\n",
              "      <td>70s</td>\n",
              "      <td>R</td>\n",
              "      <td>94</td>\n",
              "      <td>['comedy']</td>\n",
              "      <td>['GB']</td>\n",
              "      <td>8.0</td>\n",
              "      <td>395024.0</td>\n",
              "      <td>['Graham Chapman 11472 ACTOR', 'John Cleese 15...</td>\n",
              "      <td>['Terry Jones 11475 DIRECTOR']</td>\n",
              "    </tr>\n",
              "  </tbody>\n",
              "</table>\n",
              "</div>\n",
              "    <div class=\"colab-df-buttons\">\n",
              "\n",
              "  <div class=\"colab-df-container\">\n",
              "    <button class=\"colab-df-convert\" onclick=\"convertToInteractive('df-1a274010-4c00-447e-9506-5f6774860e98')\"\n",
              "            title=\"Convert this dataframe to an interactive table.\"\n",
              "            style=\"display:none;\">\n",
              "\n",
              "  <svg xmlns=\"http://www.w3.org/2000/svg\" height=\"24px\" viewBox=\"0 -960 960 960\">\n",
              "    <path d=\"M120-120v-720h720v720H120Zm60-500h600v-160H180v160Zm220 220h160v-160H400v160Zm0 220h160v-160H400v160ZM180-400h160v-160H180v160Zm440 0h160v-160H620v160ZM180-180h160v-160H180v160Zm440 0h160v-160H620v160Z\"/>\n",
              "  </svg>\n",
              "    </button>\n",
              "\n",
              "  <style>\n",
              "    .colab-df-container {\n",
              "      display:flex;\n",
              "      gap: 12px;\n",
              "    }\n",
              "\n",
              "    .colab-df-convert {\n",
              "      background-color: #E8F0FE;\n",
              "      border: none;\n",
              "      border-radius: 50%;\n",
              "      cursor: pointer;\n",
              "      display: none;\n",
              "      fill: #1967D2;\n",
              "      height: 32px;\n",
              "      padding: 0 0 0 0;\n",
              "      width: 32px;\n",
              "    }\n",
              "\n",
              "    .colab-df-convert:hover {\n",
              "      background-color: #E2EBFA;\n",
              "      box-shadow: 0px 1px 2px rgba(60, 64, 67, 0.3), 0px 1px 3px 1px rgba(60, 64, 67, 0.15);\n",
              "      fill: #174EA6;\n",
              "    }\n",
              "\n",
              "    .colab-df-buttons div {\n",
              "      margin-bottom: 4px;\n",
              "    }\n",
              "\n",
              "    [theme=dark] .colab-df-convert {\n",
              "      background-color: #3B4455;\n",
              "      fill: #D2E3FC;\n",
              "    }\n",
              "\n",
              "    [theme=dark] .colab-df-convert:hover {\n",
              "      background-color: #434B5C;\n",
              "      box-shadow: 0px 1px 3px 1px rgba(0, 0, 0, 0.15);\n",
              "      filter: drop-shadow(0px 1px 2px rgba(0, 0, 0, 0.3));\n",
              "      fill: #FFFFFF;\n",
              "    }\n",
              "  </style>\n",
              "\n",
              "    <script>\n",
              "      const buttonEl =\n",
              "        document.querySelector('#df-1a274010-4c00-447e-9506-5f6774860e98 button.colab-df-convert');\n",
              "      buttonEl.style.display =\n",
              "        google.colab.kernel.accessAllowed ? 'block' : 'none';\n",
              "\n",
              "      async function convertToInteractive(key) {\n",
              "        const element = document.querySelector('#df-1a274010-4c00-447e-9506-5f6774860e98');\n",
              "        const dataTable =\n",
              "          await google.colab.kernel.invokeFunction('convertToInteractive',\n",
              "                                                    [key], {});\n",
              "        if (!dataTable) return;\n",
              "\n",
              "        const docLinkHtml = 'Like what you see? Visit the ' +\n",
              "          '<a target=\"_blank\" href=https://colab.research.google.com/notebooks/data_table.ipynb>data table notebook</a>'\n",
              "          + ' to learn more about interactive tables.';\n",
              "        element.innerHTML = '';\n",
              "        dataTable['output_type'] = 'display_data';\n",
              "        await google.colab.output.renderOutput(dataTable, element);\n",
              "        const docLink = document.createElement('div');\n",
              "        docLink.innerHTML = docLinkHtml;\n",
              "        element.appendChild(docLink);\n",
              "      }\n",
              "    </script>\n",
              "  </div>\n",
              "\n",
              "\n",
              "<div id=\"df-64673931-541e-4fb5-85b8-37ad8413547c\">\n",
              "  <button class=\"colab-df-quickchart\" onclick=\"quickchart('df-64673931-541e-4fb5-85b8-37ad8413547c')\"\n",
              "            title=\"Suggest charts\"\n",
              "            style=\"display:none;\">\n",
              "\n",
              "<svg xmlns=\"http://www.w3.org/2000/svg\" height=\"24px\"viewBox=\"0 0 24 24\"\n",
              "     width=\"24px\">\n",
              "    <g>\n",
              "        <path d=\"M19 3H5c-1.1 0-2 .9-2 2v14c0 1.1.9 2 2 2h14c1.1 0 2-.9 2-2V5c0-1.1-.9-2-2-2zM9 17H7v-7h2v7zm4 0h-2V7h2v10zm4 0h-2v-4h2v4z\"/>\n",
              "    </g>\n",
              "</svg>\n",
              "  </button>\n",
              "\n",
              "<style>\n",
              "  .colab-df-quickchart {\n",
              "      --bg-color: #E8F0FE;\n",
              "      --fill-color: #1967D2;\n",
              "      --hover-bg-color: #E2EBFA;\n",
              "      --hover-fill-color: #174EA6;\n",
              "      --disabled-fill-color: #AAA;\n",
              "      --disabled-bg-color: #DDD;\n",
              "  }\n",
              "\n",
              "  [theme=dark] .colab-df-quickchart {\n",
              "      --bg-color: #3B4455;\n",
              "      --fill-color: #D2E3FC;\n",
              "      --hover-bg-color: #434B5C;\n",
              "      --hover-fill-color: #FFFFFF;\n",
              "      --disabled-bg-color: #3B4455;\n",
              "      --disabled-fill-color: #666;\n",
              "  }\n",
              "\n",
              "  .colab-df-quickchart {\n",
              "    background-color: var(--bg-color);\n",
              "    border: none;\n",
              "    border-radius: 50%;\n",
              "    cursor: pointer;\n",
              "    display: none;\n",
              "    fill: var(--fill-color);\n",
              "    height: 32px;\n",
              "    padding: 0;\n",
              "    width: 32px;\n",
              "  }\n",
              "\n",
              "  .colab-df-quickchart:hover {\n",
              "    background-color: var(--hover-bg-color);\n",
              "    box-shadow: 0 1px 2px rgba(60, 64, 67, 0.3), 0 1px 3px 1px rgba(60, 64, 67, 0.15);\n",
              "    fill: var(--button-hover-fill-color);\n",
              "  }\n",
              "\n",
              "  .colab-df-quickchart-complete:disabled,\n",
              "  .colab-df-quickchart-complete:disabled:hover {\n",
              "    background-color: var(--disabled-bg-color);\n",
              "    fill: var(--disabled-fill-color);\n",
              "    box-shadow: none;\n",
              "  }\n",
              "\n",
              "  .colab-df-spinner {\n",
              "    border: 2px solid var(--fill-color);\n",
              "    border-color: transparent;\n",
              "    border-bottom-color: var(--fill-color);\n",
              "    animation:\n",
              "      spin 1s steps(1) infinite;\n",
              "  }\n",
              "\n",
              "  @keyframes spin {\n",
              "    0% {\n",
              "      border-color: transparent;\n",
              "      border-bottom-color: var(--fill-color);\n",
              "      border-left-color: var(--fill-color);\n",
              "    }\n",
              "    20% {\n",
              "      border-color: transparent;\n",
              "      border-left-color: var(--fill-color);\n",
              "      border-top-color: var(--fill-color);\n",
              "    }\n",
              "    30% {\n",
              "      border-color: transparent;\n",
              "      border-left-color: var(--fill-color);\n",
              "      border-top-color: var(--fill-color);\n",
              "      border-right-color: var(--fill-color);\n",
              "    }\n",
              "    40% {\n",
              "      border-color: transparent;\n",
              "      border-right-color: var(--fill-color);\n",
              "      border-top-color: var(--fill-color);\n",
              "    }\n",
              "    60% {\n",
              "      border-color: transparent;\n",
              "      border-right-color: var(--fill-color);\n",
              "    }\n",
              "    80% {\n",
              "      border-color: transparent;\n",
              "      border-right-color: var(--fill-color);\n",
              "      border-bottom-color: var(--fill-color);\n",
              "    }\n",
              "    90% {\n",
              "      border-color: transparent;\n",
              "      border-bottom-color: var(--fill-color);\n",
              "    }\n",
              "  }\n",
              "</style>\n",
              "\n",
              "  <script>\n",
              "    async function quickchart(key) {\n",
              "      const quickchartButtonEl =\n",
              "        document.querySelector('#' + key + ' button');\n",
              "      quickchartButtonEl.disabled = true;  // To prevent multiple clicks.\n",
              "      quickchartButtonEl.classList.add('colab-df-spinner');\n",
              "      try {\n",
              "        const charts = await google.colab.kernel.invokeFunction(\n",
              "            'suggestCharts', [key], {});\n",
              "      } catch (error) {\n",
              "        console.error('Error during call to suggestCharts:', error);\n",
              "      }\n",
              "      quickchartButtonEl.classList.remove('colab-df-spinner');\n",
              "      quickchartButtonEl.classList.add('colab-df-quickchart-complete');\n",
              "    }\n",
              "    (() => {\n",
              "      let quickchartButtonEl =\n",
              "        document.querySelector('#df-64673931-541e-4fb5-85b8-37ad8413547c button');\n",
              "      quickchartButtonEl.style.display =\n",
              "        google.colab.kernel.accessAllowed ? 'block' : 'none';\n",
              "    })();\n",
              "  </script>\n",
              "</div>\n",
              "\n",
              "    </div>\n",
              "  </div>\n"
            ],
            "application/vnd.google.colaboratory.intrinsic+json": {
              "type": "dataframe",
              "variable_name": "movie_df",
              "summary": "{\n  \"name\": \"movie_df\",\n  \"rows\": 3429,\n  \"fields\": [\n    {\n      \"column\": \"Unnamed: 0\",\n      \"properties\": {\n        \"dtype\": \"number\",\n        \"std\": 990,\n        \"min\": 0,\n        \"max\": 3428,\n        \"num_unique_values\": 3429,\n        \"samples\": [\n          578,\n          1055,\n          564\n        ],\n        \"semantic_type\": \"\",\n        \"description\": \"\"\n      }\n    },\n    {\n      \"column\": \"id\",\n      \"properties\": {\n        \"dtype\": \"string\",\n        \"num_unique_values\": 3429,\n        \"samples\": [\n          \"tm235979\",\n          \"tm224275\",\n          \"tm70652\"\n        ],\n        \"semantic_type\": \"\",\n        \"description\": \"\"\n      }\n    },\n    {\n      \"column\": \"title\",\n      \"properties\": {\n        \"dtype\": \"string\",\n        \"num_unique_values\": 3411,\n        \"samples\": [\n          \"Dancing on Glass\",\n          \"Gun City\",\n          \"The Mist\"\n        ],\n        \"semantic_type\": \"\",\n        \"description\": \"\"\n      }\n    },\n    {\n      \"column\": \"release_year\",\n      \"properties\": {\n        \"dtype\": \"number\",\n        \"std\": 7,\n        \"min\": 1954,\n        \"max\": 2022,\n        \"num_unique_values\": 62,\n        \"samples\": [\n          2012,\n          2018,\n          1976\n        ],\n        \"semantic_type\": \"\",\n        \"description\": \"\"\n      }\n    },\n    {\n      \"column\": \"release_decade\",\n      \"properties\": {\n        \"dtype\": \"category\",\n        \"num_unique_values\": 8,\n        \"samples\": [\n          \"60s\",\n          \"00s\",\n          \"70s\"\n        ],\n        \"semantic_type\": \"\",\n        \"description\": \"\"\n      }\n    },\n    {\n      \"column\": \"age_certification\",\n      \"properties\": {\n        \"dtype\": \"category\",\n        \"num_unique_values\": 6,\n        \"samples\": [\n          \"R\",\n          \"PG\",\n          \"NC-17\"\n        ],\n        \"semantic_type\": \"\",\n        \"description\": \"\"\n      }\n    },\n    {\n      \"column\": \"runtime\",\n      \"properties\": {\n        \"dtype\": \"number\",\n        \"std\": 27,\n        \"min\": 2,\n        \"max\": 225,\n        \"num_unique_values\": 187,\n        \"samples\": [\n          20,\n          149,\n          156\n        ],\n        \"semantic_type\": \"\",\n        \"description\": \"\"\n      }\n    },\n    {\n      \"column\": \"genres\",\n      \"properties\": {\n        \"dtype\": \"category\",\n        \"num_unique_values\": 1076,\n        \"samples\": [\n          \"['action', 'crime', 'drama', 'thriller', 'fantasy']\",\n          \"['drama', 'romance', 'fantasy']\",\n          \"['scifi', 'action', 'drama', 'fantasy']\"\n        ],\n        \"semantic_type\": \"\",\n        \"description\": \"\"\n      }\n    },\n    {\n      \"column\": \"production_countries\",\n      \"properties\": {\n        \"dtype\": \"category\",\n        \"num_unique_values\": 391,\n        \"samples\": [\n          \"['DZ', 'EG']\",\n          \"['HK', 'CN']\",\n          \"['DE', 'GB', 'US', 'BS', 'CZ']\"\n        ],\n        \"semantic_type\": \"\",\n        \"description\": \"\"\n      }\n    },\n    {\n      \"column\": \"imdb_score\",\n      \"properties\": {\n        \"dtype\": \"number\",\n        \"std\": 1.1274857464556158,\n        \"min\": 1.5,\n        \"max\": 9.1,\n        \"num_unique_values\": 74,\n        \"samples\": [\n          7.5,\n          1.5,\n          7.8\n        ],\n        \"semantic_type\": \"\",\n        \"description\": \"\"\n      }\n    },\n    {\n      \"column\": \"imdb_votes\",\n      \"properties\": {\n        \"dtype\": \"number\",\n        \"std\": 106603.98037671472,\n        \"min\": 0.0,\n        \"max\": 2294231.0,\n        \"num_unique_values\": 2748,\n        \"samples\": [\n          1739.0,\n          2878.0,\n          2952.0\n        ],\n        \"semantic_type\": \"\",\n        \"description\": \"\"\n      }\n    },\n    {\n      \"column\": \"actors\",\n      \"properties\": {\n        \"dtype\": \"string\",\n        \"num_unique_values\": 3186,\n        \"samples\": [\n          \"['Vice Ganda 250832 ACTOR', 'Coco Martin 140444 ACTOR', 'Awra Briguela 601551 ACTOR', 'Assunta de Rossi 148028 ACTOR', 'Onyok Pineda 601561 ACTOR', 'Pepe Herrera 206514 ACTOR', 'Joem Bascon 158917 ACTOR', 'Matet De Leon 141680 ACTOR', 'Kiray Celis 149319 ACTOR', 'Lassy Marquez 250837 ACTOR', 'MC Calaquian 250840 ACTOR', 'Negi Molina 601555 ACTOR', 'Lao Rodriguez 134351 ACTOR', 'Kiko Matos 184035 ACTOR', 'Jack Falcis 163739 ACTOR']\",\n          \"['Jen Kirkman 66573 ACTOR']\",\n          \"['Will Smith 4696 ACTOR', 'Edward Norton 2540 ACTOR', 'Kate Winslet 1261 ACTOR', 'Michael Pe\\u00f1a 1472 ACTOR', 'Helen Mirren 7184 ACTOR', 'Jacob Latimore 2381 ACTOR', 'Keira Knightley 3382 ACTOR', 'Naomie Harris 5797 ACTOR', 'Ann Dowd 7102 ACTOR', 'Enrique Murciano 3323 ACTOR', 'Kylie Rogers 30031 ACTOR', 'Natalie Gold 2546 ACTOR', 'Liza Col\\u00f3n-Zayas 21090 ACTOR', 'Shirley Rumierk 237928 ACTOR', 'Alyssa Cheatham 639502 ACTOR', 'Benjamin Snyder 230319 ACTOR', 'Mary Beth Peil 41633 ACTOR', 'Andy Taylor 639487 ACTOR', 'Michael Cumpsty 49322 ACTOR', 'Claire Glassford 639459 ACTOR', 'Joseph Castillo-Midyett 639678 ACTOR', 'Bryan Terrell Clark 639621 ACTOR', 'Marcus Paul James 128335 ACTOR', 'Mykal Kilgore 639629 ACTOR', 'Jimmy Palumbo 79837 ACTOR', 'Elia Monte-Brown 233944 ACTOR', 'Suzy Jane Hunt 646335 ACTOR', 'Crystal Anne Dickinson 12569 ACTOR', 'Andres Munar 82635 ACTOR', 'Harriett D. Foy 340058 ACTOR', 'Maureen Mueller 36865 ACTOR', 'Steven Hauck 46871 ACTOR', \\\"Robert 'Toshi' Kar Yuen Chan 225820 ACTOR\\\", 'Willie C. Carpenter 17821 ACTOR', 'Jabriah Anderson 639456 ACTOR', 'Laura Hart 639789 ACTOR', 'Emily Bennett 277209 ACTOR', 'Liz Celeste 639715 ACTOR', 'Madeline Lupi 243679 ACTOR', 'Jordana Keller 325342 ACTOR', 'Reginald L. Barnes 639692 ACTOR', 'Lily Peterson 607963 ACTOR']\"\n        ],\n        \"semantic_type\": \"\",\n        \"description\": \"\"\n      }\n    },\n    {\n      \"column\": \"directors\",\n      \"properties\": {\n        \"dtype\": \"string\",\n        \"num_unique_values\": 2530,\n        \"samples\": [\n          \"['K. Madhu 202780 DIRECTOR']\",\n          \"['Sel\\u00e7uk Metin 1385190 DIRECTOR']\",\n          \"['G\\u00e1bor Csup\\u00f3 44465 DIRECTOR']\"\n        ],\n        \"semantic_type\": \"\",\n        \"description\": \"\"\n      }\n    }\n  ]\n}"
            }
          },
          "metadata": {},
          "execution_count": 7
        }
      ]
    },
    {
      "cell_type": "code",
      "source": [
        "# Replace NaN IMDb scores with None in show_df\n",
        "show_df['imdb_score'] = show_df['imdb_score'].apply(lambda x: None if pd.isnull(x) else x)\n",
        "\n",
        "# Replace NaN IMDb scores with None in movie_df\n",
        "movie_df['imdb_score'] = movie_df['imdb_score'].apply(lambda x: None if pd.isnull(x) else x)"
      ],
      "metadata": {
        "id": "nbsBw2kGf942"
      },
      "execution_count": 8,
      "outputs": []
    },
    {
      "cell_type": "code",
      "source": [
        "# Convert cleaned Pandas DataFrames to Spark DataFrames\n",
        "spark_show_df_cleaned = spark.createDataFrame(show_df)\n",
        "spark_movie_df_cleaned = spark.createDataFrame(movie_df)\n",
        "\n",
        "# Create temporary views for the cleaned Spark DataFrames\n",
        "spark_show_df_cleaned.createOrReplaceTempView(\"showData_cleaned\")\n",
        "spark_movie_df_cleaned.createOrReplaceTempView(\"movieData_cleaned\")"
      ],
      "metadata": {
        "id": "t_dsImEiaJt_"
      },
      "execution_count": 9,
      "outputs": []
    },
    {
      "cell_type": "code",
      "source": [
        "# Display the schema of the Spark DataFrame\n",
        "spark_show_df_cleaned.printSchema()\n",
        "\n"
      ],
      "metadata": {
        "colab": {
          "base_uri": "https://localhost:8080/"
        },
        "id": "SxjopIrGdZL-",
        "outputId": "b3d46405-1b74-4fab-d58e-9db4f1d9715a"
      },
      "execution_count": 10,
      "outputs": [
        {
          "output_type": "stream",
          "name": "stdout",
          "text": [
            "root\n",
            " |-- Unnamed: 0: long (nullable = true)\n",
            " |-- id: string (nullable = true)\n",
            " |-- title: string (nullable = true)\n",
            " |-- release_year: long (nullable = true)\n",
            " |-- release_decade: string (nullable = true)\n",
            " |-- age_certification: string (nullable = true)\n",
            " |-- runtime: long (nullable = true)\n",
            " |-- genres: string (nullable = true)\n",
            " |-- production_countries: string (nullable = true)\n",
            " |-- seasons: double (nullable = true)\n",
            " |-- imdb_score: double (nullable = true)\n",
            " |-- imdb_votes: double (nullable = true)\n",
            " |-- actors: string (nullable = true)\n",
            " |-- directors: string (nullable = true)\n",
            "\n"
          ]
        }
      ]
    },
    {
      "cell_type": "code",
      "source": [
        "# Display the schema of the Spark DataFrame\n",
        "spark_movie_df_cleaned.printSchema()"
      ],
      "metadata": {
        "colab": {
          "base_uri": "https://localhost:8080/"
        },
        "id": "hd05QRUsdk44",
        "outputId": "a99a4f14-bf1d-4fca-852b-ba3fad673768"
      },
      "execution_count": 11,
      "outputs": [
        {
          "output_type": "stream",
          "name": "stdout",
          "text": [
            "root\n",
            " |-- Unnamed: 0: long (nullable = true)\n",
            " |-- id: string (nullable = true)\n",
            " |-- title: string (nullable = true)\n",
            " |-- release_year: long (nullable = true)\n",
            " |-- release_decade: string (nullable = true)\n",
            " |-- age_certification: string (nullable = true)\n",
            " |-- runtime: long (nullable = true)\n",
            " |-- genres: string (nullable = true)\n",
            " |-- production_countries: string (nullable = true)\n",
            " |-- imdb_score: double (nullable = true)\n",
            " |-- imdb_votes: double (nullable = true)\n",
            " |-- actors: string (nullable = true)\n",
            " |-- directors: string (nullable = true)\n",
            "\n"
          ]
        }
      ]
    },
    {
      "cell_type": "markdown",
      "source": [
        "# What are the top-rated TV shows and movies based on IMDb scores?"
      ],
      "metadata": {
        "id": "QcO2Q4UEfIGa"
      }
    },
    {
      "cell_type": "code",
      "source": [
        "# Finding top rated tv shows and movies, excluding rows with NaN IMDb scores\n",
        "top_rated = spark.sql(\"\"\"\n",
        "    SELECT 'TV Show' AS type, title, imdb_score\n",
        "    FROM showData_cleaned\n",
        "    WHERE imdb_score IS NOT NULL AND NOT isnan(imdb_score)\n",
        "    UNION ALL\n",
        "    SELECT 'Movie' AS type, title, imdb_score\n",
        "    FROM movieData_cleaned\n",
        "    WHERE imdb_score IS NOT NULL AND NOT isnan(imdb_score)\n",
        "    ORDER BY imdb_score DESC\n",
        "    LIMIT 10\n",
        "\"\"\")\n",
        "top_rated.show()\n"
      ],
      "metadata": {
        "colab": {
          "base_uri": "https://localhost:8080/"
        },
        "id": "VxSkmmzQeY6t",
        "outputId": "905bc5f2-955d-4d67-e74f-1ed4101789db"
      },
      "execution_count": 12,
      "outputs": [
        {
          "output_type": "stream",
          "name": "stdout",
          "text": [
            "+-------+--------------------+----------+\n",
            "|   type|               title|imdb_score|\n",
            "+-------+--------------------+----------+\n",
            "|TV Show|            #ABtalks|       9.6|\n",
            "|TV Show|        Breaking Bad|       9.5|\n",
            "|TV Show|            Khawatir|       9.5|\n",
            "|TV Show|          Our Planet|       9.3|\n",
            "|TV Show|Avatar: The Last ...|       9.3|\n",
            "|TV Show|          Reply 1988|       9.2|\n",
            "|  Movie|               Major|       9.1|\n",
            "|  Movie|Chhota Bheem & Kr...|       9.1|\n",
            "|TV Show|      The Last Dance|       9.1|\n",
            "|TV Show|           My Mister|       9.1|\n",
            "+-------+--------------------+----------+\n",
            "\n"
          ]
        }
      ]
    },
    {
      "cell_type": "markdown",
      "source": [
        "# Which genres are most common among TV shows and movies?"
      ],
      "metadata": {
        "id": "YCRtCerni8QY"
      }
    },
    {
      "cell_type": "code",
      "source": [
        "result = spark.sql(\"\"\"\n",
        "    SELECT type, trim('\\\"' FROM genre) AS genre, COUNT(*) AS count\n",
        "    FROM\n",
        "      (SELECT 'TV Show' AS type, explode(split(trim('[]' FROM genres), ', ')) AS genre FROM showData_cleaned\n",
        "       UNION ALL\n",
        "       SELECT 'Movie' AS type, explode(split(trim('[]' FROM genres), ', ')) AS genre FROM movieData_cleaned)\n",
        "    WHERE genre != \"\"\n",
        "    GROUP BY type, genre\n",
        "    ORDER BY count DESC\n",
        "\"\"\")\n",
        "# Show the result\n",
        "result.show()"
      ],
      "metadata": {
        "colab": {
          "base_uri": "https://localhost:8080/"
        },
        "id": "Utlau_Rti9XX",
        "outputId": "8adde13b-4440-4a71-a01a-e7d3b3fa48c1"
      },
      "execution_count": 13,
      "outputs": [
        {
          "output_type": "stream",
          "name": "stdout",
          "text": [
            "+-------+---------------+-----+\n",
            "|   type|          genre|count|\n",
            "+-------+---------------+-----+\n",
            "|  Movie|        'drama'| 1805|\n",
            "|  Movie|       'comedy'| 1493|\n",
            "|TV Show|        'drama'| 1022|\n",
            "|  Movie|     'thriller'|  792|\n",
            "|TV Show|       'comedy'|  725|\n",
            "|  Movie|       'action'|  688|\n",
            "|  Movie|      'romance'|  683|\n",
            "|  Movie|'documentation'|  539|\n",
            "|  Movie|        'crime'|  533|\n",
            "|TV Show|       'action'|  421|\n",
            "|TV Show|    'animation'|  401|\n",
            "|TV Show|     'thriller'|  388|\n",
            "|TV Show|        'crime'|  376|\n",
            "|TV Show|        'scifi'|  360|\n",
            "|  Movie|     'european'|  329|\n",
            "|  Movie|       'family'|  328|\n",
            "|TV Show|       'family'|  324|\n",
            "|TV Show|'documentation'|  320|\n",
            "|TV Show|      'fantasy'|  315|\n",
            "|  Movie|      'fantasy'|  304|\n",
            "+-------+---------------+-----+\n",
            "only showing top 20 rows\n",
            "\n"
          ]
        }
      ]
    },
    {
      "cell_type": "markdown",
      "source": [
        "# How does the distribution of IMDb scores differ between TV shows and movies?"
      ],
      "metadata": {
        "id": "ocQyUHVvkx44"
      }
    },
    {
      "cell_type": "code",
      "source": [
        "from pyspark.sql.functions import col\n",
        "\n",
        "# Calculate the average IMDb score for TV shows, excluding NaN values\n",
        "tv_show_avg = spark.sql(\"\"\"\n",
        "    SELECT AVG(imdb_score) AS avg_imdb_score\n",
        "    FROM showData_cleaned\n",
        "    WHERE imdb_score IS NOT NULL AND NOT isnan(imdb_score)\n",
        "\"\"\")\n",
        "tv_show_avg_score = tv_show_avg.collect()[0][\"avg_imdb_score\"]\n",
        "\n",
        "# Calculate the average IMDb score for movies, excluding NaN values\n",
        "movie_avg = spark.sql(\"\"\"\n",
        "    SELECT AVG(imdb_score) AS avg_imdb_score\n",
        "    FROM movieData_cleaned\n",
        "    WHERE imdb_score IS NOT NULL AND NOT isnan(imdb_score)\n",
        "\"\"\")\n",
        "movie_avg_score = movie_avg.collect()[0][\"avg_imdb_score\"]\n",
        "\n",
        "# Display the results\n",
        "print(\"Average IMDb score for TV shows:\", tv_show_avg_score)\n",
        "print(\"Average IMDb score for movies:\", movie_avg_score)\n"
      ],
      "metadata": {
        "colab": {
          "base_uri": "https://localhost:8080/"
        },
        "id": "M5-jb-Zet_7k",
        "outputId": "69a6d7c7-b017-458a-d939-d21962954f10"
      },
      "execution_count": 14,
      "outputs": [
        {
          "output_type": "stream",
          "name": "stdout",
          "text": [
            "Average IMDb score for TV shows: 6.977926766374413\n",
            "Average IMDb score for movies: 6.2467483231262815\n"
          ]
        }
      ]
    },
    {
      "cell_type": "code",
      "source": [
        "# Calculate the average IMDb score for TV shows and movies, excluding NaN values\n",
        "result = spark.sql(\"\"\"\n",
        "    SELECT 'All' AS type,\n",
        "           FORMAT_NUMBER(AVG(imdb_score), 2) AS avg_imdb_score\n",
        "    FROM\n",
        "    (\n",
        "        SELECT imdb_score FROM showData_cleaned WHERE NOT isnan(imdb_score)\n",
        "        UNION ALL\n",
        "        SELECT imdb_score FROM movieData_cleaned WHERE NOT isnan(imdb_score)\n",
        "    )\n",
        "\"\"\")\n",
        "result.show()\n"
      ],
      "metadata": {
        "colab": {
          "base_uri": "https://localhost:8080/"
        },
        "id": "linU3G-pjDzl",
        "outputId": "86f31d78-5f9b-4241-edd6-10ff1ed6570f"
      },
      "execution_count": 15,
      "outputs": [
        {
          "output_type": "stream",
          "name": "stdout",
          "text": [
            "+----+--------------+\n",
            "|type|avg_imdb_score|\n",
            "+----+--------------+\n",
            "| All|          6.51|\n",
            "+----+--------------+\n",
            "\n"
          ]
        }
      ]
    },
    {
      "cell_type": "markdown",
      "source": [
        "# What is the average runtime of TV shows and movies?"
      ],
      "metadata": {
        "id": "cuIA_weRpF_h"
      }
    },
    {
      "cell_type": "code",
      "source": [
        "result = spark.sql(\"\"\"\n",
        "    SELECT 'TV Show' AS type, AVG(runtime) AS avg_runtime\n",
        "    FROM showData_cleaned\n",
        "    WHERE runtime IS NOT NULL\n",
        "    UNION ALL\n",
        "    SELECT 'Movie' AS type, AVG(runtime) AS avg_runtime\n",
        "    FROM movieData_cleaned\n",
        "    WHERE runtime IS NOT NULL\n",
        "    GROUP BY type\n",
        "\"\"\")\n",
        "result.show()\n"
      ],
      "metadata": {
        "colab": {
          "base_uri": "https://localhost:8080/"
        },
        "id": "jFz63iGZpH8a",
        "outputId": "15a83846-eb47-4fac-8814-e08873c81376"
      },
      "execution_count": 16,
      "outputs": [
        {
          "output_type": "stream",
          "name": "stdout",
          "text": [
            "+-------+------------------+\n",
            "|   type|       avg_runtime|\n",
            "+-------+------------------+\n",
            "|TV Show|38.765858690046414|\n",
            "|  Movie|101.06620005832605|\n",
            "+-------+------------------+\n",
            "\n"
          ]
        }
      ]
    },
    {
      "cell_type": "markdown",
      "source": [
        "# How has the annual release pattern of TV shows and movies evolved over the span of 10 years, from 2013 to 2022?"
      ],
      "metadata": {
        "id": "mrzkgopqp2yM"
      }
    },
    {
      "cell_type": "code",
      "source": [
        "# Query to count the number of TV shows and movies released each year\n",
        "result = spark.sql(\"\"\"\n",
        "    SELECT type, release_year, COUNT(*) AS count\n",
        "    FROM\n",
        "      (SELECT 'TV Show' AS type, release_year FROM showData_cleaned\n",
        "       UNION ALL\n",
        "       SELECT 'Movie' AS type, release_year FROM movieData_cleaned)\n",
        "    WHERE release_year IS NOT NULL\n",
        "    GROUP BY type, release_year\n",
        "    ORDER BY release_year DESC, type DESC\n",
        "    LIMIT 20\n",
        "\"\"\")\n",
        "\n",
        "# Show the result\n",
        "result.show()\n"
      ],
      "metadata": {
        "colab": {
          "base_uri": "https://localhost:8080/"
        },
        "id": "-_QWWcg-qBKb",
        "outputId": "d195bb57-093a-43a7-9795-94956b9231e2"
      },
      "execution_count": 17,
      "outputs": [
        {
          "output_type": "stream",
          "name": "stdout",
          "text": [
            "+-------+------------+-----+\n",
            "|   type|release_year|count|\n",
            "+-------+------------+-----+\n",
            "|TV Show|        2022|  156|\n",
            "|  Movie|        2022|  180|\n",
            "|TV Show|        2021|  289|\n",
            "|  Movie|        2021|  429|\n",
            "|TV Show|        2020|  257|\n",
            "|  Movie|        2020|  424|\n",
            "|TV Show|        2019|  283|\n",
            "|  Movie|        2019|  465|\n",
            "|TV Show|        2018|  286|\n",
            "|  Movie|        2018|  446|\n",
            "|TV Show|        2017|  173|\n",
            "|  Movie|        2017|  367|\n",
            "|TV Show|        2016|  130|\n",
            "|  Movie|        2016|  213|\n",
            "|TV Show|        2015|   88|\n",
            "|  Movie|        2015|  124|\n",
            "|TV Show|        2014|   41|\n",
            "|  Movie|        2014|  103|\n",
            "|TV Show|        2013|   35|\n",
            "|  Movie|        2013|   92|\n",
            "+-------+------------+-----+\n",
            "\n"
          ]
        }
      ]
    },
    {
      "cell_type": "markdown",
      "source": [
        "# Which countries produce the most TV shows and movies?\n"
      ],
      "metadata": {
        "id": "eJFCsCSCt7ZB"
      }
    },
    {
      "cell_type": "code",
      "source": [
        "# Query to count the number of TV shows and movies produced by each country\n",
        "result = spark.sql(\"\"\"\n",
        "    SELECT production_country,\n",
        "           SUM(CASE WHEN type = 'TV Show' THEN 1 ELSE 0 END) AS tv_count,\n",
        "           SUM(CASE WHEN type = 'Movie' THEN 1 ELSE 0 END) AS movie_count,\n",
        "           COUNT(*) AS total_count\n",
        "    FROM\n",
        "      (SELECT 'TV Show' AS type, explode(split(production_countries, ', ')) AS production_country FROM showData_cleaned\n",
        "       UNION ALL\n",
        "       SELECT 'Movie' AS type, explode(split(production_countries, ', ')) AS production_country FROM movieData_cleaned)\n",
        "    WHERE production_country != \"\" AND production_country NOT LIKE \"%[%\" AND production_country NOT LIKE \"%]%\"\n",
        "    GROUP BY production_country\n",
        "    ORDER BY total_count DESC\n",
        "\"\"\")\n",
        "\n",
        "# Show the result\n",
        "result.show()\n"
      ],
      "metadata": {
        "colab": {
          "base_uri": "https://localhost:8080/"
        },
        "id": "H_5D3ctwuQJv",
        "outputId": "347d7f28-66d2-48e7-9f46-b5639e03cd0d"
      },
      "execution_count": 18,
      "outputs": [
        {
          "output_type": "stream",
          "name": "stdout",
          "text": [
            "+------------------+--------+-----------+-----------+\n",
            "|production_country|tv_count|movie_count|total_count|\n",
            "+------------------+--------+-----------+-----------+\n",
            "|              'US'|       3|         33|         36|\n",
            "|              'GB'|       0|         34|         34|\n",
            "|              'FR'|       2|         27|         29|\n",
            "|              'DE'|       0|         19|         19|\n",
            "|              'CA'|       0|         10|         10|\n",
            "|              'DK'|       0|         10|         10|\n",
            "|              'NL'|       0|          8|          8|\n",
            "|              'CH'|       0|          7|          7|\n",
            "|              'CN'|       0|          6|          6|\n",
            "|              'ES'|       0|          5|          5|\n",
            "|              'BE'|       0|          5|          5|\n",
            "|              'SE'|       0|          5|          5|\n",
            "|              'MX'|       0|          5|          5|\n",
            "|              'JP'|       1|          3|          4|\n",
            "|              'AU'|       1|          3|          4|\n",
            "|              'PL'|       0|          4|          4|\n",
            "|              'HU'|       0|          4|          4|\n",
            "|              'QA'|       0|          4|          4|\n",
            "|              'LU'|       0|          3|          3|\n",
            "|              'JO'|       0|          3|          3|\n",
            "+------------------+--------+-----------+-----------+\n",
            "only showing top 20 rows\n",
            "\n"
          ]
        }
      ]
    },
    {
      "cell_type": "markdown",
      "source": [
        "# Which age certification (e.g., TV-MA, PG-13) is most common among TV shows and movies?"
      ],
      "metadata": {
        "id": "JH4X5HRBx3CM"
      }
    },
    {
      "cell_type": "code",
      "source": [
        "result = spark.sql(\"\"\"\n",
        "    SELECT age_certification, COUNT(*) AS count\n",
        "    FROM\n",
        "      (SELECT age_certification FROM showData_cleaned WHERE age_certification IS NOT NULL AND age_certification != '' AND age_certification != 'NaN'\n",
        "       UNION ALL\n",
        "       SELECT age_certification FROM movieData_cleaned WHERE age_certification IS NOT NULL AND age_certification != '' AND age_certification != 'NaN')\n",
        "    GROUP BY age_certification\n",
        "    ORDER BY count DESC\n",
        "\"\"\")\n",
        "result.show()\n"
      ],
      "metadata": {
        "colab": {
          "base_uri": "https://localhost:8080/"
        },
        "id": "ps9Eq6hYv8Qw",
        "outputId": "47028723-661d-4ff2-955b-3e21f63a3292"
      },
      "execution_count": 19,
      "outputs": [
        {
          "output_type": "stream",
          "name": "stdout",
          "text": [
            "+-----------------+-----+\n",
            "|age_certification|count|\n",
            "+-----------------+-----+\n",
            "|                0| 2335|\n",
            "|            TV-MA|  833|\n",
            "|                R|  530|\n",
            "|            TV-14|  441|\n",
            "|            PG-13|  435|\n",
            "|               PG|  223|\n",
            "|            TV-PG|  173|\n",
            "|            TV-Y7|  111|\n",
            "|                G|   99|\n",
            "|             TV-Y|   98|\n",
            "|             TV-G|   75|\n",
            "|            NC-17|   15|\n",
            "+-----------------+-----+\n",
            "\n"
          ]
        }
      ]
    },
    {
      "cell_type": "markdown",
      "source": [
        "# What is the average number of seasons for TV shows in each age certification category?"
      ],
      "metadata": {
        "id": "fG3dawNQ0PWn"
      }
    },
    {
      "cell_type": "code",
      "source": [
        "result = spark.sql(\"\"\"\n",
        "    SELECT age_certification, AVG(seasons) AS avg_seasons\n",
        "    FROM showData_cleaned\n",
        "    WHERE age_certification IS NOT NULL AND age_certification != 'NaN'\n",
        "    GROUP BY age_certification\n",
        "    ORDER BY avg_seasons DESC\n",
        "\"\"\")\n",
        "\n",
        "result.show()\n"
      ],
      "metadata": {
        "colab": {
          "base_uri": "https://localhost:8080/"
        },
        "id": "RTq456Gxx8T2",
        "outputId": "4e029f61-8633-4dc5-dfd3-52af98fe95da"
      },
      "execution_count": 20,
      "outputs": [
        {
          "output_type": "stream",
          "name": "stdout",
          "text": [
            "+-----------------+------------------+\n",
            "|age_certification|       avg_seasons|\n",
            "+-----------------+------------------+\n",
            "|             TV-G|3.5866666666666664|\n",
            "|            TV-Y7|3.5225225225225225|\n",
            "|             TV-Y| 3.122448979591837|\n",
            "|            TV-PG| 2.820809248554913|\n",
            "|            TV-14| 2.507936507936508|\n",
            "|            TV-MA|1.7346938775510203|\n",
            "|                0|1.5528846153846154|\n",
            "+-----------------+------------------+\n",
            "\n"
          ]
        }
      ]
    },
    {
      "cell_type": "markdown",
      "source": [
        "# How does the average IMDb score vary by production country for TV shows and movies?"
      ],
      "metadata": {
        "id": "C6s-eGFW1ilH"
      }
    },
    {
      "cell_type": "code",
      "source": [
        "result = spark.sql(\"\"\"\n",
        "    SELECT type, production_country, AVG(imdb_score) AS avg_imdb_score\n",
        "    FROM\n",
        "      (SELECT 'TV Show' AS type, explode(split(production_countries, ', ')) AS production_country, imdb_score FROM showData_cleaned\n",
        "       UNION ALL\n",
        "       SELECT 'Movie' AS type, explode(split(production_countries, ', ')) AS production_country, imdb_score FROM movieData_cleaned)\n",
        "    WHERE production_country != \"\" AND production_country NOT LIKE \"%[%\" AND production_country NOT LIKE \"%]%\" AND imdb_score IS NOT NULL AND NOT isnan(imdb_score)\n",
        "    GROUP BY type, production_country\n",
        "    ORDER BY avg_imdb_score DESC\n",
        "\"\"\")\n",
        "\n",
        "result.show()\n"
      ],
      "metadata": {
        "colab": {
          "base_uri": "https://localhost:8080/"
        },
        "id": "h4Isu08-0VVf",
        "outputId": "2f520b33-9edc-4779-dc50-da934f73028c"
      },
      "execution_count": 21,
      "outputs": [
        {
          "output_type": "stream",
          "name": "stdout",
          "text": [
            "+-------+------------------+------------------+\n",
            "|   type|production_country|    avg_imdb_score|\n",
            "+-------+------------------+------------------+\n",
            "|  Movie|              'EG'|               8.1|\n",
            "|  Movie|              'BS'|               8.0|\n",
            "|  Movie|              'MW'|               7.6|\n",
            "|  Movie|              'NO'|              7.35|\n",
            "|  Movie|              'LB'|               7.3|\n",
            "|  Movie|              'BR'|               7.2|\n",
            "|  Movie|              'AE'|               7.1|\n",
            "|  Movie|              'UY'|               7.1|\n",
            "|  Movie|              'ES'|7.0200000000000005|\n",
            "|  Movie|              'GH'|               7.0|\n",
            "|  Movie|              'ZA'| 6.949999999999999|\n",
            "|  Movie|              'CH'| 6.914285714285714|\n",
            "|  Movie|              'MX'|              6.88|\n",
            "|TV Show|              'FR'|              6.85|\n",
            "|  Movie|              'IS'| 6.833333333333333|\n",
            "|  Movie|              'SE'|              6.82|\n",
            "|  Movie|              'IR'|               6.8|\n",
            "|  Movie|              'JO'|               6.8|\n",
            "|  Movie|              'RO'|               6.8|\n",
            "|  Movie|              'GR'|               6.8|\n",
            "+-------+------------------+------------------+\n",
            "only showing top 20 rows\n",
            "\n"
          ]
        }
      ]
    },
    {
      "cell_type": "markdown",
      "source": [
        "Which genres have the highest average IMDb score for TV shows and movies?"
      ],
      "metadata": {
        "id": "AxdqQhdItsCn"
      }
    },
    {
      "cell_type": "code",
      "source": [
        "#finding the top genres for shows\n",
        "top_genre_tv_shows = spark.sql(\"\"\"\n",
        "    SELECT 'TV Show' AS type, trim('\\\"' FROM genre) AS genre, AVG(imdb_score) AS avg_imdb_score\n",
        "    FROM showData_cleaned\n",
        "    LATERAL VIEW explode(split(trim('[]' FROM genres), ', ')) AS genre\n",
        "    GROUP BY type, genre\n",
        "    ORDER BY avg_imdb_score DESC\n",
        "    LIMIT 1\n",
        "\"\"\")\n",
        "\n",
        "#finding the top genres for movies\n",
        "top_genre_movies = spark.sql(\"\"\"\n",
        "    SELECT 'Movie' AS type, trim('\\\"' FROM genre) AS genre, AVG(imdb_score) AS avg_imdb_score\n",
        "    FROM movieData_cleaned\n",
        "    LATERAL VIEW explode(split(trim('[]' FROM genres), ', ')) AS genre\n",
        "    GROUP BY type, genre\n",
        "    ORDER BY avg_imdb_score DESC\n",
        "    LIMIT 1\n",
        "\"\"\")\n",
        "#combining the results\n",
        "result = top_genre_tv_shows.unionAll(top_genre_movies)\n",
        "result.show()"
      ],
      "metadata": {
        "colab": {
          "base_uri": "https://localhost:8080/"
        },
        "id": "o-agDI5rtyvL",
        "outputId": "1ea1c5df-4b30-46d2-9b04-b657a471a8d7"
      },
      "execution_count": 25,
      "outputs": [
        {
          "output_type": "stream",
          "name": "stdout",
          "text": [
            "+-------+---------+-----------------+\n",
            "|   type|    genre|   avg_imdb_score|\n",
            "+-------+---------+-----------------+\n",
            "|TV Show|'history'|7.477064220183486|\n",
            "|  Movie|         |              7.1|\n",
            "+-------+---------+-----------------+\n",
            "\n"
          ]
        }
      ]
    },
    {
      "cell_type": "markdown",
      "source": [
        "Are there any trends in the average runtime of TV shows and movies over the years?"
      ],
      "metadata": {
        "id": "5XmAEtZrt5FH"
      }
    },
    {
      "cell_type": "code",
      "source": [
        "result = spark.sql(\"\"\"\n",
        "    SELECT type, release_year, AVG(runtime) AS avg_runtime\n",
        "    FROM\n",
        "        (SELECT 'TV Show' AS type, release_year, runtime FROM showData_cleaned\n",
        "         UNION ALL\n",
        "         SELECT 'Movie' AS type, release_year, runtime FROM movieData_cleaned)\n",
        "    GROUP BY type, release_year\n",
        "    ORDER BY release_year, type\n",
        "\"\"\")\n",
        "\n",
        "result.show()"
      ],
      "metadata": {
        "colab": {
          "base_uri": "https://localhost:8080/"
        },
        "id": "uQCZ_iCVt9e5",
        "outputId": "ffb2d044-0b07-4776-b130-92033a9f8f70"
      },
      "execution_count": 26,
      "outputs": [
        {
          "output_type": "stream",
          "name": "stdout",
          "text": [
            "+-------+------------+------------------+\n",
            "|   type|release_year|       avg_runtime|\n",
            "+-------+------------+------------------+\n",
            "|  Movie|        1954|             107.5|\n",
            "|  Movie|        1956|             120.0|\n",
            "|  Movie|        1958|              77.0|\n",
            "|  Movie|        1959|             142.0|\n",
            "|  Movie|        1960|             158.0|\n",
            "|  Movie|        1961|             158.0|\n",
            "|  Movie|        1963|             186.0|\n",
            "|  Movie|        1966|             117.0|\n",
            "|  Movie|        1967|             130.0|\n",
            "|  Movie|        1969|             129.0|\n",
            "|TV Show|        1969|              30.0|\n",
            "|  Movie|        1971|             102.0|\n",
            "|  Movie|        1972|             103.0|\n",
            "|TV Show|        1972|              43.0|\n",
            "|  Movie|        1973|             131.0|\n",
            "|  Movie|        1974|             162.0|\n",
            "|  Movie|        1975|             100.5|\n",
            "|  Movie|        1976|124.33333333333333|\n",
            "|  Movie|        1977|             150.0|\n",
            "|  Movie|        1978|             141.0|\n",
            "+-------+------------+------------------+\n",
            "only showing top 20 rows\n",
            "\n"
          ]
        }
      ]
    },
    {
      "cell_type": "markdown",
      "source": [
        "Which production countries have the highest average runtime for TV shows and movies?"
      ],
      "metadata": {
        "id": "WWTo4OLZt_z7"
      }
    },
    {
      "cell_type": "code",
      "source": [
        "#finding the production countries with the highest average runtime for shows\n",
        "top_countries_tv_shows = spark.sql(\"\"\"\n",
        "    SELECT 'TV Show' AS type, production_countries, AVG(runtime) AS avg_runtime\n",
        "    FROM showData_cleaned\n",
        "    WHERE production_countries IS NOT NULL\n",
        "    GROUP BY type, production_countries\n",
        "    ORDER BY avg_runtime DESC\n",
        "    LIMIT 1\n",
        "\"\"\")\n",
        "\n",
        "#finding the production countries with the highest average runtime for movies\n",
        "top_countries_movies = spark.sql(\"\"\"\n",
        "    SELECT 'Movie' AS type, production_countries, AVG(runtime) AS avg_runtime\n",
        "    FROM movieData_cleaned\n",
        "    WHERE production_countries IS NOT NULL\n",
        "    GROUP BY type, production_countries\n",
        "    ORDER BY avg_runtime DESC\n",
        "    LIMIT 1\n",
        "\"\"\")\n",
        "\n",
        "#combining the results\n",
        "result= top_countries_tv_shows.unionAll(top_countries_movies)\n",
        "result.show()\n"
      ],
      "metadata": {
        "colab": {
          "base_uri": "https://localhost:8080/"
        },
        "id": "_oKXh_y0uDDn",
        "outputId": "49247867-5d72-4b7d-ed07-356260d7dc11"
      },
      "execution_count": 30,
      "outputs": [
        {
          "output_type": "stream",
          "name": "stdout",
          "text": [
            "+-------+--------------------+-----------+\n",
            "|   type|production_countries|avg_runtime|\n",
            "+-------+--------------------+-----------+\n",
            "|TV Show|        ['AR', 'ES']|       73.0|\n",
            "|  Movie|['CA', 'HU', 'MX'...|      164.0|\n",
            "+-------+--------------------+-----------+\n",
            "\n"
          ]
        }
      ]
    },
    {
      "cell_type": "markdown",
      "source": [
        "How does the distribution of runtime differ between TV shows and movies?"
      ],
      "metadata": {
        "id": "NtG32vAOuEL7"
      }
    },
    {
      "cell_type": "code",
      "source": [
        "result= spark.sql(\"\"\"\n",
        "    SELECT type,\n",
        "           percentile(runtime, 0.25) AS q1,\n",
        "           percentile(runtime, 0.5) AS median,\n",
        "           percentile(runtime, 0.75) AS q3,\n",
        "           avg(runtime) AS mean,\n",
        "           stddev(runtime) AS stddev\n",
        "    FROM\n",
        "        (SELECT 'TV Show' AS type, runtime FROM showData_cleaned\n",
        "         UNION ALL\n",
        "         SELECT 'Movie' AS type, runtime FROM movieData_cleaned)\n",
        "    GROUP BY type\n",
        "\"\"\")\n",
        "\n",
        "result.show()\n"
      ],
      "metadata": {
        "colab": {
          "base_uri": "https://localhost:8080/"
        },
        "id": "BMUYqxIauRWl",
        "outputId": "702c8555-11e9-48b6-8571-8f0b627b83a5"
      },
      "execution_count": 31,
      "outputs": [
        {
          "output_type": "stream",
          "name": "stdout",
          "text": [
            "+-------+----+------+-----+------------------+------------------+\n",
            "|   type|  q1|median|   q3|              mean|            stddev|\n",
            "+-------+----+------+-----+------------------+------------------+\n",
            "|TV Show|25.0|  41.0| 49.0|38.765858690046414|17.207135160629196|\n",
            "|  Movie|88.0| 100.0|116.0|101.06620005832605|27.864493182803944|\n",
            "+-------+----+------+-----+------------------+------------------+\n",
            "\n"
          ]
        }
      ]
    },
    {
      "cell_type": "markdown",
      "source": [
        "What is the average IMDb score for TV shows and movies released in each year?\n"
      ],
      "metadata": {
        "id": "XREqnU61uTFL"
      }
    },
    {
      "cell_type": "code",
      "source": [
        "result= spark.sql(\"\"\"\n",
        "    SELECT type, release_year, AVG(imdb_score) AS avg_imdb_score\n",
        "    FROM\n",
        "        (SELECT 'TV Show' AS type, release_year, imdb_score FROM showData_cleaned\n",
        "         UNION ALL\n",
        "         SELECT 'Movie' AS type, release_year, imdb_score FROM movieData_cleaned)\n",
        "    GROUP BY type, release_year\n",
        "    ORDER BY release_year, type\n",
        "\"\"\")\n",
        "result.show()"
      ],
      "metadata": {
        "colab": {
          "base_uri": "https://localhost:8080/"
        },
        "id": "h2boOHMuwiCE",
        "outputId": "77dd7660-1930-4e36-9a3e-0c36c5f5bb0f"
      },
      "execution_count": 32,
      "outputs": [
        {
          "output_type": "stream",
          "name": "stdout",
          "text": [
            "+-------+------------+-----------------+\n",
            "|   type|release_year|   avg_imdb_score|\n",
            "+-------+------------+-----------------+\n",
            "|  Movie|        1954|             7.45|\n",
            "|  Movie|        1956|              6.7|\n",
            "|  Movie|        1958|              7.5|\n",
            "|  Movie|        1959|              6.6|\n",
            "|  Movie|        1960|              6.4|\n",
            "|  Movie|        1961|              7.5|\n",
            "|  Movie|        1963|              7.6|\n",
            "|  Movie|        1966|              7.3|\n",
            "|  Movie|        1967|              7.7|\n",
            "|  Movie|        1969|              8.1|\n",
            "|TV Show|        1969|              8.8|\n",
            "|  Movie|        1971|              7.7|\n",
            "|  Movie|        1972|             6.95|\n",
            "|TV Show|        1972|              8.1|\n",
            "|  Movie|        1973|              5.1|\n",
            "|  Movie|        1974|              6.5|\n",
            "|  Movie|        1975|              7.3|\n",
            "|  Movie|        1976|6.666666666666667|\n",
            "|  Movie|        1977|              7.5|\n",
            "|  Movie|        1978|              4.4|\n",
            "+-------+------------+-----------------+\n",
            "only showing top 20 rows\n",
            "\n"
          ]
        }
      ]
    },
    {
      "cell_type": "markdown",
      "source": [
        "Are there any genres that have become more or less popular over the years?"
      ],
      "metadata": {
        "id": "sC2X7LwjwvZa"
      }
    },
    {
      "cell_type": "code",
      "source": [
        "result= spark.sql(\"\"\"\n",
        "    SELECT type, release_year, genre, COUNT(*) AS genre_count\n",
        "    FROM\n",
        "        (SELECT 'TV Show' AS type, release_year, explode(split(trim('[]' FROM genres), ', ')) AS genre FROM showData_cleaned\n",
        "         UNION ALL\n",
        "         SELECT 'Movie' AS type, release_year, explode(split(trim('[]' FROM genres), ', ')) AS genre FROM movieData_cleaned)\n",
        "    WHERE genre != \"\"\n",
        "    GROUP BY type, release_year, genre\n",
        "    ORDER BY release_year, type, genre_count DESC\n",
        "\"\"\")\n",
        "\n",
        "result.show()"
      ],
      "metadata": {
        "colab": {
          "base_uri": "https://localhost:8080/"
        },
        "id": "uMTQ2ofyw8TJ",
        "outputId": "b14c2fc1-87c0-4ffb-93e4-77963c7dcae8"
      },
      "execution_count": 33,
      "outputs": [
        {
          "output_type": "stream",
          "name": "stdout",
          "text": [
            "+-----+------------+----------+-----------+\n",
            "| type|release_year|     genre|genre_count|\n",
            "+-----+------------+----------+-----------+\n",
            "|Movie|        1954| 'romance'|          2|\n",
            "|Movie|        1954|  'comedy'|          1|\n",
            "|Movie|        1954|   'crime'|          1|\n",
            "|Movie|        1954|   'drama'|          1|\n",
            "|Movie|        1956|  'action'|          1|\n",
            "|Movie|        1956|'thriller'|          1|\n",
            "|Movie|        1956|   'drama'|          1|\n",
            "|Movie|        1956| 'romance'|          1|\n",
            "|Movie|        1958|   'drama'|          1|\n",
            "|Movie|        1958|   'crime'|          1|\n",
            "|Movie|        1958|  'comedy'|          1|\n",
            "|Movie|        1959| 'romance'|          1|\n",
            "|Movie|        1959|   'drama'|          1|\n",
            "|Movie|        1959|   'crime'|          1|\n",
            "|Movie|        1960|   'crime'|          1|\n",
            "|Movie|        1960|'thriller'|          1|\n",
            "|Movie|        1960|   'drama'|          1|\n",
            "|Movie|        1961|   'drama'|          1|\n",
            "|Movie|        1961|     'war'|          1|\n",
            "|Movie|        1961|  'action'|          1|\n",
            "+-----+------------+----------+-----------+\n",
            "only showing top 20 rows\n",
            "\n"
          ]
        }
      ]
    },
    {
      "cell_type": "markdown",
      "source": [
        "Which production countries have the most diverse genres in their TV shows and movies?\n"
      ],
      "metadata": {
        "id": "p482yGAXxTFj"
      }
    },
    {
      "cell_type": "code",
      "source": [
        "result = spark.sql(\"\"\"\n",
        "    SELECT type, production_countries, COUNT(DISTINCT genre) AS unique_genres_count\n",
        "    FROM\n",
        "        (SELECT 'TV Show' AS type, production_countries, explode(split(trim('[]' FROM genres), ', ')) AS genre FROM showData_cleaned\n",
        "         UNION ALL\n",
        "         SELECT 'Movie' AS type, production_countries, explode(split(trim('[]' FROM genres), ', ')) AS genre FROM movieData_cleaned)\n",
        "    WHERE genre != \"\"\n",
        "    GROUP BY type, production_countries\n",
        "    ORDER BY unique_genres_count DESC\n",
        "\"\"\")\n",
        "\n",
        "result.show()"
      ],
      "metadata": {
        "colab": {
          "base_uri": "https://localhost:8080/"
        },
        "id": "1WPIqJVIxMKo",
        "outputId": "91f2be27-2f53-44dd-ee80-989e006bc4db"
      },
      "execution_count": 34,
      "outputs": [
        {
          "output_type": "stream",
          "name": "stdout",
          "text": [
            "+-------+--------------------+-------------------+\n",
            "|   type|production_countries|unique_genres_count|\n",
            "+-------+--------------------+-------------------+\n",
            "|  Movie|              ['US']|                 19|\n",
            "|TV Show|              ['US']|                 19|\n",
            "|  Movie|              ['IN']|                 18|\n",
            "|TV Show|              ['JP']|                 18|\n",
            "|TV Show|              ['ES']|                 18|\n",
            "|  Movie|              ['ES']|                 18|\n",
            "|TV Show|              ['GB']|                 18|\n",
            "|  Movie|        ['GB', 'US']|                 17|\n",
            "|TV Show|              ['FR']|                 17|\n",
            "|  Movie|              ['DE']|                 17|\n",
            "|  Movie|              ['CA']|                 17|\n",
            "|  Movie|              ['GB']|                 17|\n",
            "|TV Show|              ['KR']|                 17|\n",
            "|  Movie|              ['FR']|                 17|\n",
            "|TV Show|              ['IT']|                 16|\n",
            "|TV Show|              ['IN']|                 16|\n",
            "|  Movie|              ['MX']|                 16|\n",
            "|  Movie|        ['US', 'GB']|                 16|\n",
            "|  Movie|              ['JP']|                 16|\n",
            "|TV Show|              ['MX']|                 16|\n",
            "+-------+--------------------+-------------------+\n",
            "only showing top 20 rows\n",
            "\n"
          ]
        }
      ]
    }
  ]
}