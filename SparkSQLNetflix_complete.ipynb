{
  "nbformat": 4,
  "nbformat_minor": 0,
  "metadata": {
    "colab": {
      "provenance": []
    },
    "kernelspec": {
      "name": "python3",
      "display_name": "Python 3"
    },
    "language_info": {
      "name": "python"
    }
  },
  "cells": [
    {
      "cell_type": "code",
      "source": [
        "import os\n",
        "import sys\n",
        "os.environ['PYSPARK_PYTHON'] = sys.executable\n",
        "os.environ['PYSPARK_DRIVER_PYTHON'] = sys.executable\n"
      ],
      "metadata": {
        "id": "3G9uROUVRhCS"
      },
      "execution_count": 2,
      "outputs": []
    },
    {
      "cell_type": "code",
      "source": [
        "# Install Java\n",
        "!apt-get install openjdk-8-jdk-headless -qq > /dev/null\n",
        "\n",
        "# Install pyspark\n",
        "!pip install pyspark\n",
        "\n",
        "# Set up Spark session\n",
        "from pyspark.sql import SparkSession\n",
        "\n",
        "spark = SparkSession.builder \\\n",
        "    .master(\"local[*]\") \\\n",
        "    .appName(\"SparkSQL\") \\\n",
        "    .config(\"spark.executor.memory\", \"2g\") \\\n",
        "    .config(\"spark.driver.memory\", \"2g\") \\\n",
        "    .getOrCreate()\n"
      ],
      "metadata": {
        "colab": {
          "base_uri": "https://localhost:8080/"
        },
        "id": "admBDOeNQS1Q",
        "outputId": "26be2bf7-93c7-4d36-c3a5-47755c893f49"
      },
      "execution_count": 3,
      "outputs": [
        {
          "output_type": "stream",
          "name": "stdout",
          "text": [
            "Collecting pyspark\n",
            "  Downloading pyspark-3.5.1.tar.gz (317.0 MB)\n",
            "\u001b[2K     \u001b[90m━━━━━━━━━━━━━━━━━━━━━━━━━━━━━━━━━━━━━━━━\u001b[0m \u001b[32m317.0/317.0 MB\u001b[0m \u001b[31m2.8 MB/s\u001b[0m eta \u001b[36m0:00:00\u001b[0m\n",
            "\u001b[?25h  Preparing metadata (setup.py) ... \u001b[?25l\u001b[?25hdone\n",
            "Requirement already satisfied: py4j==0.10.9.7 in /usr/local/lib/python3.10/dist-packages (from pyspark) (0.10.9.7)\n",
            "Building wheels for collected packages: pyspark\n",
            "  Building wheel for pyspark (setup.py) ... \u001b[?25l\u001b[?25hdone\n",
            "  Created wheel for pyspark: filename=pyspark-3.5.1-py2.py3-none-any.whl size=317488491 sha256=616bc4f46f1fb52b44bf03530f68eb05c5a825717294ce9494d13a0b9a063ce0\n",
            "  Stored in directory: /root/.cache/pip/wheels/80/1d/60/2c256ed38dddce2fdd93be545214a63e02fbd8d74fb0b7f3a6\n",
            "Successfully built pyspark\n",
            "Installing collected packages: pyspark\n",
            "Successfully installed pyspark-3.5.1\n"
          ]
        }
      ]
    },
    {
      "cell_type": "code",
      "source": [
        "# Import packages\n",
        "from pyspark.sql import SparkSession\n",
        "import time\n",
        "import pandas as pd\n",
        "from pyspark.sql.functions import col\n",
        "from pyspark.sql.functions import current_date, expr\n",
        "\n",
        "\n",
        "\n",
        "# Create a SparkSession\n",
        "spark = SparkSession.builder.appName(\"SparkSQL\").getOrCreate()"
      ],
      "metadata": {
        "id": "miC6LQ_hQja9"
      },
      "execution_count": 4,
      "outputs": []
    },
    {
      "cell_type": "code",
      "execution_count": 5,
      "metadata": {
        "colab": {
          "base_uri": "https://localhost:8080/"
        },
        "id": "cMQ_jCzUKq1p",
        "outputId": "32b640d2-ba3e-4d42-a947-1f0ddd7987af"
      },
      "outputs": [
        {
          "output_type": "stream",
          "name": "stdout",
          "text": [
            "Mounted at /content/drive\n"
          ]
        }
      ],
      "source": [
        "from google.colab import drive\n",
        "import pandas as pd\n",
        "\n",
        "# Mount Google Drive\n",
        "drive.mount('/content/drive')"
      ]
    },
    {
      "cell_type": "code",
      "source": [
        "# Path to the CSV files in Google Drive\n",
        "show_data_path = '/content/drive/My Drive/showData.csv'\n",
        "movie_data_path = '/content/drive/My Drive/movieData.csv'"
      ],
      "metadata": {
        "id": "qHyWFad8KyNX"
      },
      "execution_count": 6,
      "outputs": []
    },
    {
      "cell_type": "code",
      "source": [
        "# Load the CSV files into DataFrames\n",
        "show_df = pd.read_csv(show_data_path)\n",
        "movie_df = pd.read_csv(movie_data_path)\n"
      ],
      "metadata": {
        "id": "VTWoftsSMAGi"
      },
      "execution_count": 7,
      "outputs": []
    },
    {
      "cell_type": "code",
      "source": [
        "# Display the first few rows of showData.csv\n",
        "show_df.head()"
      ],
      "metadata": {
        "colab": {
          "base_uri": "https://localhost:8080/",
          "height": 276
        },
        "id": "eETvaLLRMApL",
        "outputId": "f7fb9bdf-0d6e-4193-a625-f6aa08e664a3"
      },
      "execution_count": 8,
      "outputs": [
        {
          "output_type": "execute_result",
          "data": {
            "text/plain": [
              "   Unnamed: 0        id                                title  release_year  \\\n",
              "0           0  ts300399  Five Came Back: The Reference Films          1945   \n",
              "1           1   ts22164         Monty Python's Flying Circus          1969   \n",
              "2           2   ts45948     Monty Python's Fliegender Zirkus          1972   \n",
              "3           3   ts20681                             Seinfeld          1989   \n",
              "4           4   ts22082                         Knight Rider          1982   \n",
              "\n",
              "  age_certification  runtime                                 genres  \\\n",
              "0             TV-MA       51                      ['documentation']   \n",
              "1             TV-14       30                 ['comedy', 'european']   \n",
              "2             TV-MA       43                             ['comedy']   \n",
              "3             TV-PG       24                             ['comedy']   \n",
              "4             TV-PG       51  ['scifi', 'action', 'crime', 'drama']   \n",
              "\n",
              "  production_countries  seasons  imdb_score  \n",
              "0               ['US']      1.0         NaN  \n",
              "1               ['GB']      4.0         8.8  \n",
              "2                   []      1.0         8.1  \n",
              "3               ['US']      9.0         8.9  \n",
              "4               ['US']      4.0         6.9  "
            ],
            "text/html": [
              "\n",
              "  <div id=\"df-e85c4d3d-3df9-4db4-a072-99fb90de4209\" class=\"colab-df-container\">\n",
              "    <div>\n",
              "<style scoped>\n",
              "    .dataframe tbody tr th:only-of-type {\n",
              "        vertical-align: middle;\n",
              "    }\n",
              "\n",
              "    .dataframe tbody tr th {\n",
              "        vertical-align: top;\n",
              "    }\n",
              "\n",
              "    .dataframe thead th {\n",
              "        text-align: right;\n",
              "    }\n",
              "</style>\n",
              "<table border=\"1\" class=\"dataframe\">\n",
              "  <thead>\n",
              "    <tr style=\"text-align: right;\">\n",
              "      <th></th>\n",
              "      <th>Unnamed: 0</th>\n",
              "      <th>id</th>\n",
              "      <th>title</th>\n",
              "      <th>release_year</th>\n",
              "      <th>age_certification</th>\n",
              "      <th>runtime</th>\n",
              "      <th>genres</th>\n",
              "      <th>production_countries</th>\n",
              "      <th>seasons</th>\n",
              "      <th>imdb_score</th>\n",
              "    </tr>\n",
              "  </thead>\n",
              "  <tbody>\n",
              "    <tr>\n",
              "      <th>0</th>\n",
              "      <td>0</td>\n",
              "      <td>ts300399</td>\n",
              "      <td>Five Came Back: The Reference Films</td>\n",
              "      <td>1945</td>\n",
              "      <td>TV-MA</td>\n",
              "      <td>51</td>\n",
              "      <td>['documentation']</td>\n",
              "      <td>['US']</td>\n",
              "      <td>1.0</td>\n",
              "      <td>NaN</td>\n",
              "    </tr>\n",
              "    <tr>\n",
              "      <th>1</th>\n",
              "      <td>1</td>\n",
              "      <td>ts22164</td>\n",
              "      <td>Monty Python's Flying Circus</td>\n",
              "      <td>1969</td>\n",
              "      <td>TV-14</td>\n",
              "      <td>30</td>\n",
              "      <td>['comedy', 'european']</td>\n",
              "      <td>['GB']</td>\n",
              "      <td>4.0</td>\n",
              "      <td>8.8</td>\n",
              "    </tr>\n",
              "    <tr>\n",
              "      <th>2</th>\n",
              "      <td>2</td>\n",
              "      <td>ts45948</td>\n",
              "      <td>Monty Python's Fliegender Zirkus</td>\n",
              "      <td>1972</td>\n",
              "      <td>TV-MA</td>\n",
              "      <td>43</td>\n",
              "      <td>['comedy']</td>\n",
              "      <td>[]</td>\n",
              "      <td>1.0</td>\n",
              "      <td>8.1</td>\n",
              "    </tr>\n",
              "    <tr>\n",
              "      <th>3</th>\n",
              "      <td>3</td>\n",
              "      <td>ts20681</td>\n",
              "      <td>Seinfeld</td>\n",
              "      <td>1989</td>\n",
              "      <td>TV-PG</td>\n",
              "      <td>24</td>\n",
              "      <td>['comedy']</td>\n",
              "      <td>['US']</td>\n",
              "      <td>9.0</td>\n",
              "      <td>8.9</td>\n",
              "    </tr>\n",
              "    <tr>\n",
              "      <th>4</th>\n",
              "      <td>4</td>\n",
              "      <td>ts22082</td>\n",
              "      <td>Knight Rider</td>\n",
              "      <td>1982</td>\n",
              "      <td>TV-PG</td>\n",
              "      <td>51</td>\n",
              "      <td>['scifi', 'action', 'crime', 'drama']</td>\n",
              "      <td>['US']</td>\n",
              "      <td>4.0</td>\n",
              "      <td>6.9</td>\n",
              "    </tr>\n",
              "  </tbody>\n",
              "</table>\n",
              "</div>\n",
              "    <div class=\"colab-df-buttons\">\n",
              "\n",
              "  <div class=\"colab-df-container\">\n",
              "    <button class=\"colab-df-convert\" onclick=\"convertToInteractive('df-e85c4d3d-3df9-4db4-a072-99fb90de4209')\"\n",
              "            title=\"Convert this dataframe to an interactive table.\"\n",
              "            style=\"display:none;\">\n",
              "\n",
              "  <svg xmlns=\"http://www.w3.org/2000/svg\" height=\"24px\" viewBox=\"0 -960 960 960\">\n",
              "    <path d=\"M120-120v-720h720v720H120Zm60-500h600v-160H180v160Zm220 220h160v-160H400v160Zm0 220h160v-160H400v160ZM180-400h160v-160H180v160Zm440 0h160v-160H620v160ZM180-180h160v-160H180v160Zm440 0h160v-160H620v160Z\"/>\n",
              "  </svg>\n",
              "    </button>\n",
              "\n",
              "  <style>\n",
              "    .colab-df-container {\n",
              "      display:flex;\n",
              "      gap: 12px;\n",
              "    }\n",
              "\n",
              "    .colab-df-convert {\n",
              "      background-color: #E8F0FE;\n",
              "      border: none;\n",
              "      border-radius: 50%;\n",
              "      cursor: pointer;\n",
              "      display: none;\n",
              "      fill: #1967D2;\n",
              "      height: 32px;\n",
              "      padding: 0 0 0 0;\n",
              "      width: 32px;\n",
              "    }\n",
              "\n",
              "    .colab-df-convert:hover {\n",
              "      background-color: #E2EBFA;\n",
              "      box-shadow: 0px 1px 2px rgba(60, 64, 67, 0.3), 0px 1px 3px 1px rgba(60, 64, 67, 0.15);\n",
              "      fill: #174EA6;\n",
              "    }\n",
              "\n",
              "    .colab-df-buttons div {\n",
              "      margin-bottom: 4px;\n",
              "    }\n",
              "\n",
              "    [theme=dark] .colab-df-convert {\n",
              "      background-color: #3B4455;\n",
              "      fill: #D2E3FC;\n",
              "    }\n",
              "\n",
              "    [theme=dark] .colab-df-convert:hover {\n",
              "      background-color: #434B5C;\n",
              "      box-shadow: 0px 1px 3px 1px rgba(0, 0, 0, 0.15);\n",
              "      filter: drop-shadow(0px 1px 2px rgba(0, 0, 0, 0.3));\n",
              "      fill: #FFFFFF;\n",
              "    }\n",
              "  </style>\n",
              "\n",
              "    <script>\n",
              "      const buttonEl =\n",
              "        document.querySelector('#df-e85c4d3d-3df9-4db4-a072-99fb90de4209 button.colab-df-convert');\n",
              "      buttonEl.style.display =\n",
              "        google.colab.kernel.accessAllowed ? 'block' : 'none';\n",
              "\n",
              "      async function convertToInteractive(key) {\n",
              "        const element = document.querySelector('#df-e85c4d3d-3df9-4db4-a072-99fb90de4209');\n",
              "        const dataTable =\n",
              "          await google.colab.kernel.invokeFunction('convertToInteractive',\n",
              "                                                    [key], {});\n",
              "        if (!dataTable) return;\n",
              "\n",
              "        const docLinkHtml = 'Like what you see? Visit the ' +\n",
              "          '<a target=\"_blank\" href=https://colab.research.google.com/notebooks/data_table.ipynb>data table notebook</a>'\n",
              "          + ' to learn more about interactive tables.';\n",
              "        element.innerHTML = '';\n",
              "        dataTable['output_type'] = 'display_data';\n",
              "        await google.colab.output.renderOutput(dataTable, element);\n",
              "        const docLink = document.createElement('div');\n",
              "        docLink.innerHTML = docLinkHtml;\n",
              "        element.appendChild(docLink);\n",
              "      }\n",
              "    </script>\n",
              "  </div>\n",
              "\n",
              "\n",
              "<div id=\"df-7752ad00-2820-47b2-848d-6d2a60473af0\">\n",
              "  <button class=\"colab-df-quickchart\" onclick=\"quickchart('df-7752ad00-2820-47b2-848d-6d2a60473af0')\"\n",
              "            title=\"Suggest charts\"\n",
              "            style=\"display:none;\">\n",
              "\n",
              "<svg xmlns=\"http://www.w3.org/2000/svg\" height=\"24px\"viewBox=\"0 0 24 24\"\n",
              "     width=\"24px\">\n",
              "    <g>\n",
              "        <path d=\"M19 3H5c-1.1 0-2 .9-2 2v14c0 1.1.9 2 2 2h14c1.1 0 2-.9 2-2V5c0-1.1-.9-2-2-2zM9 17H7v-7h2v7zm4 0h-2V7h2v10zm4 0h-2v-4h2v4z\"/>\n",
              "    </g>\n",
              "</svg>\n",
              "  </button>\n",
              "\n",
              "<style>\n",
              "  .colab-df-quickchart {\n",
              "      --bg-color: #E8F0FE;\n",
              "      --fill-color: #1967D2;\n",
              "      --hover-bg-color: #E2EBFA;\n",
              "      --hover-fill-color: #174EA6;\n",
              "      --disabled-fill-color: #AAA;\n",
              "      --disabled-bg-color: #DDD;\n",
              "  }\n",
              "\n",
              "  [theme=dark] .colab-df-quickchart {\n",
              "      --bg-color: #3B4455;\n",
              "      --fill-color: #D2E3FC;\n",
              "      --hover-bg-color: #434B5C;\n",
              "      --hover-fill-color: #FFFFFF;\n",
              "      --disabled-bg-color: #3B4455;\n",
              "      --disabled-fill-color: #666;\n",
              "  }\n",
              "\n",
              "  .colab-df-quickchart {\n",
              "    background-color: var(--bg-color);\n",
              "    border: none;\n",
              "    border-radius: 50%;\n",
              "    cursor: pointer;\n",
              "    display: none;\n",
              "    fill: var(--fill-color);\n",
              "    height: 32px;\n",
              "    padding: 0;\n",
              "    width: 32px;\n",
              "  }\n",
              "\n",
              "  .colab-df-quickchart:hover {\n",
              "    background-color: var(--hover-bg-color);\n",
              "    box-shadow: 0 1px 2px rgba(60, 64, 67, 0.3), 0 1px 3px 1px rgba(60, 64, 67, 0.15);\n",
              "    fill: var(--button-hover-fill-color);\n",
              "  }\n",
              "\n",
              "  .colab-df-quickchart-complete:disabled,\n",
              "  .colab-df-quickchart-complete:disabled:hover {\n",
              "    background-color: var(--disabled-bg-color);\n",
              "    fill: var(--disabled-fill-color);\n",
              "    box-shadow: none;\n",
              "  }\n",
              "\n",
              "  .colab-df-spinner {\n",
              "    border: 2px solid var(--fill-color);\n",
              "    border-color: transparent;\n",
              "    border-bottom-color: var(--fill-color);\n",
              "    animation:\n",
              "      spin 1s steps(1) infinite;\n",
              "  }\n",
              "\n",
              "  @keyframes spin {\n",
              "    0% {\n",
              "      border-color: transparent;\n",
              "      border-bottom-color: var(--fill-color);\n",
              "      border-left-color: var(--fill-color);\n",
              "    }\n",
              "    20% {\n",
              "      border-color: transparent;\n",
              "      border-left-color: var(--fill-color);\n",
              "      border-top-color: var(--fill-color);\n",
              "    }\n",
              "    30% {\n",
              "      border-color: transparent;\n",
              "      border-left-color: var(--fill-color);\n",
              "      border-top-color: var(--fill-color);\n",
              "      border-right-color: var(--fill-color);\n",
              "    }\n",
              "    40% {\n",
              "      border-color: transparent;\n",
              "      border-right-color: var(--fill-color);\n",
              "      border-top-color: var(--fill-color);\n",
              "    }\n",
              "    60% {\n",
              "      border-color: transparent;\n",
              "      border-right-color: var(--fill-color);\n",
              "    }\n",
              "    80% {\n",
              "      border-color: transparent;\n",
              "      border-right-color: var(--fill-color);\n",
              "      border-bottom-color: var(--fill-color);\n",
              "    }\n",
              "    90% {\n",
              "      border-color: transparent;\n",
              "      border-bottom-color: var(--fill-color);\n",
              "    }\n",
              "  }\n",
              "</style>\n",
              "\n",
              "  <script>\n",
              "    async function quickchart(key) {\n",
              "      const quickchartButtonEl =\n",
              "        document.querySelector('#' + key + ' button');\n",
              "      quickchartButtonEl.disabled = true;  // To prevent multiple clicks.\n",
              "      quickchartButtonEl.classList.add('colab-df-spinner');\n",
              "      try {\n",
              "        const charts = await google.colab.kernel.invokeFunction(\n",
              "            'suggestCharts', [key], {});\n",
              "      } catch (error) {\n",
              "        console.error('Error during call to suggestCharts:', error);\n",
              "      }\n",
              "      quickchartButtonEl.classList.remove('colab-df-spinner');\n",
              "      quickchartButtonEl.classList.add('colab-df-quickchart-complete');\n",
              "    }\n",
              "    (() => {\n",
              "      let quickchartButtonEl =\n",
              "        document.querySelector('#df-7752ad00-2820-47b2-848d-6d2a60473af0 button');\n",
              "      quickchartButtonEl.style.display =\n",
              "        google.colab.kernel.accessAllowed ? 'block' : 'none';\n",
              "    })();\n",
              "  </script>\n",
              "</div>\n",
              "\n",
              "    </div>\n",
              "  </div>\n"
            ],
            "application/vnd.google.colaboratory.intrinsic+json": {
              "type": "dataframe",
              "variable_name": "show_df",
              "summary": "{\n  \"name\": \"show_df\",\n  \"rows\": 2106,\n  \"fields\": [\n    {\n      \"column\": \"Unnamed: 0\",\n      \"properties\": {\n        \"dtype\": \"number\",\n        \"std\": 608,\n        \"min\": 0,\n        \"max\": 2105,\n        \"num_unique_values\": 2106,\n        \"samples\": [\n          1433,\n          342,\n          984\n        ],\n        \"semantic_type\": \"\",\n        \"description\": \"\"\n      }\n    },\n    {\n      \"column\": \"id\",\n      \"properties\": {\n        \"dtype\": \"string\",\n        \"num_unique_values\": 2106,\n        \"samples\": [\n          \"ts216744\",\n          \"ts38511\",\n          \"ts81828\"\n        ],\n        \"semantic_type\": \"\",\n        \"description\": \"\"\n      }\n    },\n    {\n      \"column\": \"title\",\n      \"properties\": {\n        \"dtype\": \"string\",\n        \"num_unique_values\": 2097,\n        \"samples\": [\n          \"Cardcaptor Sakura\",\n          \"Fate/Extra Last Encore\",\n          \"Beyond Stranger Things\"\n        ],\n        \"semantic_type\": \"\",\n        \"description\": \"\"\n      }\n    },\n    {\n      \"column\": \"release_year\",\n      \"properties\": {\n        \"dtype\": \"number\",\n        \"std\": 5,\n        \"min\": 1945,\n        \"max\": 2022,\n        \"num_unique_values\": 42,\n        \"samples\": [\n          2009,\n          1998,\n          1987\n        ],\n        \"semantic_type\": \"\",\n        \"description\": \"\"\n      }\n    },\n    {\n      \"column\": \"age_certification\",\n      \"properties\": {\n        \"dtype\": \"category\",\n        \"num_unique_values\": 6,\n        \"samples\": [\n          \"TV-MA\",\n          \"TV-14\",\n          \"TV-Y7\"\n        ],\n        \"semantic_type\": \"\",\n        \"description\": \"\"\n      }\n    },\n    {\n      \"column\": \"runtime\",\n      \"properties\": {\n        \"dtype\": \"number\",\n        \"std\": 17,\n        \"min\": 0,\n        \"max\": 190,\n        \"num_unique_values\": 95,\n        \"samples\": [\n          65,\n          57,\n          87\n        ],\n        \"semantic_type\": \"\",\n        \"description\": \"\"\n      }\n    },\n    {\n      \"column\": \"genres\",\n      \"properties\": {\n        \"dtype\": \"category\",\n        \"num_unique_values\": 846,\n        \"samples\": [\n          \"['reality', 'european']\",\n          \"['comedy', 'drama', 'family', 'romance']\",\n          \"['drama', 'thriller', 'scifi']\"\n        ],\n        \"semantic_type\": \"\",\n        \"description\": \"\"\n      }\n    },\n    {\n      \"column\": \"production_countries\",\n      \"properties\": {\n        \"dtype\": \"category\",\n        \"num_unique_values\": 114,\n        \"samples\": [\n          \"['CN', 'US']\",\n          \"['JP']\",\n          \"['IT', 'GB']\"\n        ],\n        \"semantic_type\": \"\",\n        \"description\": \"\"\n      }\n    },\n    {\n      \"column\": \"seasons\",\n      \"properties\": {\n        \"dtype\": \"number\",\n        \"std\": 2.6890413904714925,\n        \"min\": 1.0,\n        \"max\": 42.0,\n        \"num_unique_values\": 26,\n        \"samples\": [\n          42.0,\n          14.0,\n          1.0\n        ],\n        \"semantic_type\": \"\",\n        \"description\": \"\"\n      }\n    },\n    {\n      \"column\": \"imdb_score\",\n      \"properties\": {\n        \"dtype\": \"number\",\n        \"std\": 1.0774006639651286,\n        \"min\": 2.0,\n        \"max\": 9.6,\n        \"num_unique_values\": 71,\n        \"samples\": [\n          5.8,\n          8.8,\n          5.2\n        ],\n        \"semantic_type\": \"\",\n        \"description\": \"\"\n      }\n    }\n  ]\n}"
            }
          },
          "metadata": {},
          "execution_count": 8
        }
      ]
    },
    {
      "cell_type": "code",
      "source": [
        "# Display the first few rows of movieData.csv\n",
        "movie_df.head()"
      ],
      "metadata": {
        "colab": {
          "base_uri": "https://localhost:8080/",
          "height": 258
        },
        "id": "RjSccw7iMPLX",
        "outputId": "e2ff4327-8c6e-4102-edb3-299c5ac5c63d"
      },
      "execution_count": 9,
      "outputs": [
        {
          "output_type": "execute_result",
          "data": {
            "text/plain": [
              "   Unnamed: 0        id                            title  release_year  \\\n",
              "0           0   tm84618                      Taxi Driver          1976   \n",
              "1           1  tm154986                      Deliverance          1972   \n",
              "2           2  tm127384  Monty Python and the Holy Grail          1975   \n",
              "3           3  tm120801                  The Dirty Dozen          1967   \n",
              "4           4   tm70993                    Life of Brian          1979   \n",
              "\n",
              "  age_certification  runtime                                       genres  \\\n",
              "0                 R      114                           ['drama', 'crime']   \n",
              "1                 R      109  ['drama', 'action', 'thriller', 'european']   \n",
              "2                PG       91              ['fantasy', 'action', 'comedy']   \n",
              "3               NaN      150                            ['war', 'action']   \n",
              "4                 R       94                                   ['comedy']   \n",
              "\n",
              "  production_countries  imdb_score  \n",
              "0               ['US']         8.2  \n",
              "1               ['US']         7.7  \n",
              "2               ['GB']         8.2  \n",
              "3         ['GB', 'US']         7.7  \n",
              "4               ['GB']         8.0  "
            ],
            "text/html": [
              "\n",
              "  <div id=\"df-a9d10d8c-abfe-4586-8220-51b10c6e5497\" class=\"colab-df-container\">\n",
              "    <div>\n",
              "<style scoped>\n",
              "    .dataframe tbody tr th:only-of-type {\n",
              "        vertical-align: middle;\n",
              "    }\n",
              "\n",
              "    .dataframe tbody tr th {\n",
              "        vertical-align: top;\n",
              "    }\n",
              "\n",
              "    .dataframe thead th {\n",
              "        text-align: right;\n",
              "    }\n",
              "</style>\n",
              "<table border=\"1\" class=\"dataframe\">\n",
              "  <thead>\n",
              "    <tr style=\"text-align: right;\">\n",
              "      <th></th>\n",
              "      <th>Unnamed: 0</th>\n",
              "      <th>id</th>\n",
              "      <th>title</th>\n",
              "      <th>release_year</th>\n",
              "      <th>age_certification</th>\n",
              "      <th>runtime</th>\n",
              "      <th>genres</th>\n",
              "      <th>production_countries</th>\n",
              "      <th>imdb_score</th>\n",
              "    </tr>\n",
              "  </thead>\n",
              "  <tbody>\n",
              "    <tr>\n",
              "      <th>0</th>\n",
              "      <td>0</td>\n",
              "      <td>tm84618</td>\n",
              "      <td>Taxi Driver</td>\n",
              "      <td>1976</td>\n",
              "      <td>R</td>\n",
              "      <td>114</td>\n",
              "      <td>['drama', 'crime']</td>\n",
              "      <td>['US']</td>\n",
              "      <td>8.2</td>\n",
              "    </tr>\n",
              "    <tr>\n",
              "      <th>1</th>\n",
              "      <td>1</td>\n",
              "      <td>tm154986</td>\n",
              "      <td>Deliverance</td>\n",
              "      <td>1972</td>\n",
              "      <td>R</td>\n",
              "      <td>109</td>\n",
              "      <td>['drama', 'action', 'thriller', 'european']</td>\n",
              "      <td>['US']</td>\n",
              "      <td>7.7</td>\n",
              "    </tr>\n",
              "    <tr>\n",
              "      <th>2</th>\n",
              "      <td>2</td>\n",
              "      <td>tm127384</td>\n",
              "      <td>Monty Python and the Holy Grail</td>\n",
              "      <td>1975</td>\n",
              "      <td>PG</td>\n",
              "      <td>91</td>\n",
              "      <td>['fantasy', 'action', 'comedy']</td>\n",
              "      <td>['GB']</td>\n",
              "      <td>8.2</td>\n",
              "    </tr>\n",
              "    <tr>\n",
              "      <th>3</th>\n",
              "      <td>3</td>\n",
              "      <td>tm120801</td>\n",
              "      <td>The Dirty Dozen</td>\n",
              "      <td>1967</td>\n",
              "      <td>NaN</td>\n",
              "      <td>150</td>\n",
              "      <td>['war', 'action']</td>\n",
              "      <td>['GB', 'US']</td>\n",
              "      <td>7.7</td>\n",
              "    </tr>\n",
              "    <tr>\n",
              "      <th>4</th>\n",
              "      <td>4</td>\n",
              "      <td>tm70993</td>\n",
              "      <td>Life of Brian</td>\n",
              "      <td>1979</td>\n",
              "      <td>R</td>\n",
              "      <td>94</td>\n",
              "      <td>['comedy']</td>\n",
              "      <td>['GB']</td>\n",
              "      <td>8.0</td>\n",
              "    </tr>\n",
              "  </tbody>\n",
              "</table>\n",
              "</div>\n",
              "    <div class=\"colab-df-buttons\">\n",
              "\n",
              "  <div class=\"colab-df-container\">\n",
              "    <button class=\"colab-df-convert\" onclick=\"convertToInteractive('df-a9d10d8c-abfe-4586-8220-51b10c6e5497')\"\n",
              "            title=\"Convert this dataframe to an interactive table.\"\n",
              "            style=\"display:none;\">\n",
              "\n",
              "  <svg xmlns=\"http://www.w3.org/2000/svg\" height=\"24px\" viewBox=\"0 -960 960 960\">\n",
              "    <path d=\"M120-120v-720h720v720H120Zm60-500h600v-160H180v160Zm220 220h160v-160H400v160Zm0 220h160v-160H400v160ZM180-400h160v-160H180v160Zm440 0h160v-160H620v160ZM180-180h160v-160H180v160Zm440 0h160v-160H620v160Z\"/>\n",
              "  </svg>\n",
              "    </button>\n",
              "\n",
              "  <style>\n",
              "    .colab-df-container {\n",
              "      display:flex;\n",
              "      gap: 12px;\n",
              "    }\n",
              "\n",
              "    .colab-df-convert {\n",
              "      background-color: #E8F0FE;\n",
              "      border: none;\n",
              "      border-radius: 50%;\n",
              "      cursor: pointer;\n",
              "      display: none;\n",
              "      fill: #1967D2;\n",
              "      height: 32px;\n",
              "      padding: 0 0 0 0;\n",
              "      width: 32px;\n",
              "    }\n",
              "\n",
              "    .colab-df-convert:hover {\n",
              "      background-color: #E2EBFA;\n",
              "      box-shadow: 0px 1px 2px rgba(60, 64, 67, 0.3), 0px 1px 3px 1px rgba(60, 64, 67, 0.15);\n",
              "      fill: #174EA6;\n",
              "    }\n",
              "\n",
              "    .colab-df-buttons div {\n",
              "      margin-bottom: 4px;\n",
              "    }\n",
              "\n",
              "    [theme=dark] .colab-df-convert {\n",
              "      background-color: #3B4455;\n",
              "      fill: #D2E3FC;\n",
              "    }\n",
              "\n",
              "    [theme=dark] .colab-df-convert:hover {\n",
              "      background-color: #434B5C;\n",
              "      box-shadow: 0px 1px 3px 1px rgba(0, 0, 0, 0.15);\n",
              "      filter: drop-shadow(0px 1px 2px rgba(0, 0, 0, 0.3));\n",
              "      fill: #FFFFFF;\n",
              "    }\n",
              "  </style>\n",
              "\n",
              "    <script>\n",
              "      const buttonEl =\n",
              "        document.querySelector('#df-a9d10d8c-abfe-4586-8220-51b10c6e5497 button.colab-df-convert');\n",
              "      buttonEl.style.display =\n",
              "        google.colab.kernel.accessAllowed ? 'block' : 'none';\n",
              "\n",
              "      async function convertToInteractive(key) {\n",
              "        const element = document.querySelector('#df-a9d10d8c-abfe-4586-8220-51b10c6e5497');\n",
              "        const dataTable =\n",
              "          await google.colab.kernel.invokeFunction('convertToInteractive',\n",
              "                                                    [key], {});\n",
              "        if (!dataTable) return;\n",
              "\n",
              "        const docLinkHtml = 'Like what you see? Visit the ' +\n",
              "          '<a target=\"_blank\" href=https://colab.research.google.com/notebooks/data_table.ipynb>data table notebook</a>'\n",
              "          + ' to learn more about interactive tables.';\n",
              "        element.innerHTML = '';\n",
              "        dataTable['output_type'] = 'display_data';\n",
              "        await google.colab.output.renderOutput(dataTable, element);\n",
              "        const docLink = document.createElement('div');\n",
              "        docLink.innerHTML = docLinkHtml;\n",
              "        element.appendChild(docLink);\n",
              "      }\n",
              "    </script>\n",
              "  </div>\n",
              "\n",
              "\n",
              "<div id=\"df-7b9a90fb-27eb-4916-8780-c07763f93db9\">\n",
              "  <button class=\"colab-df-quickchart\" onclick=\"quickchart('df-7b9a90fb-27eb-4916-8780-c07763f93db9')\"\n",
              "            title=\"Suggest charts\"\n",
              "            style=\"display:none;\">\n",
              "\n",
              "<svg xmlns=\"http://www.w3.org/2000/svg\" height=\"24px\"viewBox=\"0 0 24 24\"\n",
              "     width=\"24px\">\n",
              "    <g>\n",
              "        <path d=\"M19 3H5c-1.1 0-2 .9-2 2v14c0 1.1.9 2 2 2h14c1.1 0 2-.9 2-2V5c0-1.1-.9-2-2-2zM9 17H7v-7h2v7zm4 0h-2V7h2v10zm4 0h-2v-4h2v4z\"/>\n",
              "    </g>\n",
              "</svg>\n",
              "  </button>\n",
              "\n",
              "<style>\n",
              "  .colab-df-quickchart {\n",
              "      --bg-color: #E8F0FE;\n",
              "      --fill-color: #1967D2;\n",
              "      --hover-bg-color: #E2EBFA;\n",
              "      --hover-fill-color: #174EA6;\n",
              "      --disabled-fill-color: #AAA;\n",
              "      --disabled-bg-color: #DDD;\n",
              "  }\n",
              "\n",
              "  [theme=dark] .colab-df-quickchart {\n",
              "      --bg-color: #3B4455;\n",
              "      --fill-color: #D2E3FC;\n",
              "      --hover-bg-color: #434B5C;\n",
              "      --hover-fill-color: #FFFFFF;\n",
              "      --disabled-bg-color: #3B4455;\n",
              "      --disabled-fill-color: #666;\n",
              "  }\n",
              "\n",
              "  .colab-df-quickchart {\n",
              "    background-color: var(--bg-color);\n",
              "    border: none;\n",
              "    border-radius: 50%;\n",
              "    cursor: pointer;\n",
              "    display: none;\n",
              "    fill: var(--fill-color);\n",
              "    height: 32px;\n",
              "    padding: 0;\n",
              "    width: 32px;\n",
              "  }\n",
              "\n",
              "  .colab-df-quickchart:hover {\n",
              "    background-color: var(--hover-bg-color);\n",
              "    box-shadow: 0 1px 2px rgba(60, 64, 67, 0.3), 0 1px 3px 1px rgba(60, 64, 67, 0.15);\n",
              "    fill: var(--button-hover-fill-color);\n",
              "  }\n",
              "\n",
              "  .colab-df-quickchart-complete:disabled,\n",
              "  .colab-df-quickchart-complete:disabled:hover {\n",
              "    background-color: var(--disabled-bg-color);\n",
              "    fill: var(--disabled-fill-color);\n",
              "    box-shadow: none;\n",
              "  }\n",
              "\n",
              "  .colab-df-spinner {\n",
              "    border: 2px solid var(--fill-color);\n",
              "    border-color: transparent;\n",
              "    border-bottom-color: var(--fill-color);\n",
              "    animation:\n",
              "      spin 1s steps(1) infinite;\n",
              "  }\n",
              "\n",
              "  @keyframes spin {\n",
              "    0% {\n",
              "      border-color: transparent;\n",
              "      border-bottom-color: var(--fill-color);\n",
              "      border-left-color: var(--fill-color);\n",
              "    }\n",
              "    20% {\n",
              "      border-color: transparent;\n",
              "      border-left-color: var(--fill-color);\n",
              "      border-top-color: var(--fill-color);\n",
              "    }\n",
              "    30% {\n",
              "      border-color: transparent;\n",
              "      border-left-color: var(--fill-color);\n",
              "      border-top-color: var(--fill-color);\n",
              "      border-right-color: var(--fill-color);\n",
              "    }\n",
              "    40% {\n",
              "      border-color: transparent;\n",
              "      border-right-color: var(--fill-color);\n",
              "      border-top-color: var(--fill-color);\n",
              "    }\n",
              "    60% {\n",
              "      border-color: transparent;\n",
              "      border-right-color: var(--fill-color);\n",
              "    }\n",
              "    80% {\n",
              "      border-color: transparent;\n",
              "      border-right-color: var(--fill-color);\n",
              "      border-bottom-color: var(--fill-color);\n",
              "    }\n",
              "    90% {\n",
              "      border-color: transparent;\n",
              "      border-bottom-color: var(--fill-color);\n",
              "    }\n",
              "  }\n",
              "</style>\n",
              "\n",
              "  <script>\n",
              "    async function quickchart(key) {\n",
              "      const quickchartButtonEl =\n",
              "        document.querySelector('#' + key + ' button');\n",
              "      quickchartButtonEl.disabled = true;  // To prevent multiple clicks.\n",
              "      quickchartButtonEl.classList.add('colab-df-spinner');\n",
              "      try {\n",
              "        const charts = await google.colab.kernel.invokeFunction(\n",
              "            'suggestCharts', [key], {});\n",
              "      } catch (error) {\n",
              "        console.error('Error during call to suggestCharts:', error);\n",
              "      }\n",
              "      quickchartButtonEl.classList.remove('colab-df-spinner');\n",
              "      quickchartButtonEl.classList.add('colab-df-quickchart-complete');\n",
              "    }\n",
              "    (() => {\n",
              "      let quickchartButtonEl =\n",
              "        document.querySelector('#df-7b9a90fb-27eb-4916-8780-c07763f93db9 button');\n",
              "      quickchartButtonEl.style.display =\n",
              "        google.colab.kernel.accessAllowed ? 'block' : 'none';\n",
              "    })();\n",
              "  </script>\n",
              "</div>\n",
              "\n",
              "    </div>\n",
              "  </div>\n"
            ],
            "application/vnd.google.colaboratory.intrinsic+json": {
              "type": "dataframe",
              "variable_name": "movie_df",
              "summary": "{\n  \"name\": \"movie_df\",\n  \"rows\": 3744,\n  \"fields\": [\n    {\n      \"column\": \"Unnamed: 0\",\n      \"properties\": {\n        \"dtype\": \"number\",\n        \"std\": 1080,\n        \"min\": 0,\n        \"max\": 3743,\n        \"num_unique_values\": 3744,\n        \"samples\": [\n          3399,\n          1114,\n          351\n        ],\n        \"semantic_type\": \"\",\n        \"description\": \"\"\n      }\n    },\n    {\n      \"column\": \"id\",\n      \"properties\": {\n        \"dtype\": \"string\",\n        \"num_unique_values\": 3744,\n        \"samples\": [\n          \"tm1003725\",\n          \"tm247444\",\n          \"tm33729\"\n        ],\n        \"semantic_type\": \"\",\n        \"description\": \"\"\n      }\n    },\n    {\n      \"column\": \"title\",\n      \"properties\": {\n        \"dtype\": \"string\",\n        \"num_unique_values\": 3724,\n        \"samples\": [\n          \"The Guide to the Perfect Family\",\n          \"The Wasteland\",\n          \"Best of Stand-up 2020\"\n        ],\n        \"semantic_type\": \"\",\n        \"description\": \"\"\n      }\n    },\n    {\n      \"column\": \"release_year\",\n      \"properties\": {\n        \"dtype\": \"number\",\n        \"std\": 7,\n        \"min\": 1954,\n        \"max\": 2022,\n        \"num_unique_values\": 62,\n        \"samples\": [\n          2012,\n          2018,\n          1976\n        ],\n        \"semantic_type\": \"\",\n        \"description\": \"\"\n      }\n    },\n    {\n      \"column\": \"age_certification\",\n      \"properties\": {\n        \"dtype\": \"category\",\n        \"num_unique_values\": 5,\n        \"samples\": [\n          \"PG\",\n          \"NC-17\",\n          \"PG-13\"\n        ],\n        \"semantic_type\": \"\",\n        \"description\": \"\"\n      }\n    },\n    {\n      \"column\": \"runtime\",\n      \"properties\": {\n        \"dtype\": \"number\",\n        \"std\": 30,\n        \"min\": 2,\n        \"max\": 240,\n        \"num_unique_values\": 197,\n        \"samples\": [\n          26,\n          73,\n          161\n        ],\n        \"semantic_type\": \"\",\n        \"description\": \"\"\n      }\n    },\n    {\n      \"column\": \"genres\",\n      \"properties\": {\n        \"dtype\": \"category\",\n        \"num_unique_values\": 1105,\n        \"samples\": [\n          \"['scifi', 'animation', 'action']\",\n          \"['comedy', 'romance', 'drama', 'family']\",\n          \"['documentation', 'action']\"\n        ],\n        \"semantic_type\": \"\",\n        \"description\": \"\"\n      }\n    },\n    {\n      \"column\": \"production_countries\",\n      \"properties\": {\n        \"dtype\": \"category\",\n        \"num_unique_values\": 418,\n        \"samples\": [\n          \"['IL', 'US']\",\n          \"['US', 'FR', 'ES']\",\n          \"['GB', 'CA']\"\n        ],\n        \"semantic_type\": \"\",\n        \"description\": \"\"\n      }\n    },\n    {\n      \"column\": \"imdb_score\",\n      \"properties\": {\n        \"dtype\": \"number\",\n        \"std\": 1.1274857464556158,\n        \"min\": 1.5,\n        \"max\": 9.1,\n        \"num_unique_values\": 74,\n        \"samples\": [\n          7.5,\n          1.5,\n          7.8\n        ],\n        \"semantic_type\": \"\",\n        \"description\": \"\"\n      }\n    }\n  ]\n}"
            }
          },
          "metadata": {},
          "execution_count": 9
        }
      ]
    },
    {
      "cell_type": "code",
      "source": [
        "# Replace NaN IMDb scores with None in show_df\n",
        "show_df['imdb_score'] = show_df['imdb_score'].apply(lambda x: None if pd.isnull(x) else x)\n",
        "\n",
        "# Replace NaN IMDb scores with None in movie_df\n",
        "movie_df['imdb_score'] = movie_df['imdb_score'].apply(lambda x: None if pd.isnull(x) else x)"
      ],
      "metadata": {
        "id": "nbsBw2kGf942"
      },
      "execution_count": 10,
      "outputs": []
    },
    {
      "cell_type": "code",
      "source": [
        "# Convert cleaned Pandas DataFrames to Spark DataFrames\n",
        "spark_show_df_cleaned = spark.createDataFrame(show_df)\n",
        "spark_movie_df_cleaned = spark.createDataFrame(movie_df)\n",
        "\n",
        "# Create temporary views for the cleaned Spark DataFrames\n",
        "spark_show_df_cleaned.createOrReplaceTempView(\"showData_cleaned\")\n",
        "spark_movie_df_cleaned.createOrReplaceTempView(\"movieData_cleaned\")"
      ],
      "metadata": {
        "id": "t_dsImEiaJt_"
      },
      "execution_count": 11,
      "outputs": []
    },
    {
      "cell_type": "code",
      "source": [
        "# Display the schema of the Spark DataFrame\n",
        "spark_show_df_cleaned.printSchema()\n",
        "\n"
      ],
      "metadata": {
        "colab": {
          "base_uri": "https://localhost:8080/"
        },
        "id": "SxjopIrGdZL-",
        "outputId": "eafc47a2-3187-4934-c9da-e4cbfa610eb7"
      },
      "execution_count": 12,
      "outputs": [
        {
          "output_type": "stream",
          "name": "stdout",
          "text": [
            "root\n",
            " |-- Unnamed: 0: long (nullable = true)\n",
            " |-- id: string (nullable = true)\n",
            " |-- title: string (nullable = true)\n",
            " |-- release_year: long (nullable = true)\n",
            " |-- age_certification: string (nullable = true)\n",
            " |-- runtime: long (nullable = true)\n",
            " |-- genres: string (nullable = true)\n",
            " |-- production_countries: string (nullable = true)\n",
            " |-- seasons: double (nullable = true)\n",
            " |-- imdb_score: double (nullable = true)\n",
            "\n"
          ]
        }
      ]
    },
    {
      "cell_type": "code",
      "source": [
        "# Display the schema of the Spark DataFrame\n",
        "spark_movie_df_cleaned.printSchema()"
      ],
      "metadata": {
        "colab": {
          "base_uri": "https://localhost:8080/"
        },
        "id": "hd05QRUsdk44",
        "outputId": "b941a2fd-413b-4abd-8571-e925bce0444e"
      },
      "execution_count": 13,
      "outputs": [
        {
          "output_type": "stream",
          "name": "stdout",
          "text": [
            "root\n",
            " |-- Unnamed: 0: long (nullable = true)\n",
            " |-- id: string (nullable = true)\n",
            " |-- title: string (nullable = true)\n",
            " |-- release_year: long (nullable = true)\n",
            " |-- age_certification: string (nullable = true)\n",
            " |-- runtime: long (nullable = true)\n",
            " |-- genres: string (nullable = true)\n",
            " |-- production_countries: string (nullable = true)\n",
            " |-- imdb_score: double (nullable = true)\n",
            "\n"
          ]
        }
      ]
    },
    {
      "cell_type": "markdown",
      "source": [
        "# What are the top-rated TV shows and movies based on IMDb scores?"
      ],
      "metadata": {
        "id": "QcO2Q4UEfIGa"
      }
    },
    {
      "cell_type": "code",
      "source": [
        "# Finding top rated tv shows and movies, excluding rows with NaN IMDb scores\n",
        "top_rated = spark.sql(\"\"\"\n",
        "    SELECT 'TV Show' AS type, title, imdb_score\n",
        "    FROM showData_cleaned\n",
        "    WHERE imdb_score IS NOT NULL AND NOT isnan(imdb_score)\n",
        "    UNION ALL\n",
        "    SELECT 'Movie' AS type, title, imdb_score\n",
        "    FROM movieData_cleaned\n",
        "    WHERE imdb_score IS NOT NULL AND NOT isnan(imdb_score)\n",
        "    ORDER BY imdb_score DESC\n",
        "    LIMIT 10\n",
        "\"\"\")\n",
        "top_rated.show()\n"
      ],
      "metadata": {
        "colab": {
          "base_uri": "https://localhost:8080/"
        },
        "id": "VxSkmmzQeY6t",
        "outputId": "25b1a451-50e6-4a66-d855-c6034dc915ec"
      },
      "execution_count": 14,
      "outputs": [
        {
          "output_type": "stream",
          "name": "stdout",
          "text": [
            "+-------+--------------------+----------+\n",
            "|   type|               title|imdb_score|\n",
            "+-------+--------------------+----------+\n",
            "|TV Show|            #ABtalks|       9.6|\n",
            "|TV Show|        Breaking Bad|       9.5|\n",
            "|TV Show|            Khawatir|       9.5|\n",
            "|TV Show|          Our Planet|       9.3|\n",
            "|TV Show|Avatar: The Last ...|       9.3|\n",
            "|TV Show|          Reply 1988|       9.2|\n",
            "|  Movie|Chhota Bheem & Kr...|       9.1|\n",
            "|  Movie|               Major|       9.1|\n",
            "|TV Show|        Kota Factory|       9.1|\n",
            "|TV Show|           My Mister|       9.1|\n",
            "+-------+--------------------+----------+\n",
            "\n"
          ]
        }
      ]
    },
    {
      "cell_type": "markdown",
      "source": [
        "# Which genres are most common among TV shows and movies?"
      ],
      "metadata": {
        "id": "YCRtCerni8QY"
      }
    },
    {
      "cell_type": "code",
      "source": [
        "result = spark.sql(\"\"\"\n",
        "    SELECT type, trim('\\\"' FROM genre) AS genre, COUNT(*) AS count\n",
        "    FROM\n",
        "      (SELECT 'TV Show' AS type, explode(split(trim('[]' FROM genres), ', ')) AS genre FROM showData_cleaned\n",
        "       UNION ALL\n",
        "       SELECT 'Movie' AS type, explode(split(trim('[]' FROM genres), ', ')) AS genre FROM movieData_cleaned)\n",
        "    WHERE genre != \"\"\n",
        "    GROUP BY type, genre\n",
        "    ORDER BY count DESC\n",
        "\"\"\")\n",
        "# Show the result\n",
        "result.show()"
      ],
      "metadata": {
        "colab": {
          "base_uri": "https://localhost:8080/"
        },
        "id": "Utlau_Rti9XX",
        "outputId": "1a15a475-8495-44b2-c4b0-9a96d3c6244b"
      },
      "execution_count": 15,
      "outputs": [
        {
          "output_type": "stream",
          "name": "stdout",
          "text": [
            "+-------+---------------+-----+\n",
            "|   type|          genre|count|\n",
            "+-------+---------------+-----+\n",
            "|  Movie|        'drama'| 1876|\n",
            "|  Movie|       'comedy'| 1571|\n",
            "|TV Show|        'drama'| 1092|\n",
            "|  Movie|     'thriller'|  825|\n",
            "|TV Show|       'comedy'|  754|\n",
            "|  Movie|       'action'|  718|\n",
            "|  Movie|      'romance'|  698|\n",
            "|  Movie|'documentation'|  611|\n",
            "|  Movie|        'crime'|  545|\n",
            "|TV Show|       'action'|  439|\n",
            "|TV Show|    'animation'|  423|\n",
            "|TV Show|     'thriller'|  403|\n",
            "|TV Show|        'crime'|  391|\n",
            "|TV Show|        'scifi'|  385|\n",
            "|  Movie|       'family'|  351|\n",
            "|  Movie|     'european'|  344|\n",
            "|TV Show|'documentation'|  341|\n",
            "|TV Show|       'family'|  331|\n",
            "|TV Show|      'fantasy'|  315|\n",
            "|  Movie|      'fantasy'|  315|\n",
            "+-------+---------------+-----+\n",
            "only showing top 20 rows\n",
            "\n"
          ]
        }
      ]
    },
    {
      "cell_type": "markdown",
      "source": [
        "# How does the distribution of IMDb scores differ between TV shows and movies?"
      ],
      "metadata": {
        "id": "ocQyUHVvkx44"
      }
    },
    {
      "cell_type": "code",
      "source": [
        "from pyspark.sql.functions import col\n",
        "\n",
        "# Calculate the average IMDb score for TV shows, excluding NaN values\n",
        "tv_show_avg = spark.sql(\"\"\"\n",
        "    SELECT AVG(imdb_score) AS avg_imdb_score\n",
        "    FROM showData_cleaned\n",
        "    WHERE imdb_score IS NOT NULL AND NOT isnan(imdb_score)\n",
        "\"\"\")\n",
        "tv_show_avg_score = tv_show_avg.collect()[0][\"avg_imdb_score\"]\n",
        "\n",
        "# Calculate the average IMDb score for movies, excluding NaN values\n",
        "movie_avg = spark.sql(\"\"\"\n",
        "    SELECT AVG(imdb_score) AS avg_imdb_score\n",
        "    FROM movieData_cleaned\n",
        "    WHERE imdb_score IS NOT NULL AND NOT isnan(imdb_score)\n",
        "\"\"\")\n",
        "movie_avg_score = movie_avg.collect()[0][\"avg_imdb_score\"]\n",
        "\n",
        "# Display the results\n",
        "print(\"Average IMDb score for TV shows:\", tv_show_avg_score)\n",
        "print(\"Average IMDb score for movies:\", movie_avg_score)\n"
      ],
      "metadata": {
        "colab": {
          "base_uri": "https://localhost:8080/"
        },
        "id": "M5-jb-Zet_7k",
        "outputId": "e1e392c0-6c5b-40f1-dc8d-445b5515827b"
      },
      "execution_count": 16,
      "outputs": [
        {
          "output_type": "stream",
          "name": "stdout",
          "text": [
            "Average IMDb score for TV shows: 6.977926766374413\n",
            "Average IMDb score for movies: 6.246748323126284\n"
          ]
        }
      ]
    },
    {
      "cell_type": "code",
      "source": [
        "# Calculate the average IMDb score for TV shows and movies, excluding NaN values\n",
        "result = spark.sql(\"\"\"\n",
        "    SELECT 'All' AS type,\n",
        "           FORMAT_NUMBER(AVG(imdb_score), 2) AS avg_imdb_score\n",
        "    FROM\n",
        "    (\n",
        "        SELECT imdb_score FROM showData_cleaned WHERE NOT isnan(imdb_score)\n",
        "        UNION ALL\n",
        "        SELECT imdb_score FROM movieData_cleaned WHERE NOT isnan(imdb_score)\n",
        "    )\n",
        "\"\"\")\n",
        "result.show()\n"
      ],
      "metadata": {
        "colab": {
          "base_uri": "https://localhost:8080/"
        },
        "id": "linU3G-pjDzl",
        "outputId": "1a82c494-aabc-43e1-d3e3-fff5b0317595"
      },
      "execution_count": 17,
      "outputs": [
        {
          "output_type": "stream",
          "name": "stdout",
          "text": [
            "+----+--------------+\n",
            "|type|avg_imdb_score|\n",
            "+----+--------------+\n",
            "| All|          6.51|\n",
            "+----+--------------+\n",
            "\n"
          ]
        }
      ]
    },
    {
      "cell_type": "markdown",
      "source": [
        "# What is the average runtime of TV shows and movies?"
      ],
      "metadata": {
        "id": "cuIA_weRpF_h"
      }
    },
    {
      "cell_type": "code",
      "source": [
        "result = spark.sql(\"\"\"\n",
        "    SELECT 'TV Show' AS type, AVG(runtime) AS avg_runtime\n",
        "    FROM showData_cleaned\n",
        "    WHERE runtime IS NOT NULL\n",
        "    UNION ALL\n",
        "    SELECT 'Movie' AS type, AVG(runtime) AS avg_runtime\n",
        "    FROM movieData_cleaned\n",
        "    WHERE runtime IS NOT NULL\n",
        "    GROUP BY type\n",
        "\"\"\")\n",
        "result.show()\n"
      ],
      "metadata": {
        "colab": {
          "base_uri": "https://localhost:8080/"
        },
        "id": "jFz63iGZpH8a",
        "outputId": "e289260e-4b9d-4cc5-c29d-be275e94e990"
      },
      "execution_count": 18,
      "outputs": [
        {
          "output_type": "stream",
          "name": "stdout",
          "text": [
            "+-------+------------------+\n",
            "|   type|       avg_runtime|\n",
            "+-------+------------------+\n",
            "|TV Show|38.978157644824314|\n",
            "|  Movie| 98.21367521367522|\n",
            "+-------+------------------+\n",
            "\n"
          ]
        }
      ]
    },
    {
      "cell_type": "markdown",
      "source": [
        "# How has the annual release pattern of TV shows and movies evolved over the span of 10 years, from 2013 to 2022?"
      ],
      "metadata": {
        "id": "mrzkgopqp2yM"
      }
    },
    {
      "cell_type": "code",
      "source": [
        "# Query to count the number of TV shows and movies released each year\n",
        "result = spark.sql(\"\"\"\n",
        "    SELECT type, release_year, COUNT(*) AS count\n",
        "    FROM\n",
        "      (SELECT 'TV Show' AS type, release_year FROM showData_cleaned\n",
        "       UNION ALL\n",
        "       SELECT 'Movie' AS type, release_year FROM movieData_cleaned)\n",
        "    WHERE release_year IS NOT NULL\n",
        "    GROUP BY type, release_year\n",
        "    ORDER BY release_year DESC, type DESC\n",
        "    LIMIT 20\n",
        "\"\"\")\n",
        "\n",
        "# Show the result\n",
        "result.show()\n"
      ],
      "metadata": {
        "colab": {
          "base_uri": "https://localhost:8080/"
        },
        "id": "-_QWWcg-qBKb",
        "outputId": "3844883d-56de-44c8-9982-865d61224646"
      },
      "execution_count": 19,
      "outputs": [
        {
          "output_type": "stream",
          "name": "stdout",
          "text": [
            "+-------+------------+-----+\n",
            "|   type|release_year|count|\n",
            "+-------+------------+-----+\n",
            "|TV Show|        2022|  171|\n",
            "|  Movie|        2022|  200|\n",
            "|TV Show|        2021|  314|\n",
            "|  Movie|        2021|  473|\n",
            "|TV Show|        2020|  314|\n",
            "|  Movie|        2020|  500|\n",
            "|TV Show|        2019|  311|\n",
            "|  Movie|        2019|  525|\n",
            "|TV Show|        2018|  300|\n",
            "|  Movie|        2018|  473|\n",
            "|TV Show|        2017|  179|\n",
            "|  Movie|        2017|  384|\n",
            "|TV Show|        2016|  134|\n",
            "|  Movie|        2016|  228|\n",
            "|TV Show|        2015|   89|\n",
            "|  Movie|        2015|  134|\n",
            "|TV Show|        2014|   44|\n",
            "|  Movie|        2014|  109|\n",
            "|TV Show|        2013|   35|\n",
            "|  Movie|        2013|  100|\n",
            "+-------+------------+-----+\n",
            "\n"
          ]
        }
      ]
    },
    {
      "cell_type": "markdown",
      "source": [
        "# Which countries produce the most TV shows and movies?\n"
      ],
      "metadata": {
        "id": "eJFCsCSCt7ZB"
      }
    },
    {
      "cell_type": "code",
      "source": [
        "# Query to count the number of TV shows and movies produced by each country\n",
        "result = spark.sql(\"\"\"\n",
        "    SELECT production_country,\n",
        "           SUM(CASE WHEN type = 'TV Show' THEN 1 ELSE 0 END) AS tv_count,\n",
        "           SUM(CASE WHEN type = 'Movie' THEN 1 ELSE 0 END) AS movie_count,\n",
        "           COUNT(*) AS total_count\n",
        "    FROM\n",
        "      (SELECT 'TV Show' AS type, explode(split(production_countries, ', ')) AS production_country FROM showData_cleaned\n",
        "       UNION ALL\n",
        "       SELECT 'Movie' AS type, explode(split(production_countries, ', ')) AS production_country FROM movieData_cleaned)\n",
        "    WHERE production_country != \"\" AND production_country NOT LIKE \"%[%\" AND production_country NOT LIKE \"%]%\"\n",
        "    GROUP BY production_country\n",
        "    ORDER BY total_count DESC\n",
        "\"\"\")\n",
        "\n",
        "# Show the result\n",
        "result.show()\n"
      ],
      "metadata": {
        "colab": {
          "base_uri": "https://localhost:8080/"
        },
        "id": "H_5D3ctwuQJv",
        "outputId": "38790678-326c-45c9-fcbf-62a2e6fecc68"
      },
      "execution_count": 20,
      "outputs": [
        {
          "output_type": "stream",
          "name": "stdout",
          "text": [
            "+------------------+--------+-----------+-----------+\n",
            "|production_country|tv_count|movie_count|total_count|\n",
            "+------------------+--------+-----------+-----------+\n",
            "|              'US'|       3|         36|         39|\n",
            "|              'GB'|       0|         34|         34|\n",
            "|              'FR'|       2|         29|         31|\n",
            "|              'DE'|       0|         20|         20|\n",
            "|              'CA'|       0|         11|         11|\n",
            "|              'DK'|       0|         11|         11|\n",
            "|              'NL'|       0|          8|          8|\n",
            "|              'CH'|       0|          7|          7|\n",
            "|              'CN'|       0|          6|          6|\n",
            "|              'ES'|       0|          5|          5|\n",
            "|              'BE'|       0|          5|          5|\n",
            "|              'SE'|       0|          5|          5|\n",
            "|              'MX'|       0|          5|          5|\n",
            "|              'JP'|       1|          3|          4|\n",
            "|              'AU'|       1|          3|          4|\n",
            "|              'LB'|       0|          4|          4|\n",
            "|              'PL'|       0|          4|          4|\n",
            "|              'HU'|       0|          4|          4|\n",
            "|              'QA'|       0|          4|          4|\n",
            "|              'TN'|       1|          2|          3|\n",
            "+------------------+--------+-----------+-----------+\n",
            "only showing top 20 rows\n",
            "\n"
          ]
        }
      ]
    },
    {
      "cell_type": "markdown",
      "source": [
        "# Which age certification (e.g., TV-MA, PG-13) is most common among TV shows and movies?"
      ],
      "metadata": {
        "id": "JH4X5HRBx3CM"
      }
    },
    {
      "cell_type": "code",
      "source": [
        "result = spark.sql(\"\"\"\n",
        "    SELECT age_certification, COUNT(*) AS count\n",
        "    FROM\n",
        "      (SELECT age_certification FROM showData_cleaned WHERE age_certification IS NOT NULL AND age_certification != '' AND age_certification != 'NaN'\n",
        "       UNION ALL\n",
        "       SELECT age_certification FROM movieData_cleaned WHERE age_certification IS NOT NULL AND age_certification != '' AND age_certification != 'NaN')\n",
        "    GROUP BY age_certification\n",
        "    ORDER BY count DESC\n",
        "\"\"\")\n",
        "result.show()\n"
      ],
      "metadata": {
        "colab": {
          "base_uri": "https://localhost:8080/"
        },
        "id": "ps9Eq6hYv8Qw",
        "outputId": "4972e632-11b1-4b5c-f862-ead9fb1f1267"
      },
      "execution_count": 21,
      "outputs": [
        {
          "output_type": "stream",
          "name": "stdout",
          "text": [
            "+-----------------+-----+\n",
            "|age_certification|count|\n",
            "+-----------------+-----+\n",
            "|            TV-MA|  883|\n",
            "|                R|  556|\n",
            "|            TV-14|  474|\n",
            "|            PG-13|  451|\n",
            "|               PG|  233|\n",
            "|            TV-PG|  188|\n",
            "|                G|  124|\n",
            "|            TV-Y7|  120|\n",
            "|             TV-Y|  107|\n",
            "|             TV-G|   79|\n",
            "|            NC-17|   16|\n",
            "+-----------------+-----+\n",
            "\n"
          ]
        }
      ]
    },
    {
      "cell_type": "markdown",
      "source": [
        "# What is the average number of seasons for TV shows in each age certification category?"
      ],
      "metadata": {
        "id": "fG3dawNQ0PWn"
      }
    },
    {
      "cell_type": "code",
      "source": [
        "result = spark.sql(\"\"\"\n",
        "    SELECT age_certification, AVG(seasons) AS avg_seasons\n",
        "    FROM showData_cleaned\n",
        "    WHERE age_certification IS NOT NULL AND age_certification != 'NaN'\n",
        "    GROUP BY age_certification\n",
        "    ORDER BY avg_seasons DESC\n",
        "\"\"\")\n",
        "\n",
        "result.show()\n"
      ],
      "metadata": {
        "colab": {
          "base_uri": "https://localhost:8080/"
        },
        "id": "RTq456Gxx8T2",
        "outputId": "95aef104-72fa-4bd2-91e8-f80174aacbb6"
      },
      "execution_count": 22,
      "outputs": [
        {
          "output_type": "stream",
          "name": "stdout",
          "text": [
            "+-----------------+------------------+\n",
            "|age_certification|       avg_seasons|\n",
            "+-----------------+------------------+\n",
            "|             TV-G|3.6202531645569622|\n",
            "|            TV-Y7|3.3916666666666666|\n",
            "|             TV-Y|3.0373831775700935|\n",
            "|            TV-PG| 2.702127659574468|\n",
            "|            TV-14| 2.413502109704641|\n",
            "|            TV-MA|1.7066817667044167|\n",
            "+-----------------+------------------+\n",
            "\n"
          ]
        }
      ]
    },
    {
      "cell_type": "markdown",
      "source": [
        "# How does the average IMDb score vary by production country for TV shows and movies?"
      ],
      "metadata": {
        "id": "C6s-eGFW1ilH"
      }
    },
    {
      "cell_type": "code",
      "source": [
        "result = spark.sql(\"\"\"\n",
        "    SELECT type, production_country, AVG(imdb_score) AS avg_imdb_score\n",
        "    FROM\n",
        "      (SELECT 'TV Show' AS type, explode(split(production_countries, ', ')) AS production_country, imdb_score FROM showData_cleaned\n",
        "       UNION ALL\n",
        "       SELECT 'Movie' AS type, explode(split(production_countries, ', ')) AS production_country, imdb_score FROM movieData_cleaned)\n",
        "    WHERE production_country != \"\" AND production_country NOT LIKE \"%[%\" AND production_country NOT LIKE \"%]%\" AND imdb_score IS NOT NULL AND NOT isnan(imdb_score)\n",
        "    GROUP BY type, production_country\n",
        "    ORDER BY avg_imdb_score DESC\n",
        "\"\"\")\n",
        "\n",
        "result.show()\n"
      ],
      "metadata": {
        "colab": {
          "base_uri": "https://localhost:8080/"
        },
        "id": "h4Isu08-0VVf",
        "outputId": "33208421-720f-4e79-a850-4037bcca6748"
      },
      "execution_count": 23,
      "outputs": [
        {
          "output_type": "stream",
          "name": "stdout",
          "text": [
            "+-------+------------------+------------------+\n",
            "|   type|production_country|    avg_imdb_score|\n",
            "+-------+------------------+------------------+\n",
            "|  Movie|              'EG'|               8.1|\n",
            "|  Movie|              'BS'|               8.0|\n",
            "|  Movie|              'MW'|               7.6|\n",
            "|  Movie|              'NO'|              7.35|\n",
            "|  Movie|              'LB'|               7.3|\n",
            "|  Movie|              'BR'|               7.2|\n",
            "|  Movie|              'AE'|               7.1|\n",
            "|  Movie|              'UY'|               7.1|\n",
            "|  Movie|              'ES'|7.0200000000000005|\n",
            "|  Movie|              'GH'|               7.0|\n",
            "|  Movie|              'ZA'| 6.949999999999999|\n",
            "|  Movie|              'CH'| 6.914285714285714|\n",
            "|  Movie|              'MX'|              6.88|\n",
            "|TV Show|              'FR'|              6.85|\n",
            "|  Movie|              'IS'| 6.833333333333333|\n",
            "|  Movie|              'SE'|              6.82|\n",
            "|  Movie|              'IR'|               6.8|\n",
            "|  Movie|              'JO'|               6.8|\n",
            "|  Movie|              'RO'|               6.8|\n",
            "|  Movie|              'GR'|               6.8|\n",
            "+-------+------------------+------------------+\n",
            "only showing top 20 rows\n",
            "\n"
          ]
        }
      ]
    },
    {
      "cell_type": "markdown",
      "source": [
        "# Which genres have the highest average IMDb score for TV shows and movies?"
      ],
      "metadata": {
        "id": "AxdqQhdItsCn"
      }
    },
    {
      "cell_type": "code",
      "source": [
        "# Finding the top genres for TV shows, excluding rows with NaN IMDb scores\n",
        "top_genre_tv_shows = spark.sql(\"\"\"\n",
        "    SELECT 'TV Show' AS type, trim('\\\"' FROM genre) AS genre, AVG(imdb_score) AS avg_imdb_score\n",
        "    FROM showData_cleaned\n",
        "    LATERAL VIEW explode(split(trim('[]' FROM genres), ', ')) AS genre\n",
        "    WHERE imdb_score IS NOT NULL AND NOT isnan(imdb_score)\n",
        "    GROUP BY type, genre\n",
        "    ORDER BY avg_imdb_score DESC\n",
        "    LIMIT 1\n",
        "\"\"\")\n",
        "\n",
        "# Finding the top genres for movies, excluding rows with NaN IMDb scores\n",
        "top_genre_movies = spark.sql(\"\"\"\n",
        "    SELECT 'Movie' AS type, trim('\\\"' FROM genre) AS genre, AVG(imdb_score) AS avg_imdb_score\n",
        "    FROM movieData_cleaned\n",
        "    LATERAL VIEW explode(split(trim('[]' FROM genres), ', ')) AS genre\n",
        "    WHERE imdb_score IS NOT NULL AND NOT isnan(imdb_score)\n",
        "    GROUP BY type, genre\n",
        "    ORDER BY avg_imdb_score DESC\n",
        "    LIMIT 1\n",
        "\"\"\")\n",
        "\n",
        "# Combining the results\n",
        "result = top_genre_tv_shows.unionAll(top_genre_movies)\n",
        "result.show()\n"
      ],
      "metadata": {
        "colab": {
          "base_uri": "https://localhost:8080/"
        },
        "id": "jZ9pUAVwKEJv",
        "outputId": "48481a0e-00ed-4f0c-fac8-fd0d99bf88c7"
      },
      "execution_count": 29,
      "outputs": [
        {
          "output_type": "stream",
          "name": "stdout",
          "text": [
            "+-------+---------+-----------------+\n",
            "|   type|    genre|   avg_imdb_score|\n",
            "+-------+---------+-----------------+\n",
            "|TV Show|'history'|7.477064220183486|\n",
            "|  Movie|         |              7.1|\n",
            "+-------+---------+-----------------+\n",
            "\n"
          ]
        }
      ]
    },
    {
      "cell_type": "markdown",
      "source": [
        "# Are there any trends in the average runtime of TV shows and movies over the years?"
      ],
      "metadata": {
        "id": "5XmAEtZrt5FH"
      }
    },
    {
      "cell_type": "code",
      "source": [
        "result = spark.sql(\"\"\"\n",
        "    SELECT type, release_year, AVG(runtime) AS avg_runtime\n",
        "    FROM\n",
        "        (SELECT 'TV Show' AS type, release_year, runtime FROM showData_cleaned\n",
        "         UNION ALL\n",
        "         SELECT 'Movie' AS type, release_year, runtime FROM movieData_cleaned)\n",
        "    GROUP BY type, release_year\n",
        "    ORDER BY release_year, type\n",
        "\"\"\")\n",
        "\n",
        "result.show()"
      ],
      "metadata": {
        "colab": {
          "base_uri": "https://localhost:8080/"
        },
        "id": "uQCZ_iCVt9e5",
        "outputId": "44b5f321-3b30-4b7d-b19b-6b9b085b46fe"
      },
      "execution_count": 32,
      "outputs": [
        {
          "output_type": "stream",
          "name": "stdout",
          "text": [
            "+-------+------------+------------------+\n",
            "|   type|release_year|       avg_runtime|\n",
            "+-------+------------+------------------+\n",
            "|TV Show|        1945|              51.0|\n",
            "|  Movie|        1954|             107.5|\n",
            "|  Movie|        1956|             120.0|\n",
            "|  Movie|        1958|              77.0|\n",
            "|  Movie|        1959|             142.0|\n",
            "|  Movie|        1960|             158.0|\n",
            "|  Movie|        1961|             158.0|\n",
            "|  Movie|        1963|             186.0|\n",
            "|  Movie|        1966|             117.0|\n",
            "|  Movie|        1967|             130.0|\n",
            "|  Movie|        1969|             129.0|\n",
            "|TV Show|        1969|              30.0|\n",
            "|  Movie|        1971|             102.0|\n",
            "|  Movie|        1972|             103.0|\n",
            "|TV Show|        1972|              43.0|\n",
            "|  Movie|        1973|             131.0|\n",
            "|  Movie|        1974|             162.0|\n",
            "|  Movie|        1975|             100.5|\n",
            "|  Movie|        1976|124.33333333333333|\n",
            "|  Movie|        1977|             150.0|\n",
            "+-------+------------+------------------+\n",
            "only showing top 20 rows\n",
            "\n"
          ]
        }
      ]
    },
    {
      "cell_type": "markdown",
      "source": [
        "# Which production countries have the highest average runtime for TV shows and movies?"
      ],
      "metadata": {
        "id": "WWTo4OLZt_z7"
      }
    },
    {
      "cell_type": "code",
      "source": [
        "#finding the production countries with the highest average runtime for shows\n",
        "top_countries_tv_shows = spark.sql(\"\"\"\n",
        "    SELECT 'TV Show' AS type, production_countries, AVG(runtime) AS avg_runtime\n",
        "    FROM showData_cleaned\n",
        "    WHERE production_countries IS NOT NULL\n",
        "    GROUP BY type, production_countries\n",
        "    ORDER BY avg_runtime DESC\n",
        "    LIMIT 1\n",
        "\"\"\")\n",
        "\n",
        "#finding the production countries with the highest average runtime for movies\n",
        "top_countries_movies = spark.sql(\"\"\"\n",
        "    SELECT 'Movie' AS type, production_countries, AVG(runtime) AS avg_runtime\n",
        "    FROM movieData_cleaned\n",
        "    WHERE production_countries IS NOT NULL\n",
        "    GROUP BY type, production_countries\n",
        "    ORDER BY avg_runtime DESC\n",
        "    LIMIT 1\n",
        "\"\"\")\n",
        "\n",
        "#combining the results\n",
        "result= top_countries_tv_shows.unionAll(top_countries_movies)\n",
        "result.show()\n"
      ],
      "metadata": {
        "colab": {
          "base_uri": "https://localhost:8080/"
        },
        "id": "_oKXh_y0uDDn",
        "outputId": "4a164b8b-c380-45ab-a58e-52325d41893f"
      },
      "execution_count": 33,
      "outputs": [
        {
          "output_type": "stream",
          "name": "stdout",
          "text": [
            "+-------+--------------------+-----------+\n",
            "|   type|production_countries|avg_runtime|\n",
            "+-------+--------------------+-----------+\n",
            "|TV Show|        ['AR', 'ES']|       73.0|\n",
            "|  Movie|  ['GB', 'US', 'JP']|      208.0|\n",
            "+-------+--------------------+-----------+\n",
            "\n"
          ]
        }
      ]
    },
    {
      "cell_type": "markdown",
      "source": [
        "# How does the distribution of runtime differ between TV shows and movies?"
      ],
      "metadata": {
        "id": "NtG32vAOuEL7"
      }
    },
    {
      "cell_type": "code",
      "source": [
        "result= spark.sql(\"\"\"\n",
        "    SELECT type,\n",
        "           percentile(runtime, 0.25) AS q1,\n",
        "           percentile(runtime, 0.5) AS median,\n",
        "           percentile(runtime, 0.75) AS q3,\n",
        "           avg(runtime) AS mean,\n",
        "           stddev(runtime) AS stddev\n",
        "    FROM\n",
        "        (SELECT 'TV Show' AS type, runtime FROM showData_cleaned\n",
        "         UNION ALL\n",
        "         SELECT 'Movie' AS type, runtime FROM movieData_cleaned)\n",
        "    GROUP BY type\n",
        "\"\"\")\n",
        "\n",
        "result.show()\n"
      ],
      "metadata": {
        "colab": {
          "base_uri": "https://localhost:8080/"
        },
        "id": "BMUYqxIauRWl",
        "outputId": "51cf7a4f-0cc7-4da9-a961-cf8e0f455dae"
      },
      "execution_count": 34,
      "outputs": [
        {
          "output_type": "stream",
          "name": "stdout",
          "text": [
            "+-------+----+------+-----+------------------+------------------+\n",
            "|   type|  q1|median|   q3|              mean|            stddev|\n",
            "+-------+----+------+-----+------------------+------------------+\n",
            "|TV Show|25.0|  41.0| 49.0|38.978157644824314| 17.62635409803705|\n",
            "|  Movie|85.0|  98.0|115.0| 98.21367521367522|30.640639686236884|\n",
            "+-------+----+------+-----+------------------+------------------+\n",
            "\n"
          ]
        }
      ]
    },
    {
      "cell_type": "markdown",
      "source": [
        "# What is the average IMDb score for TV shows and movies released in each year?\n"
      ],
      "metadata": {
        "id": "XREqnU61uTFL"
      }
    },
    {
      "cell_type": "code",
      "source": [
        "result = spark.sql(\"\"\"\n",
        "    SELECT type, release_year, AVG(imdb_score) AS avg_imdb_score\n",
        "    FROM\n",
        "        (SELECT 'TV Show' AS type, release_year, imdb_score FROM showData_cleaned\n",
        "         WHERE imdb_score IS NOT NULL AND NOT isnan(imdb_score)\n",
        "         UNION ALL\n",
        "         SELECT 'Movie' AS type, release_year, imdb_score FROM movieData_cleaned\n",
        "         WHERE imdb_score IS NOT NULL AND NOT isnan(imdb_score))\n",
        "    GROUP BY type, release_year\n",
        "    ORDER BY release_year, type\n",
        "\"\"\")\n",
        "result.show()\n"
      ],
      "metadata": {
        "colab": {
          "base_uri": "https://localhost:8080/"
        },
        "id": "Ez3ftxx4KqOG",
        "outputId": "a7c4697c-6175-4978-921e-e2a0022db5ea"
      },
      "execution_count": 36,
      "outputs": [
        {
          "output_type": "stream",
          "name": "stdout",
          "text": [
            "+-------+------------+-----------------+\n",
            "|   type|release_year|   avg_imdb_score|\n",
            "+-------+------------+-----------------+\n",
            "|  Movie|        1954|             7.45|\n",
            "|  Movie|        1956|              6.7|\n",
            "|  Movie|        1958|              7.5|\n",
            "|  Movie|        1959|              6.6|\n",
            "|  Movie|        1960|              6.4|\n",
            "|  Movie|        1961|              7.5|\n",
            "|  Movie|        1963|              7.6|\n",
            "|  Movie|        1966|              7.3|\n",
            "|  Movie|        1967|              7.7|\n",
            "|  Movie|        1969|              8.1|\n",
            "|TV Show|        1969|              8.8|\n",
            "|  Movie|        1971|              7.7|\n",
            "|  Movie|        1972|             6.95|\n",
            "|TV Show|        1972|              8.1|\n",
            "|  Movie|        1973|              5.1|\n",
            "|  Movie|        1974|              6.5|\n",
            "|  Movie|        1975|              7.3|\n",
            "|  Movie|        1976|6.666666666666667|\n",
            "|  Movie|        1977|              7.5|\n",
            "|  Movie|        1978|              4.4|\n",
            "+-------+------------+-----------------+\n",
            "only showing top 20 rows\n",
            "\n"
          ]
        }
      ]
    },
    {
      "cell_type": "markdown",
      "source": [
        "# Are there any genres that have become more or less popular over the years?"
      ],
      "metadata": {
        "id": "sC2X7LwjwvZa"
      }
    },
    {
      "cell_type": "code",
      "source": [
        "result= spark.sql(\"\"\"\n",
        "    SELECT type, release_year, genre, COUNT(*) AS genre_count\n",
        "    FROM\n",
        "        (SELECT 'TV Show' AS type, release_year, explode(split(trim('[]' FROM genres), ', ')) AS genre FROM showData_cleaned\n",
        "         UNION ALL\n",
        "         SELECT 'Movie' AS type, release_year, explode(split(trim('[]' FROM genres), ', ')) AS genre FROM movieData_cleaned)\n",
        "    WHERE genre != \"\"\n",
        "    GROUP BY type, release_year, genre\n",
        "    ORDER BY release_year, type, genre_count DESC\n",
        "\"\"\")\n",
        "\n",
        "result.show()"
      ],
      "metadata": {
        "colab": {
          "base_uri": "https://localhost:8080/"
        },
        "id": "uMTQ2ofyw8TJ",
        "outputId": "b33b2d02-c439-4434-c143-fd4f9a0ba014"
      },
      "execution_count": 37,
      "outputs": [
        {
          "output_type": "stream",
          "name": "stdout",
          "text": [
            "+-------+------------+---------------+-----------+\n",
            "|   type|release_year|          genre|genre_count|\n",
            "+-------+------------+---------------+-----------+\n",
            "|TV Show|        1945|'documentation'|          1|\n",
            "|  Movie|        1954|      'romance'|          2|\n",
            "|  Movie|        1954|        'crime'|          1|\n",
            "|  Movie|        1954|        'drama'|          1|\n",
            "|  Movie|        1954|       'comedy'|          1|\n",
            "|  Movie|        1956|       'action'|          1|\n",
            "|  Movie|        1956|     'thriller'|          1|\n",
            "|  Movie|        1956|        'drama'|          1|\n",
            "|  Movie|        1956|      'romance'|          1|\n",
            "|  Movie|        1958|        'drama'|          1|\n",
            "|  Movie|        1958|        'crime'|          1|\n",
            "|  Movie|        1958|       'comedy'|          1|\n",
            "|  Movie|        1959|      'romance'|          1|\n",
            "|  Movie|        1959|        'drama'|          1|\n",
            "|  Movie|        1959|        'crime'|          1|\n",
            "|  Movie|        1960|        'crime'|          1|\n",
            "|  Movie|        1960|     'thriller'|          1|\n",
            "|  Movie|        1960|        'drama'|          1|\n",
            "|  Movie|        1961|        'drama'|          1|\n",
            "|  Movie|        1961|          'war'|          1|\n",
            "+-------+------------+---------------+-----------+\n",
            "only showing top 20 rows\n",
            "\n"
          ]
        }
      ]
    },
    {
      "cell_type": "markdown",
      "source": [
        "# Which production countries have the most diverse genres in their TV shows and movies?\n"
      ],
      "metadata": {
        "id": "p482yGAXxTFj"
      }
    },
    {
      "cell_type": "code",
      "source": [
        "result = spark.sql(\"\"\"\n",
        "    SELECT type, production_countries, COUNT(DISTINCT genre) AS unique_genres_count\n",
        "    FROM\n",
        "        (SELECT 'TV Show' AS type, production_countries, explode(split(trim('[]' FROM genres), ', ')) AS genre FROM showData_cleaned\n",
        "         UNION ALL\n",
        "         SELECT 'Movie' AS type, production_countries, explode(split(trim('[]' FROM genres), ', ')) AS genre FROM movieData_cleaned)\n",
        "    WHERE genre != \"\"\n",
        "    GROUP BY type, production_countries\n",
        "    ORDER BY unique_genres_count DESC\n",
        "\"\"\")\n",
        "\n",
        "result.show()"
      ],
      "metadata": {
        "colab": {
          "base_uri": "https://localhost:8080/"
        },
        "id": "1WPIqJVIxMKo",
        "outputId": "d6174aae-25b2-4745-e263-a56c3a92d906"
      },
      "execution_count": 38,
      "outputs": [
        {
          "output_type": "stream",
          "name": "stdout",
          "text": [
            "+-------+--------------------+-------------------+\n",
            "|   type|production_countries|unique_genres_count|\n",
            "+-------+--------------------+-------------------+\n",
            "|  Movie|              ['US']|                 19|\n",
            "|TV Show|              ['US']|                 19|\n",
            "|  Movie|              ['IN']|                 18|\n",
            "|TV Show|              ['JP']|                 18|\n",
            "|TV Show|              ['ES']|                 18|\n",
            "|  Movie|              ['ES']|                 18|\n",
            "|TV Show|              ['GB']|                 18|\n",
            "|  Movie|              ['DE']|                 17|\n",
            "|TV Show|              ['FR']|                 17|\n",
            "|  Movie|        ['GB', 'US']|                 17|\n",
            "|  Movie|              ['CA']|                 17|\n",
            "|  Movie|              ['GB']|                 17|\n",
            "|TV Show|              ['KR']|                 17|\n",
            "|  Movie|              ['FR']|                 17|\n",
            "|TV Show|              ['CA']|                 16|\n",
            "|  Movie|        ['US', 'GB']|                 16|\n",
            "|TV Show|              ['MX']|                 16|\n",
            "|TV Show|              ['IT']|                 16|\n",
            "|  Movie|              ['TR']|                 16|\n",
            "|  Movie|              ['MX']|                 16|\n",
            "+-------+--------------------+-------------------+\n",
            "only showing top 20 rows\n",
            "\n"
          ]
        }
      ]
    },
    {
      "cell_type": "markdown",
      "source": [
        "# Analysis\n",
        "\n",
        "1. The top-rated TV shows and movies based on IMDb scores showcase a diverse range of compelling content. Topping the list is the TV show \"#ABtalks,\" boasting an impressive IMDb score of 9.6. This series likely features engaging interviews or discussions, captivating audiences with its insightful content. Following closely behind is the iconic TV show \"Breaking Bad\" with a rating of 9.5, known for its gripping storyline and exceptional acting. Another standout TV show is \"Khawatir,\" also rated 9.5, which may be celebrated for its emotional depth or cultural significance. These top-rated TV shows exemplify the high-quality storytelling and production values that resonate with audiences worldwide, making them must-watch titles for fans of exceptional television.\n",
        "\n",
        "2. The analysis reveals that drama is the most common genre among both TV shows and movies, with 1,092 TV shows and 1,876 movies falling into this category. Comedy is another popular genre, with 754 TV shows and 1,571 movies classified as comedies. Thriller, action, and romance are also prevalent genres in movies, while animation, sci-fi, and crime are among the more common genres for TV shows. Interestingly, documentaries are more common in movies (611) than in TV shows (341), suggesting a stronger preference for factual storytelling in cinematic formats. This breakdown of genre popularity provides valuable insights into audience preferences and the diversity of content available in the TV and movie landscapes.\n",
        "\n",
        "3. The analysis shows a notable difference in the distribution of IMDb scores between TV shows and movies. On average, TV shows have a higher IMDb score of approximately 6.98, compared to movies which have an average score of approximately 6.25. This suggests that, on average, TV shows are rated more positively by viewers than movies. When considering all titles together, the average IMDb score across both TV shows and movies is approximately 6.51. This comparison highlights the varying reception of TV shows and movies among viewers, indicating potentially different factors at play in audience evaluation between the two types of content.\n",
        "\n",
        "4. The average runtime differs significantly between TV shows and movies. TV shows have an average runtime of approximately 38.98 minutes per episode, while movies have an average runtime of approximately 98.21 minutes per movie. This indicates that TV shows tend to be much shorter in duration compared to movies, which typically have longer running times due to their standalone nature.\n",
        "\n",
        "5. The annual release pattern of TV shows and movies has shown an interesting evolution over the past decade. In 2013, there were 100 movies released compared to 35 TV shows, indicating a higher focus on movies. However, this trend shifted over the years. By 2022, the number of TV show releases surpassed that of movies, with 171 TV shows released compared to 200 movies. This shift suggests a growing emphasis on TV show production and consumption over the years, possibly driven by changing viewer preferences and the rise of streaming platforms offering more TV show content. The data indicates a fluctuating pattern, with some years showing peaks in both TV show and movie releases, while other years have lower numbers, suggesting variations in industry trends and production cycles.\n",
        "\n",
        "6. The data shows that the United States is the largest producer of both TV shows and movies, with 3 TV shows and 36 movies in the dataset. This is not surprising given Hollywood's dominance in the global entertainment industry. The United Kingdom follows closely behind, with 34 movies produced. France, Germany, and Canada also have notable contributions to movie production, with 29, 20, and 11 movies respectively. When considering TV shows alone, France ranks second with 2 TV shows, followed by the United Kingdom with 0 TV shows. This suggests that while the United Kingdom produces a significant number of movies, France has a stronger presence in TV show production among the countries listed. Overall, these countries represent the major players in the global TV show and movie production landscape.\n",
        "\n",
        "7. The most common age certification among TV shows and movies in the dataset is \"TV-MA,\" which stands for \"Mature Audience.\" This certification is often used for content that is specifically designed to be viewed by adults and may contain strong or explicit language, violence, or sexual content. \"TV-MA\" is followed by \"R\" (Restricted), \"TV-14\" (Parents Strongly Cautioned - Some material may be inappropriate for children under 14), and \"PG-13\" (Parents Strongly Cautioned - Some material may be inappropriate for children under 13), indicating a mix of content targeting different age groups. Other certifications such as \"PG\" (Parental Guidance Suggested), \"TV-PG\" (Parental Guidance Suggested - Some material may not be suitable for children), and various TV ratings are also present but are less common compared to the top certifications mentioned above.\n",
        "\n",
        "\n",
        "8. The distribution of IMDb scores between TV shows and movies shows some interesting differences. On average, TV shows tend to have higher IMDb scores compared to movies. The average IMDb score for TV shows in the dataset is approximately 6.98, while for movies, it is around 6.25. This suggests that TV shows in this dataset are generally better rated by viewers than movies. However, when considering all titles (both TV shows and movies) together, the average IMDb score is approximately 6.51, indicating a moderate overall rating across all types of content.\n",
        "\n",
        "9. The average runtime differs significantly between TV shows and movies. TV shows in the dataset have an average runtime of approximately 38.98 minutes per episode, reflecting the typical duration of a single episode in a TV series. On the other hand, movies have a much longer average runtime of around 98.21 minutes per movie, reflecting the longer format of standalone films. These averages suggest that TV shows tend to be shorter in duration compared to movies, which is expected due to the episodic nature of TV series.\n",
        "\n",
        "10. The annual release pattern of TV shows and movies over the past decade, from 2013 to 2022, has shown some interesting trends. In 2013, there were 35 TV shows and 100 movies released. The number of releases generally increased over the years, with peaks in 2019 and 2020. In 2019, there were 311 TV shows and 525 movies released, while in 2020, there were 314 TV shows and 500 movies released. The trend seems to have slightly declined in 2022, with 171 TV shows and 200 movies released. Overall, the data suggests a growing trend in the number of TV shows and movies released annually, with some fluctuations in certain years.\n",
        "\n",
        "11. The analysis of production countries reveals that the United States leads in the production of both TV shows and movies, with a total count of 39 productions. The United Kingdom follows closely behind with 34 productions, predominantly movies. France takes the third spot with 31 productions, including both TV shows and movies. Other countries such as Germany, Canada, and Denmark also contribute to the production, although to a lesser extent. This data highlights the dominance of a few key countries in the global TV show and movie production landscape.\n",
        "\n",
        "12. In terms of age certification, TV-MA (Mature Audience) emerges as the most common certification among TV shows and movies, with a count of 883. This is followed by R-rated productions with a count of 556. TV-14 and PG-13 certifications are also prevalent, with counts of 474 and 451 respectively. These certifications indicate that a significant portion of TV shows and movies cater to mature audiences, with content that may be unsuitable for younger viewers without parental guidance.\n",
        "\n",
        "13. The average number of seasons for TV shows varies across different age certification categories. TV-G shows have the highest average number of seasons at approximately 3.62, followed by TV-Y7 with an average of 3.39 seasons. TV-Y shows have an average of 3.04 seasons, while TV-PG shows have an average of 2.70 seasons. TV-14 shows have an average of 2.41 seasons, and TV-MA shows have the lowest average number of seasons at approximately 1.71. This data suggests that TV shows with more mature content tend to have fewer seasons on average compared to shows with more family-friendly content.\n",
        "\n",
        "14. The average IMDb score varies by production country for both TV shows and movies. For movies, countries like Egypt ('EG'), Bahamas ('BS'), and Malawi ('MW') have some of the highest average IMDb scores at 8.1, 8.0, and 7.6 respectively. For TV shows, France ('FR') leads with an average IMDb score of 6.85. This data indicates that the quality of TV shows and movies, as measured by IMDb scores, can vary significantly depending on the country of production.\n",
        "\n",
        "15. The genres with the highest average IMDb score for TV shows and movies are 'history' and an empty genre category, both with an average IMDb score of 7.1. This suggests that TV shows and movies in the 'history' genre tend to be highly rated by IMDb users, as do productions without a specified genre.\n",
        "\n",
        "16. There are noticeable trends in the average runtime of TV shows and movies over the years. For example, in 1945, the average runtime of a TV show was 51 minutes, while in 1954, the average runtime of a movie was 107.5 minutes. Over the years, there have been fluctuations in the average runtime, with some years showing significant increases or decreases. These trends may be influenced by various factors such as audience preferences, production techniques, and industry standards.\n",
        "\n",
        "17. The production countries with the highest average runtime for TV shows and movies are Argentina and Spain ('AR', 'ES') for TV shows with an average runtime of 73 minutes, and the United Kingdom, United States, and Japan ('GB', 'US', 'JP') for movies with an average runtime of 208 minutes. This data suggests that certain countries tend to produce TV shows and movies with longer runtimes on average compared to others.\n",
        "\n",
        "18. The distribution of runtime differs between TV shows and movies. For TV shows, the first quartile (q1) is 25 minutes, the median is 41 minutes, and the third quartile (q3) is 49 minutes. The mean runtime is approximately 38.98 minutes, with a standard deviation of approximately 17.63 minutes. For movies, the first quartile (q1) is 85 minutes, the median is 98 minutes, and the third quartile (q3) is 115 minutes. The mean runtime is approximately 98.21 minutes, with a standard deviation of approximately 30.64 minutes. These statistics indicate that TV shows generally have shorter runtimes and less variability in runtime compared to movies.\n",
        "\n",
        "19. The average IMDb score varies for TV shows and movies released in each year. For example, movies released in 1954 have an average IMDb score of 7.45, while movies released in 1978 have an average score of 4.4. TV shows also show variation, with a notable spike in 1969, where TV shows released that year have an average IMDb score of 8.8. This data suggests that the quality of TV shows and movies, as measured by IMDb scores, can vary significantly from year to year.\n",
        "\n",
        "20. Examining the genre distribution of TV shows and movies released over the years reveals interesting trends. For example, in 1945, the only genre represented was 'documentation', suggesting a limited range of genres at that time. However, as time progresses, more genres become popular. For instance, in 1954, genres like 'romance', 'crime', 'drama', and 'comedy' start appearing. This trend continues, with new genres being introduced over the years. Some genres may become more popular while others may decline in popularity, reflecting changing audience preferences and industry trends.\n",
        "\n",
        "21. The diversity of genres in TV shows and movies varies across production countries. For instance, productions from the United States and India exhibit the most diverse range of genres, with 19 different genres represented in their content. This diversity suggests a rich and varied cultural and storytelling landscape in these countries' film and television industries. Other countries like Japan, Spain, and the United Kingdom also show a high diversity of genres in their productions, each boasting 18 different genres. This indicates a global trend of diverse storytelling and audience engagement across various cultural contexts.\n",
        "\n",
        "\n",
        "\n",
        "\n",
        "\n"
      ],
      "metadata": {
        "id": "MxwJX1vNLFkh"
      }
    },
    {
      "cell_type": "code",
      "source": [],
      "metadata": {
        "id": "oH3KNQwlOwMk"
      },
      "execution_count": null,
      "outputs": []
    }
  ]
}